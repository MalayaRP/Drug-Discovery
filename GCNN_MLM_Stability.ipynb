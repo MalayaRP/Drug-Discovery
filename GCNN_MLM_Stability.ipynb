{
  "nbformat": 4,
  "nbformat_minor": 0,
  "metadata": {
    "colab": {
      "name": "GCNN MLM Stability.ipynb",
      "provenance": [],
      "collapsed_sections": [],
      "authorship_tag": "ABX9TyMmnf1M6zKYvvDEmRA2V1Ys",
      "include_colab_link": true
    },
    "kernelspec": {
      "name": "python3",
      "display_name": "Python 3"
    },
    "language_info": {
      "name": "python"
    },
    "accelerator": "GPU"
  },
  "cells": [
    {
      "cell_type": "markdown",
      "metadata": {
        "id": "view-in-github",
        "colab_type": "text"
      },
      "source": [
        "<a href=\"https://colab.research.google.com/github/MalayaRP/Drug-Discovery/blob/main/GCNN_MLM_Stability.ipynb\" target=\"_parent\"><img src=\"https://colab.research.google.com/assets/colab-badge.svg\" alt=\"Open In Colab\"/></a>"
      ]
    },
    {
      "cell_type": "code",
      "source": [
        "import pandas as pd\n"
      ],
      "metadata": {
        "id": "5jxq_HSHLOr8"
      },
      "execution_count": 2,
      "outputs": []
    },
    {
      "cell_type": "code",
      "execution_count": 3,
      "metadata": {
        "id": "oGyc9DjtkTQZ"
      },
      "outputs": [],
      "source": [
        "##Get the MLM data\n",
        "dataurl = \"https://raw.githubusercontent.com/MalayaRP/Drug-Discovery/main/MLM_Data.txt\"\n",
        "df = pd.read_csv(dataurl, sep=\"\\t\")"
      ]
    },
    {
      "cell_type": "code",
      "source": [
        "df = df[[\"Smiles\", \"Stable\"]]\n",
        "df"
      ],
      "metadata": {
        "colab": {
          "base_uri": "https://localhost:8080/",
          "height": 423
        },
        "id": "RRkodnSrJAPk",
        "outputId": "9388ca0d-62d0-40c0-f221-3b1d5ecff3e1"
      },
      "execution_count": 4,
      "outputs": [
        {
          "output_type": "execute_result",
          "data": {
            "text/plain": [
              "                                                Smiles  Stable\n",
              "0    Cc1c2[nH]ncc2cc(CC(c2ncc3n2CCN(Cc2ccccc2)C3)OC...       0\n",
              "1    C[C@H](C[C@H]([C@@H](C(C)(C)O)OC(C)=O)O[C@@H]1...       0\n",
              "2    Cc1c2[nH]ncc2cc(CC(c2ncc(C3)n2CCN3C2CCCCC2)OC(...       0\n",
              "3    CC[C@H](CC[C@H]1C(N(CC2)CCN2C(C)=O)=O)N1C(C(S1...       0\n",
              "4    Cc1c2[nH]ncc2cc(CC(c2nccn2Cc2cc(Cl)nc(C)c2)NC(...       0\n",
              "..                                                 ...     ...\n",
              "566                           CCOc(cc1)cc(O2)c1C=CC2=O       0\n",
              "567                               COc(cccc1)c1OCC(CO)O       1\n",
              "568                                  CCCc1nc2ccccc2cc1       0\n",
              "569                               COc1cccc(N2O)c1NC2=O       1\n",
              "570                           ON(c1cc(F)cc(F)c1N1)C1=O       1\n",
              "\n",
              "[571 rows x 2 columns]"
            ],
            "text/html": [
              "\n",
              "  <div id=\"df-edf6a485-2ffa-4004-bc93-4e88f9781534\">\n",
              "    <div class=\"colab-df-container\">\n",
              "      <div>\n",
              "<style scoped>\n",
              "    .dataframe tbody tr th:only-of-type {\n",
              "        vertical-align: middle;\n",
              "    }\n",
              "\n",
              "    .dataframe tbody tr th {\n",
              "        vertical-align: top;\n",
              "    }\n",
              "\n",
              "    .dataframe thead th {\n",
              "        text-align: right;\n",
              "    }\n",
              "</style>\n",
              "<table border=\"1\" class=\"dataframe\">\n",
              "  <thead>\n",
              "    <tr style=\"text-align: right;\">\n",
              "      <th></th>\n",
              "      <th>Smiles</th>\n",
              "      <th>Stable</th>\n",
              "    </tr>\n",
              "  </thead>\n",
              "  <tbody>\n",
              "    <tr>\n",
              "      <th>0</th>\n",
              "      <td>Cc1c2[nH]ncc2cc(CC(c2ncc3n2CCN(Cc2ccccc2)C3)OC...</td>\n",
              "      <td>0</td>\n",
              "    </tr>\n",
              "    <tr>\n",
              "      <th>1</th>\n",
              "      <td>C[C@H](C[C@H]([C@@H](C(C)(C)O)OC(C)=O)O[C@@H]1...</td>\n",
              "      <td>0</td>\n",
              "    </tr>\n",
              "    <tr>\n",
              "      <th>2</th>\n",
              "      <td>Cc1c2[nH]ncc2cc(CC(c2ncc(C3)n2CCN3C2CCCCC2)OC(...</td>\n",
              "      <td>0</td>\n",
              "    </tr>\n",
              "    <tr>\n",
              "      <th>3</th>\n",
              "      <td>CC[C@H](CC[C@H]1C(N(CC2)CCN2C(C)=O)=O)N1C(C(S1...</td>\n",
              "      <td>0</td>\n",
              "    </tr>\n",
              "    <tr>\n",
              "      <th>4</th>\n",
              "      <td>Cc1c2[nH]ncc2cc(CC(c2nccn2Cc2cc(Cl)nc(C)c2)NC(...</td>\n",
              "      <td>0</td>\n",
              "    </tr>\n",
              "    <tr>\n",
              "      <th>...</th>\n",
              "      <td>...</td>\n",
              "      <td>...</td>\n",
              "    </tr>\n",
              "    <tr>\n",
              "      <th>566</th>\n",
              "      <td>CCOc(cc1)cc(O2)c1C=CC2=O</td>\n",
              "      <td>0</td>\n",
              "    </tr>\n",
              "    <tr>\n",
              "      <th>567</th>\n",
              "      <td>COc(cccc1)c1OCC(CO)O</td>\n",
              "      <td>1</td>\n",
              "    </tr>\n",
              "    <tr>\n",
              "      <th>568</th>\n",
              "      <td>CCCc1nc2ccccc2cc1</td>\n",
              "      <td>0</td>\n",
              "    </tr>\n",
              "    <tr>\n",
              "      <th>569</th>\n",
              "      <td>COc1cccc(N2O)c1NC2=O</td>\n",
              "      <td>1</td>\n",
              "    </tr>\n",
              "    <tr>\n",
              "      <th>570</th>\n",
              "      <td>ON(c1cc(F)cc(F)c1N1)C1=O</td>\n",
              "      <td>1</td>\n",
              "    </tr>\n",
              "  </tbody>\n",
              "</table>\n",
              "<p>571 rows × 2 columns</p>\n",
              "</div>\n",
              "      <button class=\"colab-df-convert\" onclick=\"convertToInteractive('df-edf6a485-2ffa-4004-bc93-4e88f9781534')\"\n",
              "              title=\"Convert this dataframe to an interactive table.\"\n",
              "              style=\"display:none;\">\n",
              "        \n",
              "  <svg xmlns=\"http://www.w3.org/2000/svg\" height=\"24px\"viewBox=\"0 0 24 24\"\n",
              "       width=\"24px\">\n",
              "    <path d=\"M0 0h24v24H0V0z\" fill=\"none\"/>\n",
              "    <path d=\"M18.56 5.44l.94 2.06.94-2.06 2.06-.94-2.06-.94-.94-2.06-.94 2.06-2.06.94zm-11 1L8.5 8.5l.94-2.06 2.06-.94-2.06-.94L8.5 2.5l-.94 2.06-2.06.94zm10 10l.94 2.06.94-2.06 2.06-.94-2.06-.94-.94-2.06-.94 2.06-2.06.94z\"/><path d=\"M17.41 7.96l-1.37-1.37c-.4-.4-.92-.59-1.43-.59-.52 0-1.04.2-1.43.59L10.3 9.45l-7.72 7.72c-.78.78-.78 2.05 0 2.83L4 21.41c.39.39.9.59 1.41.59.51 0 1.02-.2 1.41-.59l7.78-7.78 2.81-2.81c.8-.78.8-2.07 0-2.86zM5.41 20L4 18.59l7.72-7.72 1.47 1.35L5.41 20z\"/>\n",
              "  </svg>\n",
              "      </button>\n",
              "      \n",
              "  <style>\n",
              "    .colab-df-container {\n",
              "      display:flex;\n",
              "      flex-wrap:wrap;\n",
              "      gap: 12px;\n",
              "    }\n",
              "\n",
              "    .colab-df-convert {\n",
              "      background-color: #E8F0FE;\n",
              "      border: none;\n",
              "      border-radius: 50%;\n",
              "      cursor: pointer;\n",
              "      display: none;\n",
              "      fill: #1967D2;\n",
              "      height: 32px;\n",
              "      padding: 0 0 0 0;\n",
              "      width: 32px;\n",
              "    }\n",
              "\n",
              "    .colab-df-convert:hover {\n",
              "      background-color: #E2EBFA;\n",
              "      box-shadow: 0px 1px 2px rgba(60, 64, 67, 0.3), 0px 1px 3px 1px rgba(60, 64, 67, 0.15);\n",
              "      fill: #174EA6;\n",
              "    }\n",
              "\n",
              "    [theme=dark] .colab-df-convert {\n",
              "      background-color: #3B4455;\n",
              "      fill: #D2E3FC;\n",
              "    }\n",
              "\n",
              "    [theme=dark] .colab-df-convert:hover {\n",
              "      background-color: #434B5C;\n",
              "      box-shadow: 0px 1px 3px 1px rgba(0, 0, 0, 0.15);\n",
              "      filter: drop-shadow(0px 1px 2px rgba(0, 0, 0, 0.3));\n",
              "      fill: #FFFFFF;\n",
              "    }\n",
              "  </style>\n",
              "\n",
              "      <script>\n",
              "        const buttonEl =\n",
              "          document.querySelector('#df-edf6a485-2ffa-4004-bc93-4e88f9781534 button.colab-df-convert');\n",
              "        buttonEl.style.display =\n",
              "          google.colab.kernel.accessAllowed ? 'block' : 'none';\n",
              "\n",
              "        async function convertToInteractive(key) {\n",
              "          const element = document.querySelector('#df-edf6a485-2ffa-4004-bc93-4e88f9781534');\n",
              "          const dataTable =\n",
              "            await google.colab.kernel.invokeFunction('convertToInteractive',\n",
              "                                                     [key], {});\n",
              "          if (!dataTable) return;\n",
              "\n",
              "          const docLinkHtml = 'Like what you see? Visit the ' +\n",
              "            '<a target=\"_blank\" href=https://colab.research.google.com/notebooks/data_table.ipynb>data table notebook</a>'\n",
              "            + ' to learn more about interactive tables.';\n",
              "          element.innerHTML = '';\n",
              "          dataTable['output_type'] = 'display_data';\n",
              "          await google.colab.output.renderOutput(dataTable, element);\n",
              "          const docLink = document.createElement('div');\n",
              "          docLink.innerHTML = docLinkHtml;\n",
              "          element.appendChild(docLink);\n",
              "        }\n",
              "      </script>\n",
              "    </div>\n",
              "  </div>\n",
              "  "
            ]
          },
          "metadata": {},
          "execution_count": 4
        }
      ]
    },
    {
      "cell_type": "code",
      "source": [
        "df[\"Stable\"].value_counts()"
      ],
      "metadata": {
        "colab": {
          "base_uri": "https://localhost:8080/"
        },
        "id": "ZrfulFfcLbU8",
        "outputId": "cb7a25c8-91f4-4fbb-b2dd-d57d265ace42"
      },
      "execution_count": 5,
      "outputs": [
        {
          "output_type": "execute_result",
          "data": {
            "text/plain": [
              "0    462\n",
              "1    109\n",
              "Name: Stable, dtype: int64"
            ]
          },
          "metadata": {},
          "execution_count": 5
        }
      ]
    },
    {
      "cell_type": "code",
      "source": [
        "pip install dgl dglgo -f https://data.dgl.ai/wheels/repo.html"
      ],
      "metadata": {
        "colab": {
          "base_uri": "https://localhost:8080/",
          "height": 1000
        },
        "id": "dXfZGolxOlgI",
        "outputId": "0131653a-d3b4-448c-e519-547fb7169668"
      },
      "execution_count": 6,
      "outputs": [
        {
          "output_type": "stream",
          "name": "stdout",
          "text": [
            "Looking in links: https://data.dgl.ai/wheels/repo.html\n",
            "Collecting dgl\n",
            "  Downloading https://data.dgl.ai/wheels/dgl-0.8.1-cp37-cp37m-manylinux1_x86_64.whl (6.2 MB)\n",
            "\u001b[K     |████████████████████████████████| 6.2 MB 8.2 MB/s \n",
            "\u001b[?25hCollecting dglgo\n",
            "  Downloading dglgo-0.0.1-py3-none-any.whl (77 kB)\n",
            "\u001b[K     |████████████████████████████████| 77 kB 2.6 MB/s \n",
            "\u001b[?25hRequirement already satisfied: requests>=2.19.0 in /usr/local/lib/python3.7/dist-packages (from dgl) (2.23.0)\n",
            "Requirement already satisfied: scipy>=1.1.0 in /usr/local/lib/python3.7/dist-packages (from dgl) (1.4.1)\n",
            "Requirement already satisfied: numpy>=1.14.0 in /usr/local/lib/python3.7/dist-packages (from dgl) (1.21.6)\n",
            "Requirement already satisfied: tqdm in /usr/local/lib/python3.7/dist-packages (from dgl) (4.64.0)\n",
            "Requirement already satisfied: networkx>=2.1 in /usr/local/lib/python3.7/dist-packages (from dgl) (2.6.3)\n",
            "Requirement already satisfied: chardet<4,>=3.0.2 in /usr/local/lib/python3.7/dist-packages (from requests>=2.19.0->dgl) (3.0.4)\n",
            "Requirement already satisfied: urllib3!=1.25.0,!=1.25.1,<1.26,>=1.21.1 in /usr/local/lib/python3.7/dist-packages (from requests>=2.19.0->dgl) (1.24.3)\n",
            "Requirement already satisfied: idna<3,>=2.5 in /usr/local/lib/python3.7/dist-packages (from requests>=2.19.0->dgl) (2.10)\n",
            "Requirement already satisfied: certifi>=2017.4.17 in /usr/local/lib/python3.7/dist-packages (from requests>=2.19.0->dgl) (2021.10.8)\n",
            "Collecting ruamel.yaml>=0.17.20\n",
            "  Downloading ruamel.yaml-0.17.21-py3-none-any.whl (109 kB)\n",
            "\u001b[K     |████████████████████████████████| 109 kB 6.1 MB/s \n",
            "\u001b[?25hCollecting autopep8>=1.6.0\n",
            "  Downloading autopep8-1.6.0-py2.py3-none-any.whl (45 kB)\n",
            "\u001b[K     |████████████████████████████████| 45 kB 1.9 MB/s \n",
            "\u001b[?25hCollecting pydantic>=1.9.0\n",
            "  Downloading pydantic-1.9.0-cp37-cp37m-manylinux_2_17_x86_64.manylinux2014_x86_64.whl (10.9 MB)\n",
            "\u001b[K     |████████████████████████████████| 10.9 MB 9.1 MB/s \n",
            "\u001b[?25hCollecting PyYAML>=5.1\n",
            "  Downloading PyYAML-6.0-cp37-cp37m-manylinux_2_5_x86_64.manylinux1_x86_64.manylinux_2_12_x86_64.manylinux2010_x86_64.whl (596 kB)\n",
            "\u001b[K     |████████████████████████████████| 596 kB 34.7 MB/s \n",
            "\u001b[?25hCollecting isort>=5.10.1\n",
            "  Downloading isort-5.10.1-py3-none-any.whl (103 kB)\n",
            "\u001b[K     |████████████████████████████████| 103 kB 35.3 MB/s \n",
            "\u001b[?25hCollecting typer>=0.4.0\n",
            "  Downloading typer-0.4.1-py3-none-any.whl (27 kB)\n",
            "Collecting numpydoc>=1.1.0\n",
            "  Downloading numpydoc-1.3.1-py3-none-any.whl (51 kB)\n",
            "\u001b[K     |████████████████████████████████| 51 kB 214 kB/s \n",
            "\u001b[?25hCollecting toml\n",
            "  Downloading toml-0.10.2-py2.py3-none-any.whl (16 kB)\n",
            "Collecting pycodestyle>=2.8.0\n",
            "  Downloading pycodestyle-2.8.0-py2.py3-none-any.whl (42 kB)\n",
            "\u001b[K     |████████████████████████████████| 42 kB 742 kB/s \n",
            "\u001b[?25hCollecting sphinx>=3.0\n",
            "  Downloading Sphinx-4.5.0-py3-none-any.whl (3.1 MB)\n",
            "\u001b[K     |████████████████████████████████| 3.1 MB 34.6 MB/s \n",
            "\u001b[?25hRequirement already satisfied: Jinja2>=2.10 in /usr/local/lib/python3.7/dist-packages (from numpydoc>=1.1.0->dglgo) (2.11.3)\n",
            "Requirement already satisfied: MarkupSafe>=0.23 in /usr/local/lib/python3.7/dist-packages (from Jinja2>=2.10->numpydoc>=1.1.0->dglgo) (2.0.1)\n",
            "Requirement already satisfied: typing-extensions>=3.7.4.3 in /usr/local/lib/python3.7/dist-packages (from pydantic>=1.9.0->dglgo) (4.2.0)\n",
            "Collecting ruamel.yaml.clib>=0.2.6\n",
            "  Downloading ruamel.yaml.clib-0.2.6-cp37-cp37m-manylinux1_x86_64.whl (546 kB)\n",
            "\u001b[K     |████████████████████████████████| 546 kB 39.1 MB/s \n",
            "\u001b[?25hRequirement already satisfied: docutils<0.18,>=0.14 in /usr/local/lib/python3.7/dist-packages (from sphinx>=3.0->numpydoc>=1.1.0->dglgo) (0.17.1)\n",
            "Collecting sphinxcontrib-devhelp\n",
            "  Downloading sphinxcontrib_devhelp-1.0.2-py2.py3-none-any.whl (84 kB)\n",
            "\u001b[K     |████████████████████████████████| 84 kB 3.2 MB/s \n",
            "\u001b[?25hRequirement already satisfied: babel>=1.3 in /usr/local/lib/python3.7/dist-packages (from sphinx>=3.0->numpydoc>=1.1.0->dglgo) (2.10.1)\n",
            "Collecting sphinxcontrib-qthelp\n",
            "  Downloading sphinxcontrib_qthelp-1.0.3-py2.py3-none-any.whl (90 kB)\n",
            "\u001b[K     |████████████████████████████████| 90 kB 7.3 MB/s \n",
            "\u001b[?25hRequirement already satisfied: imagesize in /usr/local/lib/python3.7/dist-packages (from sphinx>=3.0->numpydoc>=1.1.0->dglgo) (1.3.0)\n",
            "Requirement already satisfied: importlib-metadata>=4.4 in /usr/local/lib/python3.7/dist-packages (from sphinx>=3.0->numpydoc>=1.1.0->dglgo) (4.11.3)\n",
            "Requirement already satisfied: alabaster<0.8,>=0.7 in /usr/local/lib/python3.7/dist-packages (from sphinx>=3.0->numpydoc>=1.1.0->dglgo) (0.7.12)\n",
            "Requirement already satisfied: Pygments>=2.0 in /usr/local/lib/python3.7/dist-packages (from sphinx>=3.0->numpydoc>=1.1.0->dglgo) (2.6.1)\n",
            "Collecting sphinxcontrib-applehelp\n",
            "  Downloading sphinxcontrib_applehelp-1.0.2-py2.py3-none-any.whl (121 kB)\n",
            "\u001b[K     |████████████████████████████████| 121 kB 34.9 MB/s \n",
            "\u001b[?25hRequirement already satisfied: packaging in /usr/local/lib/python3.7/dist-packages (from sphinx>=3.0->numpydoc>=1.1.0->dglgo) (21.3)\n",
            "Requirement already satisfied: snowballstemmer>=1.1 in /usr/local/lib/python3.7/dist-packages (from sphinx>=3.0->numpydoc>=1.1.0->dglgo) (2.2.0)\n",
            "Requirement already satisfied: sphinxcontrib-serializinghtml>=1.1.5 in /usr/local/lib/python3.7/dist-packages (from sphinx>=3.0->numpydoc>=1.1.0->dglgo) (1.1.5)\n",
            "Collecting sphinxcontrib-jsmath\n",
            "  Downloading sphinxcontrib_jsmath-1.0.1-py2.py3-none-any.whl (5.1 kB)\n",
            "Collecting sphinxcontrib-htmlhelp>=2.0.0\n",
            "  Downloading sphinxcontrib_htmlhelp-2.0.0-py2.py3-none-any.whl (100 kB)\n",
            "\u001b[K     |████████████████████████████████| 100 kB 6.0 MB/s \n",
            "\u001b[?25hRequirement already satisfied: pytz>=2015.7 in /usr/local/lib/python3.7/dist-packages (from babel>=1.3->sphinx>=3.0->numpydoc>=1.1.0->dglgo) (2022.1)\n",
            "Requirement already satisfied: zipp>=0.5 in /usr/local/lib/python3.7/dist-packages (from importlib-metadata>=4.4->sphinx>=3.0->numpydoc>=1.1.0->dglgo) (3.8.0)\n",
            "Requirement already satisfied: click<9.0.0,>=7.1.1 in /usr/local/lib/python3.7/dist-packages (from typer>=0.4.0->dglgo) (7.1.2)\n",
            "Requirement already satisfied: pyparsing!=3.0.5,>=2.0.2 in /usr/local/lib/python3.7/dist-packages (from packaging->sphinx>=3.0->numpydoc>=1.1.0->dglgo) (3.0.8)\n",
            "Installing collected packages: sphinxcontrib-qthelp, sphinxcontrib-jsmath, sphinxcontrib-htmlhelp, sphinxcontrib-devhelp, sphinxcontrib-applehelp, toml, sphinx, ruamel.yaml.clib, pycodestyle, typer, ruamel.yaml, PyYAML, pydantic, numpydoc, isort, autopep8, dglgo, dgl\n",
            "  Attempting uninstall: sphinx\n",
            "    Found existing installation: Sphinx 1.8.6\n",
            "    Uninstalling Sphinx-1.8.6:\n",
            "      Successfully uninstalled Sphinx-1.8.6\n",
            "  Attempting uninstall: PyYAML\n",
            "    Found existing installation: PyYAML 3.13\n",
            "    Uninstalling PyYAML-3.13:\n",
            "      Successfully uninstalled PyYAML-3.13\n",
            "\u001b[31mERROR: pip's dependency resolver does not currently take into account all the packages that are installed. This behaviour is the source of the following dependency conflicts.\n",
            "datascience 0.10.6 requires folium==0.2.1, but you have folium 0.8.3 which is incompatible.\u001b[0m\n",
            "Successfully installed PyYAML-6.0 autopep8-1.6.0 dgl-0.8.1 dglgo-0.0.1 isort-5.10.1 numpydoc-1.3.1 pycodestyle-2.8.0 pydantic-1.9.0 ruamel.yaml-0.17.21 ruamel.yaml.clib-0.2.6 sphinx-4.5.0 sphinxcontrib-applehelp-1.0.2 sphinxcontrib-devhelp-1.0.2 sphinxcontrib-htmlhelp-2.0.0 sphinxcontrib-jsmath-1.0.1 sphinxcontrib-qthelp-1.0.3 toml-0.10.2 typer-0.4.1\n"
          ]
        },
        {
          "output_type": "display_data",
          "data": {
            "application/vnd.colab-display-data+json": {
              "pip_warning": {
                "packages": [
                  "sphinxcontrib"
                ]
              }
            }
          },
          "metadata": {}
        }
      ]
    },
    {
      "cell_type": "code",
      "source": [
        "!python --version"
      ],
      "metadata": {
        "colab": {
          "base_uri": "https://localhost:8080/"
        },
        "id": "SOj0KjKaPWG9",
        "outputId": "b3f2eef3-8dae-44bd-90af-2c7c2c406e57"
      },
      "execution_count": 7,
      "outputs": [
        {
          "output_type": "stream",
          "name": "stdout",
          "text": [
            "Python 3.7.13\n"
          ]
        }
      ]
    },
    {
      "cell_type": "code",
      "source": [
        "!pip install rdkit-pypi"
      ],
      "metadata": {
        "colab": {
          "base_uri": "https://localhost:8080/"
        },
        "id": "r73mZbdKPeRF",
        "outputId": "b37c888d-bca0-4cb3-99df-d865ae3d16df"
      },
      "execution_count": 8,
      "outputs": [
        {
          "output_type": "stream",
          "name": "stdout",
          "text": [
            "Collecting rdkit-pypi\n",
            "  Downloading rdkit_pypi-2022.3.2-cp37-cp37m-manylinux_2_17_x86_64.manylinux2014_x86_64.whl (22.5 MB)\n",
            "\u001b[K     |████████████████████████████████| 22.5 MB 5.7 MB/s \n",
            "\u001b[?25hRequirement already satisfied: Pillow in /usr/local/lib/python3.7/dist-packages (from rdkit-pypi) (7.1.2)\n",
            "Requirement already satisfied: numpy in /usr/local/lib/python3.7/dist-packages (from rdkit-pypi) (1.21.6)\n",
            "Installing collected packages: rdkit-pypi\n",
            "Successfully installed rdkit-pypi-2022.3.2\n"
          ]
        }
      ]
    },
    {
      "cell_type": "code",
      "source": [
        "from rdkit import Chem\n",
        "import dgl\n",
        "import numpy as np\n",
        "from numpy import random\n",
        "np.random.seed(1)"
      ],
      "metadata": {
        "colab": {
          "base_uri": "https://localhost:8080/"
        },
        "id": "IP8XRtVEP92C",
        "outputId": "eb4c361e-788a-44c6-ed3c-8355e2e94a06"
      },
      "execution_count": 9,
      "outputs": [
        {
          "output_type": "stream",
          "name": "stderr",
          "text": [
            "DGL backend not selected or invalid.  Assuming PyTorch for now.\n"
          ]
        },
        {
          "output_type": "stream",
          "name": "stdout",
          "text": [
            "Setting the default backend to \"pytorch\". You can change it in the ~/.dgl/config.json file or export the DGLBACKEND environment variable.  Valid options are: pytorch, mxnet, tensorflow (all lowercase)\n"
          ]
        }
      ]
    },
    {
      "cell_type": "code",
      "source": [
        "def smiles2graph(smiles_string):\n",
        "  mol = Chem.MolFromSmiles(smiles_string)\n",
        "  A = Chem.GetAdjacencyMatrix(mol)\n",
        "  A = np.asmatrix(A)\n",
        "  nz = np.nonzero(A)\n",
        "  src, dst = nz[0], nz[1]\n",
        "  g = dgl.graph((src,dst))\n",
        "  return g"
      ],
      "metadata": {
        "id": "ffkOYauMQE3E"
      },
      "execution_count": 10,
      "outputs": []
    },
    {
      "cell_type": "code",
      "source": [
        "graph1 = smiles2graph(\"ON(c1cc(F)cc(F)c1N1)C1=O\")"
      ],
      "metadata": {
        "id": "rfTphg13QIEN"
      },
      "execution_count": 11,
      "outputs": []
    },
    {
      "cell_type": "code",
      "source": [
        "graph1"
      ],
      "metadata": {
        "colab": {
          "base_uri": "https://localhost:8080/"
        },
        "id": "eWxqRo0dQIKL",
        "outputId": "6974b11b-e920-47da-e1af-fd2ac400a6ee"
      },
      "execution_count": 12,
      "outputs": [
        {
          "output_type": "execute_result",
          "data": {
            "text/plain": [
              "Graph(num_nodes=13, num_edges=28,\n",
              "      ndata_schemes={}\n",
              "      edata_schemes={})"
            ]
          },
          "metadata": {},
          "execution_count": 12
        }
      ]
    },
    {
      "cell_type": "code",
      "source": [
        "!pip install networkx"
      ],
      "metadata": {
        "colab": {
          "base_uri": "https://localhost:8080/"
        },
        "id": "yfKXLYuCQINA",
        "outputId": "d2b23b3f-22f8-4588-ade9-9e96a02f7bac"
      },
      "execution_count": 13,
      "outputs": [
        {
          "output_type": "stream",
          "name": "stdout",
          "text": [
            "Requirement already satisfied: networkx in /usr/local/lib/python3.7/dist-packages (2.6.3)\n"
          ]
        }
      ]
    },
    {
      "cell_type": "code",
      "source": [
        "import networkx as nx\n",
        "G = dgl.to_networkx(graph1)\n",
        "nx.draw(G)"
      ],
      "metadata": {
        "colab": {
          "base_uri": "https://localhost:8080/",
          "height": 319
        },
        "id": "2LnJX2n4QIP6",
        "outputId": "9c379b7c-05ee-4f54-8601-3b3f45eb215f"
      },
      "execution_count": 14,
      "outputs": [
        {
          "output_type": "display_data",
          "data": {
            "text/plain": [
              "<Figure size 432x288 with 1 Axes>"
            ],
            "image/png": "[encoded data removed]"
          },
          "metadata": {}
        }
      ]
    },
    {
      "cell_type": "code",
      "source": [
        "!pip install ogb"
      ],
      "metadata": {
        "colab": {
          "base_uri": "https://localhost:8080/"
        },
        "id": "Ib-fVJORUWGQ",
        "outputId": "c0cabba6-5dc1-4973-c105-dbfd12d6a6a2"
      },
      "execution_count": 15,
      "outputs": [
        {
          "output_type": "stream",
          "name": "stdout",
          "text": [
            "Collecting ogb\n",
            "  Downloading ogb-1.3.3-py3-none-any.whl (78 kB)\n",
            "\u001b[?25l\r\u001b[K     |████▏                           | 10 kB 22.1 MB/s eta 0:00:01\r\u001b[K     |████████▍                       | 20 kB 20.7 MB/s eta 0:00:01\r\u001b[K     |████████████▋                   | 30 kB 10.5 MB/s eta 0:00:01\r\u001b[K     |████████████████▊               | 40 kB 4.5 MB/s eta 0:00:01\r\u001b[K     |█████████████████████           | 51 kB 4.6 MB/s eta 0:00:01\r\u001b[K     |█████████████████████████▏      | 61 kB 5.4 MB/s eta 0:00:01\r\u001b[K     |█████████████████████████████▎  | 71 kB 5.8 MB/s eta 0:00:01\r\u001b[K     |████████████████████████████████| 78 kB 3.6 MB/s \n",
            "\u001b[?25hRequirement already satisfied: pandas>=0.24.0 in /usr/local/lib/python3.7/dist-packages (from ogb) (1.3.5)\n",
            "Requirement already satisfied: urllib3>=1.24.0 in /usr/local/lib/python3.7/dist-packages (from ogb) (1.24.3)\n",
            "Requirement already satisfied: six>=1.12.0 in /usr/local/lib/python3.7/dist-packages (from ogb) (1.15.0)\n",
            "Requirement already satisfied: scikit-learn>=0.20.0 in /usr/local/lib/python3.7/dist-packages (from ogb) (1.0.2)\n",
            "Requirement already satisfied: numpy>=1.16.0 in /usr/local/lib/python3.7/dist-packages (from ogb) (1.21.6)\n",
            "Collecting outdated>=0.2.0\n",
            "  Downloading outdated-0.2.1-py3-none-any.whl (7.5 kB)\n",
            "Requirement already satisfied: tqdm>=4.29.0 in /usr/local/lib/python3.7/dist-packages (from ogb) (4.64.0)\n",
            "Requirement already satisfied: torch>=1.6.0 in /usr/local/lib/python3.7/dist-packages (from ogb) (1.11.0+cu113)\n",
            "Collecting littleutils\n",
            "  Downloading littleutils-0.2.2.tar.gz (6.6 kB)\n",
            "Requirement already satisfied: requests in /usr/local/lib/python3.7/dist-packages (from outdated>=0.2.0->ogb) (2.23.0)\n",
            "Requirement already satisfied: python-dateutil>=2.7.3 in /usr/local/lib/python3.7/dist-packages (from pandas>=0.24.0->ogb) (2.8.2)\n",
            "Requirement already satisfied: pytz>=2017.3 in /usr/local/lib/python3.7/dist-packages (from pandas>=0.24.0->ogb) (2022.1)\n",
            "Requirement already satisfied: scipy>=1.1.0 in /usr/local/lib/python3.7/dist-packages (from scikit-learn>=0.20.0->ogb) (1.4.1)\n",
            "Requirement already satisfied: joblib>=0.11 in /usr/local/lib/python3.7/dist-packages (from scikit-learn>=0.20.0->ogb) (1.1.0)\n",
            "Requirement already satisfied: threadpoolctl>=2.0.0 in /usr/local/lib/python3.7/dist-packages (from scikit-learn>=0.20.0->ogb) (3.1.0)\n",
            "Requirement already satisfied: typing-extensions in /usr/local/lib/python3.7/dist-packages (from torch>=1.6.0->ogb) (4.2.0)\n",
            "Requirement already satisfied: certifi>=2017.4.17 in /usr/local/lib/python3.7/dist-packages (from requests->outdated>=0.2.0->ogb) (2021.10.8)\n",
            "Requirement already satisfied: chardet<4,>=3.0.2 in /usr/local/lib/python3.7/dist-packages (from requests->outdated>=0.2.0->ogb) (3.0.4)\n",
            "Requirement already satisfied: idna<3,>=2.5 in /usr/local/lib/python3.7/dist-packages (from requests->outdated>=0.2.0->ogb) (2.10)\n",
            "Building wheels for collected packages: littleutils\n",
            "  Building wheel for littleutils (setup.py) ... \u001b[?25l\u001b[?25hdone\n",
            "  Created wheel for littleutils: filename=littleutils-0.2.2-py3-none-any.whl size=7048 sha256=14ed0f1dccdc73b14d8a22703ab050ad85e1febf789666bcb82e7004714541fd\n",
            "  Stored in directory: /root/.cache/pip/wheels/d6/64/cd/32819b511a488e4993f2fab909a95330289c3f4e0f6ef4676d\n",
            "Successfully built littleutils\n",
            "Installing collected packages: littleutils, outdated, ogb\n",
            "Successfully installed littleutils-0.2.2 ogb-1.3.3 outdated-0.2.1\n"
          ]
        }
      ]
    },
    {
      "cell_type": "code",
      "source": [
        "import ogb\n",
        "from ogb import *\n",
        "from ogb.utils.features import atom_to_feature_vector, bond_to_feature_vector"
      ],
      "metadata": {
        "id": "55B3eqoyUWC2"
      },
      "execution_count": 16,
      "outputs": []
    },
    {
      "cell_type": "code",
      "source": [
        "## generate atom features\n",
        "def feat_vec(smiles_string):\n",
        "  mol = Chem.MolFromSmiles(smiles_string)\n",
        "  atom_features_list = []\n",
        "  print(mol.GetAtoms())\n",
        "  for atom in mol.GetAtoms():\n",
        "    atom_features_list.append(atom_to_feature_vector(atom))\n",
        "  x = np.array(atom_features_list, dtype=np.int64)\n",
        "  return x\n"
      ],
      "metadata": {
        "id": "Cxi4lM3nQITO"
      },
      "execution_count": 17,
      "outputs": []
    },
    {
      "cell_type": "code",
      "source": [
        "# from rdkit import Chem\n",
        "# from rdkit.Chem.Draw import IPythonConsole\n",
        "\n",
        "# def show_atom_number(mol, label):\n",
        "#     for atom in mol.GetAtoms():\n",
        "#         atom.SetProp(label, str(atom.GetIdx()+1))\n",
        "#     return mol\n",
        "# mol = Chem.MolFromSmiles('c1ccccc(C(N)=O)1')\n",
        "# show_atom_number(mol, 'atomNote')"
      ],
      "metadata": {
        "id": "jf0bryQYYuHj"
      },
      "execution_count": 18,
      "outputs": []
    },
    {
      "cell_type": "code",
      "source": [
        "vec1 = feat_vec(\"ON(c1cc(F)cc(F)c1N1)C1=O\")"
      ],
      "metadata": {
        "colab": {
          "base_uri": "https://localhost:8080/"
        },
        "id": "UrX86883XaiN",
        "outputId": "7e03eacf-3fe4-4865-d5c3-6050a89209af"
      },
      "execution_count": 19,
      "outputs": [
        {
          "output_type": "stream",
          "name": "stdout",
          "text": [
            "<rdkit.Chem.rdchem._ROAtomSeq object at 0x7f424fb2f6c0>\n"
          ]
        }
      ]
    },
    {
      "cell_type": "code",
      "source": [
        "vec1"
      ],
      "metadata": {
        "colab": {
          "base_uri": "https://localhost:8080/"
        },
        "id": "rxBdVn_LXlvb",
        "outputId": "80df6c24-3a11-4721-f9db-03c6faf3914a"
      },
      "execution_count": 20,
      "outputs": [
        {
          "output_type": "execute_result",
          "data": {
            "text/plain": [
              "array([[7, 0, 2, 5, 1, 0, 1, 0, 0],\n",
              "       [6, 0, 3, 5, 0, 0, 1, 1, 1],\n",
              "       [5, 0, 3, 5, 0, 0, 1, 1, 1],\n",
              "       [5, 0, 3, 5, 1, 0, 1, 1, 1],\n",
              "       [5, 0, 3, 5, 0, 0, 1, 1, 1],\n",
              "       [8, 0, 1, 5, 0, 0, 2, 0, 0],\n",
              "       [5, 0, 3, 5, 1, 0, 1, 1, 1],\n",
              "       [5, 0, 3, 5, 0, 0, 1, 1, 1],\n",
              "       [8, 0, 1, 5, 0, 0, 2, 0, 0],\n",
              "       [5, 0, 3, 5, 0, 0, 1, 1, 1],\n",
              "       [6, 0, 3, 5, 1, 0, 1, 1, 1],\n",
              "       [5, 0, 3, 5, 0, 0, 1, 1, 1],\n",
              "       [7, 0, 1, 5, 0, 0, 1, 0, 0]])"
            ]
          },
          "metadata": {},
          "execution_count": 20
        }
      ]
    },
    {
      "cell_type": "code",
      "source": [
        "import torch"
      ],
      "metadata": {
        "id": "IUMQCq8xbbU4"
      },
      "execution_count": 21,
      "outputs": []
    },
    {
      "cell_type": "code",
      "source": [
        "## ignoring incorrect graphs\n",
        "\n",
        "smiles_list = df[\"Smiles\"].to_list()\n",
        "# smiles_list\n",
        "i = 0\n",
        "graphs = []\n",
        "exceptions = []\n",
        "for smile in smiles_list:\n",
        "  g_mol = smiles2graph(smile)\n",
        "  try:\n",
        "    g_mol.ndata[\"feat\"] = torch.tensor(feat_vec(smile))\n",
        "  except:\n",
        "    exceptions.append(i)\n",
        "  graphs.append(g_mol)\n",
        "  i+=1"
      ],
      "metadata": {
        "id": "mVJDbQgPY8Y0",
        "colab": {
          "base_uri": "https://localhost:8080/"
        },
        "outputId": "d7e5b053-9c42-463f-ef5d-e35eb3596111"
      },
      "execution_count": 22,
      "outputs": [
        {
          "output_type": "stream",
          "name": "stdout",
          "text": [
            "<rdkit.Chem.rdchem._ROAtomSeq object at 0x7f424f2b2e90>\n",
            "<rdkit.Chem.rdchem._ROAtomSeq object at 0x7f424f2c7440>\n",
            "<rdkit.Chem.rdchem._ROAtomSeq object at 0x7f425202bf30>\n",
            "<rdkit.Chem.rdchem._ROAtomSeq object at 0x7f431c286530>\n",
            "<rdkit.Chem.rdchem._ROAtomSeq object at 0x7f424fb11ad0>\n",
            "<rdkit.Chem.rdchem._ROAtomSeq object at 0x7f424fb11df0>\n",
            "<rdkit.Chem.rdchem._ROAtomSeq object at 0x7f424fb11cb0>\n",
            "<rdkit.Chem.rdchem._ROAtomSeq object at 0x7f424fb11620>\n",
            "<rdkit.Chem.rdchem._ROAtomSeq object at 0x7f424fafe580>\n",
            "<rdkit.Chem.rdchem._ROAtomSeq object at 0x7f424fafe710>\n",
            "<rdkit.Chem.rdchem._ROAtomSeq object at 0x7f42520faf30>\n",
            "<rdkit.Chem.rdchem._ROAtomSeq object at 0x7f424f2ba940>\n",
            "<rdkit.Chem.rdchem._ROAtomSeq object at 0x7f424f2ba940>\n",
            "<rdkit.Chem.rdchem._ROAtomSeq object at 0x7f424f2c7e40>\n",
            "<rdkit.Chem.rdchem._ROAtomSeq object at 0x7f424f2c0350>\n",
            "<rdkit.Chem.rdchem._ROAtomSeq object at 0x7f424f2c0c10>\n",
            "<rdkit.Chem.rdchem._ROAtomSeq object at 0x7f431c2ffd50>\n",
            "<rdkit.Chem.rdchem._ROAtomSeq object at 0x7f424f2c2670>\n",
            "<rdkit.Chem.rdchem._ROAtomSeq object at 0x7f424f2c22b0>\n",
            "<rdkit.Chem.rdchem._ROAtomSeq object at 0x7f424f2c1ad0>\n",
            "<rdkit.Chem.rdchem._ROAtomSeq object at 0x7f424fb1b800>\n",
            "<rdkit.Chem.rdchem._ROAtomSeq object at 0x7f424fb28df0>\n",
            "<rdkit.Chem.rdchem._ROAtomSeq object at 0x7f424f2b2080>\n",
            "<rdkit.Chem.rdchem._ROAtomSeq object at 0x7f424f2ca760>\n",
            "<rdkit.Chem.rdchem._ROAtomSeq object at 0x7f424f2c8b20>\n",
            "<rdkit.Chem.rdchem._ROAtomSeq object at 0x7f424f2c8760>\n",
            "<rdkit.Chem.rdchem._ROAtomSeq object at 0x7f424f2c8ee0>\n",
            "<rdkit.Chem.rdchem._ROAtomSeq object at 0x7f424f2cf4e0>\n",
            "<rdkit.Chem.rdchem._ROAtomSeq object at 0x7f424f2cfc10>\n",
            "<rdkit.Chem.rdchem._ROAtomSeq object at 0x7f424f2d1300>\n",
            "<rdkit.Chem.rdchem._ROAtomSeq object at 0x7f424f2d1a30>\n",
            "<rdkit.Chem.rdchem._ROAtomSeq object at 0x7f424f2d4120>\n",
            "<rdkit.Chem.rdchem._ROAtomSeq object at 0x7f424f2d4850>\n",
            "<rdkit.Chem.rdchem._ROAtomSeq object at 0x7f424f2d60d0>\n",
            "<rdkit.Chem.rdchem._ROAtomSeq object at 0x7f424f2d6620>\n",
            "<rdkit.Chem.rdchem._ROAtomSeq object at 0x7f424f2d6e90>\n",
            "<rdkit.Chem.rdchem._ROAtomSeq object at 0x7f424f2d93f0>\n",
            "<rdkit.Chem.rdchem._ROAtomSeq object at 0x7f424f2d9b20>\n",
            "<rdkit.Chem.rdchem._ROAtomSeq object at 0x7f424f2db210>\n",
            "<rdkit.Chem.rdchem._ROAtomSeq object at 0x7f424f2db940>\n",
            "<rdkit.Chem.rdchem._ROAtomSeq object at 0x7f424f2dd030>\n",
            "<rdkit.Chem.rdchem._ROAtomSeq object at 0x7f424f2dd530>\n",
            "<rdkit.Chem.rdchem._ROAtomSeq object at 0x7f424f2ddc60>\n",
            "<rdkit.Chem.rdchem._ROAtomSeq object at 0x7f424f2df300>\n",
            "<rdkit.Chem.rdchem._ROAtomSeq object at 0x7f424f2df9e0>\n",
            "<rdkit.Chem.rdchem._ROAtomSeq object at 0x7f424f2e10d0>\n",
            "<rdkit.Chem.rdchem._ROAtomSeq object at 0x7f424f2e1800>\n",
            "<rdkit.Chem.rdchem._ROAtomSeq object at 0x7f424f2e33a0>\n",
            "<rdkit.Chem.rdchem._ROAtomSeq object at 0x7f424f2e3620>\n",
            "<rdkit.Chem.rdchem._ROAtomSeq object at 0x7f424f2e3d50>\n",
            "<rdkit.Chem.rdchem._ROAtomSeq object at 0x7f424f2e5350>\n",
            "<rdkit.Chem.rdchem._ROAtomSeq object at 0x7f424f2e5b20>\n",
            "<rdkit.Chem.rdchem._ROAtomSeq object at 0x7f424f2e8210>\n",
            "<rdkit.Chem.rdchem._ROAtomSeq object at 0x7f424f2e8940>\n",
            "<rdkit.Chem.rdchem._ROAtomSeq object at 0x7f424f2ea030>\n",
            "<rdkit.Chem.rdchem._ROAtomSeq object at 0x7f424f2ea760>\n",
            "<rdkit.Chem.rdchem._ROAtomSeq object at 0x7f424f2ed120>\n",
            "<rdkit.Chem.rdchem._ROAtomSeq object at 0x7f424f2ed4e0>\n",
            "<rdkit.Chem.rdchem._ROAtomSeq object at 0x7f424f2edcb0>\n",
            "<rdkit.Chem.rdchem._ROAtomSeq object at 0x7f424f2ef300>\n",
            "<rdkit.Chem.rdchem._ROAtomSeq object at 0x7f424f2efad0>\n",
            "<rdkit.Chem.rdchem._ROAtomSeq object at 0x7f424f271120>\n",
            "<rdkit.Chem.rdchem._ROAtomSeq object at 0x7f424f2718f0>\n",
            "<rdkit.Chem.rdchem._ROAtomSeq object at 0x7f424f272260>\n",
            "<rdkit.Chem.rdchem._ROAtomSeq object at 0x7f424f272710>\n",
            "<rdkit.Chem.rdchem._ROAtomSeq object at 0x7f424f272f30>\n",
            "<rdkit.Chem.rdchem._ROAtomSeq object at 0x7f424f276440>\n",
            "<rdkit.Chem.rdchem._ROAtomSeq object at 0x7f424f277080>\n",
            "<rdkit.Chem.rdchem._ROAtomSeq object at 0x7f424f277760>\n",
            "<rdkit.Chem.rdchem._ROAtomSeq object at 0x7f424f277a30>\n",
            "<rdkit.Chem.rdchem._ROAtomSeq object at 0x7f424f27a030>\n",
            "<rdkit.Chem.rdchem._ROAtomSeq object at 0x7f424f27a850>\n",
            "<rdkit.Chem.rdchem._ROAtomSeq object at 0x7f424f27b120>\n",
            "<rdkit.Chem.rdchem._ROAtomSeq object at 0x7f424f27b5d0>\n",
            "<rdkit.Chem.rdchem._ROAtomSeq object at 0x7f424f27bd50>\n",
            "<rdkit.Chem.rdchem._ROAtomSeq object at 0x7f424f27e3f0>\n",
            "<rdkit.Chem.rdchem._ROAtomSeq object at 0x7f424f27eb70>\n",
            "<rdkit.Chem.rdchem._ROAtomSeq object at 0x7f424f281210>\n",
            "<rdkit.Chem.rdchem._ROAtomSeq object at 0x7f424f281990>\n",
            "<rdkit.Chem.rdchem._ROAtomSeq object at 0x7f424f2830d0>\n",
            "<rdkit.Chem.rdchem._ROAtomSeq object at 0x7f424f283710>\n",
            "<rdkit.Chem.rdchem._ROAtomSeq object at 0x7f424f283f30>\n",
            "<rdkit.Chem.rdchem._ROAtomSeq object at 0x7f424f287530>\n",
            "<rdkit.Chem.rdchem._ROAtomSeq object at 0x7f424f287df0>\n",
            "<rdkit.Chem.rdchem._ROAtomSeq object at 0x7f424f289490>\n",
            "<rdkit.Chem.rdchem._ROAtomSeq object at 0x7f424f289ad0>\n",
            "<rdkit.Chem.rdchem._ROAtomSeq object at 0x7f424f28a170>\n",
            "<rdkit.Chem.rdchem._ROAtomSeq object at 0x7f424f28a8f0>\n",
            "<rdkit.Chem.rdchem._ROAtomSeq object at 0x7f424f28e030>\n",
            "<rdkit.Chem.rdchem._ROAtomSeq object at 0x7f424f28e670>\n",
            "<rdkit.Chem.rdchem._ROAtomSeq object at 0x7f424f290170>\n",
            "<rdkit.Chem.rdchem._ROAtomSeq object at 0x7f424f290530>\n",
            "<rdkit.Chem.rdchem._ROAtomSeq object at 0x7f424f290b20>\n",
            "<rdkit.Chem.rdchem._ROAtomSeq object at 0x7f424f2932b0>\n",
            "<rdkit.Chem.rdchem._ROAtomSeq object at 0x7f424f293a30>\n",
            "<rdkit.Chem.rdchem._ROAtomSeq object at 0x7f424f296170>\n",
            "<rdkit.Chem.rdchem._ROAtomSeq object at 0x7f424f2967b0>\n",
            "<rdkit.Chem.rdchem._ROAtomSeq object at 0x7f424f299030>\n",
            "<rdkit.Chem.rdchem._ROAtomSeq object at 0x7f424f2995d0>\n",
            "<rdkit.Chem.rdchem._ROAtomSeq object at 0x7f424f299d50>\n",
            "<rdkit.Chem.rdchem._ROAtomSeq object at 0x7f424f29b3f0>\n",
            "<rdkit.Chem.rdchem._ROAtomSeq object at 0x7f424f29f620>\n",
            "<rdkit.Chem.rdchem._ROAtomSeq object at 0x7f424f29f760>\n",
            "<rdkit.Chem.rdchem._ROAtomSeq object at 0x7f424f29fcb0>\n",
            "<rdkit.Chem.rdchem._ROAtomSeq object at 0x7f424f2a2260>\n",
            "<rdkit.Chem.rdchem._ROAtomSeq object at 0x7f424f2a2800>\n",
            "<rdkit.Chem.rdchem._ROAtomSeq object at 0x7f424f2a4030>\n",
            "<rdkit.Chem.rdchem._ROAtomSeq object at 0x7f424f2a4620>\n",
            "<rdkit.Chem.rdchem._ROAtomSeq object at 0x7f424f2a4da0>\n",
            "<rdkit.Chem.rdchem._ROAtomSeq object at 0x7f424f2a6760>\n",
            "<rdkit.Chem.rdchem._ROAtomSeq object at 0x7f424f2a6bc0>\n",
            "<rdkit.Chem.rdchem._ROAtomSeq object at 0x7f424f2a90d0>\n",
            "<rdkit.Chem.rdchem._ROAtomSeq object at 0x7f424f2a99e0>\n",
            "<rdkit.Chem.rdchem._ROAtomSeq object at 0x7f424f2aa120>\n",
            "<rdkit.Chem.rdchem._ROAtomSeq object at 0x7f424f2aa760>\n",
            "<rdkit.Chem.rdchem._ROAtomSeq object at 0x7f424f2aaf30>\n",
            "<rdkit.Chem.rdchem._ROAtomSeq object at 0x7f424f2ad580>\n",
            "<rdkit.Chem.rdchem._ROAtomSeq object at 0x7f424f2add00>\n",
            "<rdkit.Chem.rdchem._ROAtomSeq object at 0x7f424f2313a0>\n",
            "<rdkit.Chem.rdchem._ROAtomSeq object at 0x7f424f231b20>\n",
            "<rdkit.Chem.rdchem._ROAtomSeq object at 0x7f424f233260>\n",
            "<rdkit.Chem.rdchem._ROAtomSeq object at 0x7f424f2338a0>\n",
            "<rdkit.Chem.rdchem._ROAtomSeq object at 0x7f424f235030>\n",
            "<rdkit.Chem.rdchem._ROAtomSeq object at 0x7f424f2356c0>\n",
            "<rdkit.Chem.rdchem._ROAtomSeq object at 0x7f424f235df0>\n",
            "<rdkit.Chem.rdchem._ROAtomSeq object at 0x7f424f2374e0>\n",
            "<rdkit.Chem.rdchem._ROAtomSeq object at 0x7f424f237c10>\n",
            "<rdkit.Chem.rdchem._ROAtomSeq object at 0x7f424f239300>\n",
            "<rdkit.Chem.rdchem._ROAtomSeq object at 0x7f424f239a30>\n",
            "<rdkit.Chem.rdchem._ROAtomSeq object at 0x7f424f23b170>\n",
            "<rdkit.Chem.rdchem._ROAtomSeq object at 0x7f424f23b800>\n",
            "<rdkit.Chem.rdchem._ROAtomSeq object at 0x7f424f23bf80>\n",
            "<rdkit.Chem.rdchem._ROAtomSeq object at 0x7f424f23e8f0>\n",
            "<rdkit.Chem.rdchem._ROAtomSeq object at 0x7f424f23ed50>\n",
            "<rdkit.Chem.rdchem._ROAtomSeq object at 0x7f424f241260>\n",
            "<rdkit.Chem.rdchem._ROAtomSeq object at 0x7f424f241b70>\n",
            "<rdkit.Chem.rdchem._ROAtomSeq object at 0x7f424f243260>\n",
            "<rdkit.Chem.rdchem._ROAtomSeq object at 0x7f424f243990>\n",
            "<rdkit.Chem.rdchem._ROAtomSeq object at 0x7f424f2460d0>\n",
            "<rdkit.Chem.rdchem._ROAtomSeq object at 0x7f424f246760>\n",
            "<rdkit.Chem.rdchem._ROAtomSeq object at 0x7f424f246e90>\n",
            "<rdkit.Chem.rdchem._ROAtomSeq object at 0x7f424f248580>\n",
            "<rdkit.Chem.rdchem._ROAtomSeq object at 0x7f424f248da0>\n",
            "<rdkit.Chem.rdchem._ROAtomSeq object at 0x7f424f24b440>\n",
            "<rdkit.Chem.rdchem._ROAtomSeq object at 0x7f424f24bb70>\n",
            "<rdkit.Chem.rdchem._ROAtomSeq object at 0x7f424f24e210>\n",
            "<rdkit.Chem.rdchem._ROAtomSeq object at 0x7f424f24e8a0>\n",
            "<rdkit.Chem.rdchem._ROAtomSeq object at 0x7f424f250030>\n",
            "<rdkit.Chem.rdchem._ROAtomSeq object at 0x7f424f250670>\n",
            "<rdkit.Chem.rdchem._ROAtomSeq object at 0x7f424f250da0>\n",
            "<rdkit.Chem.rdchem._ROAtomSeq object at 0x7f424f253490>\n",
            "<rdkit.Chem.rdchem._ROAtomSeq object at 0x7f424f254120>\n",
            "<rdkit.Chem.rdchem._ROAtomSeq object at 0x7f424f2542b0>\n",
            "<rdkit.Chem.rdchem._ROAtomSeq object at 0x7f424f254b20>\n",
            "<rdkit.Chem.rdchem._ROAtomSeq object at 0x7f424f2572b0>\n",
            "<rdkit.Chem.rdchem._ROAtomSeq object at 0x7f424f257710>\n",
            "<rdkit.Chem.rdchem._ROAtomSeq object at 0x7f424f25a3a0>\n",
            "<rdkit.Chem.rdchem._ROAtomSeq object at 0x7f424f25a530>\n",
            "<rdkit.Chem.rdchem._ROAtomSeq object at 0x7f424f25a8f0>\n",
            "<rdkit.Chem.rdchem._ROAtomSeq object at 0x7f424f25ab70>\n",
            "<rdkit.Chem.rdchem._ROAtomSeq object at 0x7f424f25ad00>\n",
            "<rdkit.Chem.rdchem._ROAtomSeq object at 0x7f424f25c530>\n",
            "<rdkit.Chem.rdchem._ROAtomSeq object at 0x7f424f25c9e0>\n",
            "<rdkit.Chem.rdchem._ROAtomSeq object at 0x7f424f25f300>\n",
            "<rdkit.Chem.rdchem._ROAtomSeq object at 0x7f424f25f9e0>\n",
            "<rdkit.Chem.rdchem._ROAtomSeq object at 0x7f424f262170>\n",
            "<rdkit.Chem.rdchem._ROAtomSeq object at 0x7f424f262710>\n",
            "<rdkit.Chem.rdchem._ROAtomSeq object at 0x7f424f262e40>\n",
            "<rdkit.Chem.rdchem._ROAtomSeq object at 0x7f424f265710>\n",
            "<rdkit.Chem.rdchem._ROAtomSeq object at 0x7f424f265d00>\n",
            "<rdkit.Chem.rdchem._ROAtomSeq object at 0x7f424f2666c0>\n",
            "<rdkit.Chem.rdchem._ROAtomSeq object at 0x7f424f266bc0>\n",
            "<rdkit.Chem.rdchem._ROAtomSeq object at 0x7f424f269260>\n",
            "<rdkit.Chem.rdchem._ROAtomSeq object at 0x7f424f269850>\n",
            "<rdkit.Chem.rdchem._ROAtomSeq object at 0x7f424f26b030>\n",
            "<rdkit.Chem.rdchem._ROAtomSeq object at 0x7f424f26b670>\n",
            "<rdkit.Chem.rdchem._ROAtomSeq object at 0x7f424f26bda0>\n",
            "<rdkit.Chem.rdchem._ROAtomSeq object at 0x7f424f26d940>\n",
            "<rdkit.Chem.rdchem._ROAtomSeq object at 0x7f424f1f0080>\n",
            "<rdkit.Chem.rdchem._ROAtomSeq object at 0x7f424f1f02b0>\n",
            "<rdkit.Chem.rdchem._ROAtomSeq object at 0x7f424f1f0800>\n",
            "<rdkit.Chem.rdchem._ROAtomSeq object at 0x7f424f1f4120>\n",
            "<rdkit.Chem.rdchem._ROAtomSeq object at 0x7f424f1f4a30>\n",
            "<rdkit.Chem.rdchem._ROAtomSeq object at 0x7f424f1f6210>\n",
            "<rdkit.Chem.rdchem._ROAtomSeq object at 0x7f424f1f66c0>\n",
            "<rdkit.Chem.rdchem._ROAtomSeq object at 0x7f424f1f6c10>\n",
            "<rdkit.Chem.rdchem._ROAtomSeq object at 0x7f424f1f83a0>\n",
            "<rdkit.Chem.rdchem._ROAtomSeq object at 0x7f424f1f8ad0>\n",
            "<rdkit.Chem.rdchem._ROAtomSeq object at 0x7f424f1f9210>\n",
            "<rdkit.Chem.rdchem._ROAtomSeq object at 0x7f424f1f98a0>\n",
            "<rdkit.Chem.rdchem._ROAtomSeq object at 0x7f424f1fc030>\n",
            "<rdkit.Chem.rdchem._ROAtomSeq object at 0x7f424f1fc6c0>\n",
            "<rdkit.Chem.rdchem._ROAtomSeq object at 0x7f424f1fcdf0>\n",
            "<rdkit.Chem.rdchem._ROAtomSeq object at 0x7f424f1ff4e0>\n",
            "<rdkit.Chem.rdchem._ROAtomSeq object at 0x7f424f1ffc10>\n",
            "<rdkit.Chem.rdchem._ROAtomSeq object at 0x7f424f201300>\n",
            "<rdkit.Chem.rdchem._ROAtomSeq object at 0x7f424f201b20>\n",
            "<rdkit.Chem.rdchem._ROAtomSeq object at 0x7f424f203300>\n",
            "<rdkit.Chem.rdchem._ROAtomSeq object at 0x7f424f203990>\n",
            "<rdkit.Chem.rdchem._ROAtomSeq object at 0x7f424f206080>\n",
            "<rdkit.Chem.rdchem._ROAtomSeq object at 0x7f424f206c10>\n",
            "<rdkit.Chem.rdchem._ROAtomSeq object at 0x7f424f209350>\n",
            "<rdkit.Chem.rdchem._ROAtomSeq object at 0x7f424f209530>\n",
            "<rdkit.Chem.rdchem._ROAtomSeq object at 0x7f424f209a80>\n",
            "<rdkit.Chem.rdchem._ROAtomSeq object at 0x7f424f20b350>\n",
            "<rdkit.Chem.rdchem._ROAtomSeq object at 0x7f424f20ba80>\n",
            "<rdkit.Chem.rdchem._ROAtomSeq object at 0x7f424f20e1c0>\n",
            "<rdkit.Chem.rdchem._ROAtomSeq object at 0x7f424f20e850>\n",
            "<rdkit.Chem.rdchem._ROAtomSeq object at 0x7f424f211030>\n",
            "<rdkit.Chem.rdchem._ROAtomSeq object at 0x7f424f211670>\n",
            "<rdkit.Chem.rdchem._ROAtomSeq object at 0x7f424f211da0>\n",
            "<rdkit.Chem.rdchem._ROAtomSeq object at 0x7f424f213490>\n",
            "<rdkit.Chem.rdchem._ROAtomSeq object at 0x7f424f213bc0>\n",
            "<rdkit.Chem.rdchem._ROAtomSeq object at 0x7f424f215300>\n",
            "<rdkit.Chem.rdchem._ROAtomSeq object at 0x7f424f215990>\n",
            "<rdkit.Chem.rdchem._ROAtomSeq object at 0x7f424f218120>\n",
            "<rdkit.Chem.rdchem._ROAtomSeq object at 0x7f424f2187b0>\n",
            "<rdkit.Chem.rdchem._ROAtomSeq object at 0x7f424f218f30>\n",
            "<rdkit.Chem.rdchem._ROAtomSeq object at 0x7f424f21a580>\n",
            "<rdkit.Chem.rdchem._ROAtomSeq object at 0x7f424f21acb0>\n",
            "<rdkit.Chem.rdchem._ROAtomSeq object at 0x7f424f21d3a0>\n",
            "<rdkit.Chem.rdchem._ROAtomSeq object at 0x7f424f21dad0>\n",
            "<rdkit.Chem.rdchem._ROAtomSeq object at 0x7f424f2202b0>\n",
            "<rdkit.Chem.rdchem._ROAtomSeq object at 0x7f424f220940>\n",
            "<rdkit.Chem.rdchem._ROAtomSeq object at 0x7f424f222030>\n",
            "<rdkit.Chem.rdchem._ROAtomSeq object at 0x7f424f2226c0>\n",
            "<rdkit.Chem.rdchem._ROAtomSeq object at 0x7f424f222df0>\n",
            "<rdkit.Chem.rdchem._ROAtomSeq object at 0x7f424f2244e0>\n",
            "<rdkit.Chem.rdchem._ROAtomSeq object at 0x7f424f224c10>\n",
            "<rdkit.Chem.rdchem._ROAtomSeq object at 0x7f424f226350>\n",
            "<rdkit.Chem.rdchem._ROAtomSeq object at 0x7f424f2269e0>\n",
            "<rdkit.Chem.rdchem._ROAtomSeq object at 0x7f424f229170>\n",
            "<rdkit.Chem.rdchem._ROAtomSeq object at 0x7f424f229800>\n",
            "<rdkit.Chem.rdchem._ROAtomSeq object at 0x7f424f229f80>\n",
            "<rdkit.Chem.rdchem._ROAtomSeq object at 0x7f424f22c620>\n",
            "<rdkit.Chem.rdchem._ROAtomSeq object at 0x7f424f22cd50>\n",
            "<rdkit.Chem.rdchem._ROAtomSeq object at 0x7f424f22d440>\n",
            "<rdkit.Chem.rdchem._ROAtomSeq object at 0x7f424f22db70>\n",
            "<rdkit.Chem.rdchem._ROAtomSeq object at 0x7f424f22f2b0>\n",
            "<rdkit.Chem.rdchem._ROAtomSeq object at 0x7f424f22f940>\n",
            "<rdkit.Chem.rdchem._ROAtomSeq object at 0x7f424f1b23f0>\n",
            "<rdkit.Chem.rdchem._ROAtomSeq object at 0x7f424f1b27b0>\n",
            "<rdkit.Chem.rdchem._ROAtomSeq object at 0x7f424f1b2d00>\n",
            "<rdkit.Chem.rdchem._ROAtomSeq object at 0x7f424f1b5580>\n",
            "<rdkit.Chem.rdchem._ROAtomSeq object at 0x7f424f1b5cb0>\n",
            "<rdkit.Chem.rdchem._ROAtomSeq object at 0x7f424f1b83a0>\n",
            "<rdkit.Chem.rdchem._ROAtomSeq object at 0x7f424f1b8ad0>\n",
            "<rdkit.Chem.rdchem._ROAtomSeq object at 0x7f424f1bb210>\n",
            "<rdkit.Chem.rdchem._ROAtomSeq object at 0x7f424f1bb8a0>\n",
            "<rdkit.Chem.rdchem._ROAtomSeq object at 0x7f424f1bd030>\n",
            "<rdkit.Chem.rdchem._ROAtomSeq object at 0x7f424f1bd6c0>\n",
            "<rdkit.Chem.rdchem._ROAtomSeq object at 0x7f424f1bddf0>\n",
            "<rdkit.Chem.rdchem._ROAtomSeq object at 0x7f424f1bf580>\n",
            "<rdkit.Chem.rdchem._ROAtomSeq object at 0x7f424f1c3030>\n",
            "<rdkit.Chem.rdchem._ROAtomSeq object at 0x7f424f1c3850>\n",
            "<rdkit.Chem.rdchem._ROAtomSeq object at 0x7f424f1c50d0>\n",
            "<rdkit.Chem.rdchem._ROAtomSeq object at 0x7f424f1c5530>\n",
            "<rdkit.Chem.rdchem._ROAtomSeq object at 0x7f424f1c5670>\n",
            "<rdkit.Chem.rdchem._ROAtomSeq object at 0x7f424f1c63a0>\n",
            "<rdkit.Chem.rdchem._ROAtomSeq object at 0x7f424f1c6440>\n",
            "<rdkit.Chem.rdchem._ROAtomSeq object at 0x7f424f1c8170>\n",
            "<rdkit.Chem.rdchem._ROAtomSeq object at 0x7f424f1c8530>\n",
            "<rdkit.Chem.rdchem._ROAtomSeq object at 0x7f424f1c8df0>\n",
            "<rdkit.Chem.rdchem._ROAtomSeq object at 0x7f424f1cb670>\n",
            "<rdkit.Chem.rdchem._ROAtomSeq object at 0x7f424f1cba30>\n",
            "<rdkit.Chem.rdchem._ROAtomSeq object at 0x7f424f1ce530>\n",
            "<rdkit.Chem.rdchem._ROAtomSeq object at 0x7f424f1ce5d0>\n",
            "<rdkit.Chem.rdchem._ROAtomSeq object at 0x7f424f1d1350>\n",
            "<rdkit.Chem.rdchem._ROAtomSeq object at 0x7f424f1d13f0>\n",
            "<rdkit.Chem.rdchem._ROAtomSeq object at 0x7f424f1d3440>\n",
            "<rdkit.Chem.rdchem._ROAtomSeq object at 0x7f424f1d3b20>\n",
            "<rdkit.Chem.rdchem._ROAtomSeq object at 0x7f424f1d3ee0>\n",
            "<rdkit.Chem.rdchem._ROAtomSeq object at 0x7f424f1d6120>\n",
            "<rdkit.Chem.rdchem._ROAtomSeq object at 0x7f424f1d6620>\n",
            "<rdkit.Chem.rdchem._ROAtomSeq object at 0x7f424f1d83f0>\n",
            "<rdkit.Chem.rdchem._ROAtomSeq object at 0x7f424f1d8b70>\n",
            "<rdkit.Chem.rdchem._ROAtomSeq object at 0x7f424f1da2b0>\n",
            "<rdkit.Chem.rdchem._ROAtomSeq object at 0x7f424f1da8f0>\n",
            "<rdkit.Chem.rdchem._ROAtomSeq object at 0x7f424f1dd080>\n",
            "<rdkit.Chem.rdchem._ROAtomSeq object at 0x7f424f1dd170>\n",
            "<rdkit.Chem.rdchem._ROAtomSeq object at 0x7f424f1dd850>\n",
            "<rdkit.Chem.rdchem._ROAtomSeq object at 0x7f424f1dfbc0>\n",
            "<rdkit.Chem.rdchem._ROAtomSeq object at 0x7f424f1df670>\n",
            "<rdkit.Chem.rdchem._ROAtomSeq object at 0x7f424f1e23f0>\n",
            "<rdkit.Chem.rdchem._ROAtomSeq object at 0x7f424f1e2a80>\n",
            "<rdkit.Chem.rdchem._ROAtomSeq object at 0x7f424f1e5210>\n",
            "<rdkit.Chem.rdchem._ROAtomSeq object at 0x7f424f1e54e0>\n",
            "<rdkit.Chem.rdchem._ROAtomSeq object at 0x7f424f1e5f80>\n",
            "<rdkit.Chem.rdchem._ROAtomSeq object at 0x7f424f1e7120>\n",
            "<rdkit.Chem.rdchem._ROAtomSeq object at 0x7f424f1e7da0>\n",
            "<rdkit.Chem.rdchem._ROAtomSeq object at 0x7f424f1e9490>\n",
            "<rdkit.Chem.rdchem._ROAtomSeq object at 0x7f424f1e98f0>\n",
            "<rdkit.Chem.rdchem._ROAtomSeq object at 0x7f424f1ec2b0>\n",
            "<rdkit.Chem.rdchem._ROAtomSeq object at 0x7f424f1ec3f0>\n",
            "<rdkit.Chem.rdchem._ROAtomSeq object at 0x7f424f1ee170>\n",
            "<rdkit.Chem.rdchem._ROAtomSeq object at 0x7f424f1ee7b0>\n",
            "<rdkit.Chem.rdchem._ROAtomSeq object at 0x7f424f1ee8f0>\n",
            "<rdkit.Chem.rdchem._ROAtomSeq object at 0x7f424f1715d0>\n",
            "<rdkit.Chem.rdchem._ROAtomSeq object at 0x7f424f171710>\n",
            "<rdkit.Chem.rdchem._ROAtomSeq object at 0x7f424f172210>\n",
            "<rdkit.Chem.rdchem._ROAtomSeq object at 0x7f424f1727b0>\n",
            "<rdkit.Chem.rdchem._ROAtomSeq object at 0x7f424f1742b0>\n",
            "<rdkit.Chem.rdchem._ROAtomSeq object at 0x7f424f1748f0>\n",
            "<rdkit.Chem.rdchem._ROAtomSeq object at 0x7f424f174d50>\n",
            "<rdkit.Chem.rdchem._ROAtomSeq object at 0x7f424f178030>\n",
            "<rdkit.Chem.rdchem._ROAtomSeq object at 0x7f424f178850>\n",
            "<rdkit.Chem.rdchem._ROAtomSeq object at 0x7f424f17bbc0>\n",
            "<rdkit.Chem.rdchem._ROAtomSeq object at 0x7f424f17b990>\n",
            "<rdkit.Chem.rdchem._ROAtomSeq object at 0x7f424f17d3f0>\n",
            "<rdkit.Chem.rdchem._ROAtomSeq object at 0x7f424f17d490>\n",
            "<rdkit.Chem.rdchem._ROAtomSeq object at 0x7f424f17f1c0>\n",
            "<rdkit.Chem.rdchem._ROAtomSeq object at 0x7f424f17f2b0>\n",
            "<rdkit.Chem.rdchem._ROAtomSeq object at 0x7f424f17ff80>\n",
            "<rdkit.Chem.rdchem._ROAtomSeq object at 0x7f424f181120>\n",
            "<rdkit.Chem.rdchem._ROAtomSeq object at 0x7f424f181ad0>\n",
            "<rdkit.Chem.rdchem._ROAtomSeq object at 0x7f424f183530>\n",
            "<rdkit.Chem.rdchem._ROAtomSeq object at 0x7f424f183a30>\n",
            "<rdkit.Chem.rdchem._ROAtomSeq object at 0x7f424f188120>\n",
            "<rdkit.Chem.rdchem._ROAtomSeq object at 0x7f424f1882b0>\n",
            "<rdkit.Chem.rdchem._ROAtomSeq object at 0x7f424f18a3a0>\n",
            "<rdkit.Chem.rdchem._ROAtomSeq object at 0x7f424f18a8a0>\n",
            "<rdkit.Chem.rdchem._ROAtomSeq object at 0x7f424f18ac10>\n",
            "<rdkit.Chem.rdchem._ROAtomSeq object at 0x7f424f1843a0>\n",
            "<rdkit.Chem.rdchem._ROAtomSeq object at 0x7f424f1844e0>\n",
            "<rdkit.Chem.rdchem._ROAtomSeq object at 0x7f424f18d440>\n",
            "<rdkit.Chem.rdchem._ROAtomSeq object at 0x7f424f18d4e0>\n",
            "<rdkit.Chem.rdchem._ROAtomSeq object at 0x7f424f18f260>\n",
            "<rdkit.Chem.rdchem._ROAtomSeq object at 0x7f424f18f8a0>\n",
            "<rdkit.Chem.rdchem._ROAtomSeq object at 0x7f424f18fa30>\n",
            "<rdkit.Chem.rdchem._ROAtomSeq object at 0x7f424f1926c0>\n",
            "<rdkit.Chem.rdchem._ROAtomSeq object at 0x7f424f192800>\n",
            "<rdkit.Chem.rdchem._ROAtomSeq object at 0x7f424f195210>\n",
            "<rdkit.Chem.rdchem._ROAtomSeq object at 0x7f424f195bc0>\n",
            "<rdkit.Chem.rdchem._ROAtomSeq object at 0x7f424f198210>\n",
            "<rdkit.Chem.rdchem._ROAtomSeq object at 0x7f424f198300>\n",
            "<rdkit.Chem.rdchem._ROAtomSeq object at 0x7f424f19b260>\n",
            "<rdkit.Chem.rdchem._ROAtomSeq object at 0x7f424f19b800>\n",
            "<rdkit.Chem.rdchem._ROAtomSeq object at 0x7f424f19bf30>\n",
            "<rdkit.Chem.rdchem._ROAtomSeq object at 0x7f424f19e5d0>\n",
            "<rdkit.Chem.rdchem._ROAtomSeq object at 0x7f424f19e710>\n",
            "<rdkit.Chem.rdchem._ROAtomSeq object at 0x7f424f19f440>\n",
            "<rdkit.Chem.rdchem._ROAtomSeq object at 0x7f424f19fb20>\n",
            "<rdkit.Chem.rdchem._ROAtomSeq object at 0x7f424f1a2260>\n",
            "<rdkit.Chem.rdchem._ROAtomSeq object at 0x7f424f1a23f0>\n",
            "<rdkit.Chem.rdchem._ROAtomSeq object at 0x7f424f1a5120>\n",
            "<rdkit.Chem.rdchem._ROAtomSeq object at 0x7f424f1a5210>\n",
            "<rdkit.Chem.rdchem._ROAtomSeq object at 0x7f424f1a5e90>\n",
            "<rdkit.Chem.rdchem._ROAtomSeq object at 0x7f424f1a7580>\n",
            "<rdkit.Chem.rdchem._ROAtomSeq object at 0x7f424f1a7a30>\n",
            "<rdkit.Chem.rdchem._ROAtomSeq object at 0x7f424f1aa3f0>\n",
            "<rdkit.Chem.rdchem._ROAtomSeq object at 0x7f424f1aaad0>\n",
            "<rdkit.Chem.rdchem._ROAtomSeq object at 0x7f424f1ac080>\n",
            "<rdkit.Chem.rdchem._ROAtomSeq object at 0x7f424f1ac1c0>\n",
            "<rdkit.Chem.rdchem._ROAtomSeq object at 0x7f424f1ae080>\n",
            "<rdkit.Chem.rdchem._ROAtomSeq object at 0x7f424f1ae170>\n",
            "<rdkit.Chem.rdchem._ROAtomSeq object at 0x7f424f1310d0>\n",
            "<rdkit.Chem.rdchem._ROAtomSeq object at 0x7f424f1317b0>\n",
            "<rdkit.Chem.rdchem._ROAtomSeq object at 0x7f424f131f30>\n",
            "<rdkit.Chem.rdchem._ROAtomSeq object at 0x7f424f133170>\n",
            "<rdkit.Chem.rdchem._ROAtomSeq object at 0x7f424f133300>\n",
            "<rdkit.Chem.rdchem._ROAtomSeq object at 0x7f424f1360d0>\n",
            "<rdkit.Chem.rdchem._ROAtomSeq object at 0x7f424f136260>\n",
            "<rdkit.Chem.rdchem._ROAtomSeq object at 0x7f424f136cb0>\n",
            "<rdkit.Chem.rdchem._ROAtomSeq object at 0x7f424f137670>\n",
            "<rdkit.Chem.rdchem._ROAtomSeq object at 0x7f424f137710>\n",
            "<rdkit.Chem.rdchem._ROAtomSeq object at 0x7f424f1393f0>\n",
            "<rdkit.Chem.rdchem._ROAtomSeq object at 0x7f424f139530>\n",
            "<rdkit.Chem.rdchem._ROAtomSeq object at 0x7f424f13d210>\n",
            "<rdkit.Chem.rdchem._ROAtomSeq object at 0x7f424f13d8f0>\n",
            "<rdkit.Chem.rdchem._ROAtomSeq object at 0x7f424f140080>\n",
            "<rdkit.Chem.rdchem._ROAtomSeq object at 0x7f424f140170>\n",
            "<rdkit.Chem.rdchem._ROAtomSeq object at 0x7f424f140850>\n",
            "<rdkit.Chem.rdchem._ROAtomSeq object at 0x7f424f142530>\n",
            "<rdkit.Chem.rdchem._ROAtomSeq object at 0x7f424f142c10>\n",
            "<rdkit.Chem.rdchem._ROAtomSeq object at 0x7f424f1443f0>\n",
            "<rdkit.Chem.rdchem._ROAtomSeq object at 0x7f424f1444e0>\n",
            "<rdkit.Chem.rdchem._ROAtomSeq object at 0x7f424f146170>\n",
            "<rdkit.Chem.rdchem._ROAtomSeq object at 0x7f424f146440>\n",
            "<rdkit.Chem.rdchem._ROAtomSeq object at 0x7f424f146df0>\n",
            "<rdkit.Chem.rdchem._ROAtomSeq object at 0x7f424f14a170>\n",
            "<rdkit.Chem.rdchem._ROAtomSeq object at 0x7f424f14ada0>\n",
            "<rdkit.Chem.rdchem._ROAtomSeq object at 0x7f424f14c530>\n",
            "<rdkit.Chem.rdchem._ROAtomSeq object at 0x7f424f14cbc0>\n",
            "<rdkit.Chem.rdchem._ROAtomSeq object at 0x7f424f14d2b0>\n",
            "<rdkit.Chem.rdchem._ROAtomSeq object at 0x7f424f14d710>\n",
            "<rdkit.Chem.rdchem._ROAtomSeq object at 0x7f424f14f170>\n",
            "<rdkit.Chem.rdchem._ROAtomSeq object at 0x7f424f14f260>\n",
            "<rdkit.Chem.rdchem._ROAtomSeq object at 0x7f424f14f8f0>\n",
            "<rdkit.Chem.rdchem._ROAtomSeq object at 0x7f424f152580>\n",
            "<rdkit.Chem.rdchem._ROAtomSeq object at 0x7f424f152cb0>\n",
            "<rdkit.Chem.rdchem._ROAtomSeq object at 0x7f424f1553f0>\n",
            "<rdkit.Chem.rdchem._ROAtomSeq object at 0x7f424f155530>\n",
            "<rdkit.Chem.rdchem._ROAtomSeq object at 0x7f424f157260>\n",
            "<rdkit.Chem.rdchem._ROAtomSeq object at 0x7f424f157300>\n",
            "<rdkit.Chem.rdchem._ROAtomSeq object at 0x7f424f15a080>\n",
            "<rdkit.Chem.rdchem._ROAtomSeq object at 0x7f424f15a170>\n",
            "<rdkit.Chem.rdchem._ROAtomSeq object at 0x7f424f15a670>\n",
            "<rdkit.Chem.rdchem._ROAtomSeq object at 0x7f424f15db20>\n",
            "<rdkit.Chem.rdchem._ROAtomSeq object at 0x7f424f15d670>\n",
            "<rdkit.Chem.rdchem._ROAtomSeq object at 0x7f424f15e3f0>\n",
            "<rdkit.Chem.rdchem._ROAtomSeq object at 0x7f424f15ea30>\n",
            "<rdkit.Chem.rdchem._ROAtomSeq object at 0x7f424f163210>\n",
            "<rdkit.Chem.rdchem._ROAtomSeq object at 0x7f424f163800>\n",
            "<rdkit.Chem.rdchem._ROAtomSeq object at 0x7f424f1644e0>\n",
            "<rdkit.Chem.rdchem._ROAtomSeq object at 0x7f424f164990>\n",
            "<rdkit.Chem.rdchem._ROAtomSeq object at 0x7f424f164ad0>\n",
            "<rdkit.Chem.rdchem._ROAtomSeq object at 0x7f424f1673f0>\n",
            "<rdkit.Chem.rdchem._ROAtomSeq object at 0x7f424f167b70>\n",
            "<rdkit.Chem.rdchem._ROAtomSeq object at 0x7f424f1692b0>\n",
            "<rdkit.Chem.rdchem._ROAtomSeq object at 0x7f424f169440>\n",
            "<rdkit.Chem.rdchem._ROAtomSeq object at 0x7f424f16c080>\n",
            "<rdkit.Chem.rdchem._ROAtomSeq object at 0x7f424f16c760>\n",
            "<rdkit.Chem.rdchem._ROAtomSeq object at 0x7f424f16c8a0>\n",
            "<rdkit.Chem.rdchem._ROAtomSeq object at 0x7f424f16e030>\n",
            "<rdkit.Chem.rdchem._ROAtomSeq object at 0x7f424f16e6c0>\n",
            "<rdkit.Chem.rdchem._ROAtomSeq object at 0x7f424f0f0440>\n",
            "<rdkit.Chem.rdchem._ROAtomSeq object at 0x7f424f0f04e0>\n",
            "<rdkit.Chem.rdchem._ROAtomSeq object at 0x7f424f0f4260>\n",
            "<rdkit.Chem.rdchem._ROAtomSeq object at 0x7f424f0f4350>\n",
            "<rdkit.Chem.rdchem._ROAtomSeq object at 0x7f424f0f6080>\n",
            "<rdkit.Chem.rdchem._ROAtomSeq object at 0x7f424f0f6670>\n",
            "<rdkit.Chem.rdchem._ROAtomSeq object at 0x7f424f0f6c10>\n",
            "<rdkit.Chem.rdchem._ROAtomSeq object at 0x7f424f0f84e0>\n",
            "<rdkit.Chem.rdchem._ROAtomSeq object at 0x7f424f0f8620>\n",
            "<rdkit.Chem.rdchem._ROAtomSeq object at 0x7f424f0fa3a0>\n",
            "<rdkit.Chem.rdchem._ROAtomSeq object at 0x7f424f0fa490>\n",
            "<rdkit.Chem.rdchem._ROAtomSeq object at 0x7f424f0fd080>\n",
            "<rdkit.Chem.rdchem._ROAtomSeq object at 0x7f424f0fd620>\n",
            "<rdkit.Chem.rdchem._ROAtomSeq object at 0x7f424f0fdf30>\n",
            "<rdkit.Chem.rdchem._ROAtomSeq object at 0x7f424f0ff3f0>\n",
            "<rdkit.Chem.rdchem._ROAtomSeq object at 0x7f424f0ff6c0>\n",
            "<rdkit.Chem.rdchem._ROAtomSeq object at 0x7f424f1029e0>\n",
            "<rdkit.Chem.rdchem._ROAtomSeq object at 0x7f424f102b70>\n",
            "<rdkit.Chem.rdchem._ROAtomSeq object at 0x7f424f105300>\n",
            "<rdkit.Chem.rdchem._ROAtomSeq object at 0x7f424f105940>\n",
            "<rdkit.Chem.rdchem._ROAtomSeq object at 0x7f424f107120>\n",
            "<rdkit.Chem.rdchem._ROAtomSeq object at 0x7f424f107210>\n",
            "<rdkit.Chem.rdchem._ROAtomSeq object at 0x7f424f107cb0>\n",
            "<rdkit.Chem.rdchem._ROAtomSeq object at 0x7f424f109620>\n",
            "<rdkit.Chem.rdchem._ROAtomSeq object at 0x7f424f109cb0>\n",
            "<rdkit.Chem.rdchem._ROAtomSeq object at 0x7f424f10a7b0>\n",
            "<rdkit.Chem.rdchem._ROAtomSeq object at 0x7f424f10ad50>\n",
            "<rdkit.Chem.rdchem._ROAtomSeq object at 0x7f424f10e440>\n",
            "<rdkit.Chem.rdchem._ROAtomSeq object at 0x7f424f10e710>\n",
            "<rdkit.Chem.rdchem._ROAtomSeq object at 0x7f424f10ee90>\n",
            "<rdkit.Chem.rdchem._ROAtomSeq object at 0x7f424f1104e0>\n",
            "<rdkit.Chem.rdchem._ROAtomSeq object at 0x7f424f110760>\n",
            "<rdkit.Chem.rdchem._ROAtomSeq object at 0x7f424f112350>\n",
            "<rdkit.Chem.rdchem._ROAtomSeq object at 0x7f424f112bc0>\n",
            "<rdkit.Chem.rdchem._ROAtomSeq object at 0x7f424f115350>\n",
            "<rdkit.Chem.rdchem._ROAtomSeq object at 0x7f424f115440>\n",
            "<rdkit.Chem.rdchem._ROAtomSeq object at 0x7f424f1171c0>\n",
            "<rdkit.Chem.rdchem._ROAtomSeq object at 0x7f424f1177b0>\n",
            "<rdkit.Chem.rdchem._ROAtomSeq object at 0x7f424f117d50>\n",
            "<rdkit.Chem.rdchem._ROAtomSeq object at 0x7f424f11a440>\n",
            "<rdkit.Chem.rdchem._ROAtomSeq object at 0x7f424f11ab70>\n",
            "<rdkit.Chem.rdchem._ROAtomSeq object at 0x7f424f11d490>\n",
            "<rdkit.Chem.rdchem._ROAtomSeq object at 0x7f424f11d5d0>\n",
            "<rdkit.Chem.rdchem._ROAtomSeq object at 0x7f424f11f260>\n",
            "<rdkit.Chem.rdchem._ROAtomSeq object at 0x7f424f11f8f0>\n",
            "<rdkit.Chem.rdchem._ROAtomSeq object at 0x7f424f1220d0>\n",
            "<rdkit.Chem.rdchem._ROAtomSeq object at 0x7f424f1226c0>\n",
            "<rdkit.Chem.rdchem._ROAtomSeq object at 0x7f424f122d00>\n",
            "<rdkit.Chem.rdchem._ROAtomSeq object at 0x7f424f1230d0>\n",
            "<rdkit.Chem.rdchem._ROAtomSeq object at 0x7f424f123ad0>\n",
            "<rdkit.Chem.rdchem._ROAtomSeq object at 0x7f424f127080>\n",
            "<rdkit.Chem.rdchem._ROAtomSeq object at 0x7f424f1278f0>\n",
            "<rdkit.Chem.rdchem._ROAtomSeq object at 0x7f424f129210>\n",
            "<rdkit.Chem.rdchem._ROAtomSeq object at 0x7f424f129300>\n",
            "<rdkit.Chem.rdchem._ROAtomSeq object at 0x7f424f129df0>\n",
            "<rdkit.Chem.rdchem._ROAtomSeq object at 0x7f424f12b4e0>\n",
            "<rdkit.Chem.rdchem._ROAtomSeq object at 0x7f424f12b850>\n",
            "<rdkit.Chem.rdchem._ROAtomSeq object at 0x7f424f12e530>\n",
            "<rdkit.Chem.rdchem._ROAtomSeq object at 0x7f424f12e5d0>\n",
            "<rdkit.Chem.rdchem._ROAtomSeq object at 0x7f424f0b1350>\n",
            "<rdkit.Chem.rdchem._ROAtomSeq object at 0x7f424f0b1440>\n",
            "<rdkit.Chem.rdchem._ROAtomSeq object at 0x7f424f0b30d0>\n",
            "<rdkit.Chem.rdchem._ROAtomSeq object at 0x7f424f0b35d0>\n",
            "<rdkit.Chem.rdchem._ROAtomSeq object at 0x7f424f0b3ee0>\n",
            "<rdkit.Chem.rdchem._ROAtomSeq object at 0x7f424f0b5170>\n",
            "<rdkit.Chem.rdchem._ROAtomSeq object at 0x7f424f0b5710>\n",
            "<rdkit.Chem.rdchem._ROAtomSeq object at 0x7f424f0b5ee0>\n",
            "<rdkit.Chem.rdchem._ROAtomSeq object at 0x7f424f0b8c60>\n",
            "<rdkit.Chem.rdchem._ROAtomSeq object at 0x7f424f0ba2b0>\n",
            "<rdkit.Chem.rdchem._ROAtomSeq object at 0x7f424f0ba620>\n",
            "<rdkit.Chem.rdchem._ROAtomSeq object at 0x7f424f0bae90>\n",
            "<rdkit.Chem.rdchem._ROAtomSeq object at 0x7f424f0bc710>\n",
            "<rdkit.Chem.rdchem._ROAtomSeq object at 0x7f424f0bce40>\n",
            "<rdkit.Chem.rdchem._ROAtomSeq object at 0x7f424f0bf9e0>\n",
            "<rdkit.Chem.rdchem._ROAtomSeq object at 0x7f424f0bf670>\n",
            "<rdkit.Chem.rdchem._ROAtomSeq object at 0x7f424f0c1300>\n",
            "<rdkit.Chem.rdchem._ROAtomSeq object at 0x7f424f0c1490>\n",
            "<rdkit.Chem.rdchem._ROAtomSeq object at 0x7f424f0c1b70>\n",
            "<rdkit.Chem.rdchem._ROAtomSeq object at 0x7f424fb2fc60>\n",
            "<rdkit.Chem.rdchem._ROAtomSeq object at 0x7f424f2d65d0>\n",
            "<rdkit.Chem.rdchem._ROAtomSeq object at 0x7f424fafbb20>\n",
            "<rdkit.Chem.rdchem._ROAtomSeq object at 0x7f424fafb3f0>\n",
            "<rdkit.Chem.rdchem._ROAtomSeq object at 0x7f424f2e3620>\n",
            "<rdkit.Chem.rdchem._ROAtomSeq object at 0x7f424f272620>\n",
            "<rdkit.Chem.rdchem._ROAtomSeq object at 0x7f424f27a7b0>\n",
            "<rdkit.Chem.rdchem._ROAtomSeq object at 0x7f424f28a850>\n",
            "<rdkit.Chem.rdchem._ROAtomSeq object at 0x7f424f2995d0>\n",
            "<rdkit.Chem.rdchem._ROAtomSeq object at 0x7f424f29f760>\n",
            "<rdkit.Chem.rdchem._ROAtomSeq object at 0x7f424f235df0>\n",
            "<rdkit.Chem.rdchem._ROAtomSeq object at 0x7f424f246760>\n",
            "<rdkit.Chem.rdchem._ROAtomSeq object at 0x7f424f2774e0>\n",
            "<rdkit.Chem.rdchem._ROAtomSeq object at 0x7f424f254940>\n",
            "<rdkit.Chem.rdchem._ROAtomSeq object at 0x7f424f266620>\n",
            "<rdkit.Chem.rdchem._ROAtomSeq object at 0x7f424f26b670>\n",
            "<rdkit.Chem.rdchem._ROAtomSeq object at 0x7f424f1ff490>\n",
            "<rdkit.Chem.rdchem._ROAtomSeq object at 0x7f424f20ee40>\n",
            "<rdkit.Chem.rdchem._ROAtomSeq object at 0x7f424f2187b0>\n",
            "<rdkit.Chem.rdchem._ROAtomSeq object at 0x7f424f224bc0>\n",
            "<rdkit.Chem.rdchem._ROAtomSeq object at 0x7f424f22d440>\n",
            "<rdkit.Chem.rdchem._ROAtomSeq object at 0x7f424f1bb850>\n",
            "<rdkit.Chem.rdchem._ROAtomSeq object at 0x7f424f1c3990>\n",
            "<rdkit.Chem.rdchem._ROAtomSeq object at 0x7f424f206940>\n",
            "<rdkit.Chem.rdchem._ROAtomSeq object at 0x7f424f26d940>\n",
            "<rdkit.Chem.rdchem._ROAtomSeq object at 0x7f424f1d38a0>\n",
            "<rdkit.Chem.rdchem._ROAtomSeq object at 0x7f424f1ec170>\n",
            "<rdkit.Chem.rdchem._ROAtomSeq object at 0x7f424f178800>\n",
            "<rdkit.Chem.rdchem._ROAtomSeq object at 0x7f424f22f2b0>\n",
            "<rdkit.Chem.rdchem._ROAtomSeq object at 0x7f424f181ad0>\n",
            "<rdkit.Chem.rdchem._ROAtomSeq object at 0x7f424f198300>\n",
            "<rdkit.Chem.rdchem._ROAtomSeq object at 0x7f424f1a7d00>\n",
            "<rdkit.Chem.rdchem._ROAtomSeq object at 0x7f424f139c10>\n",
            "<rdkit.Chem.rdchem._ROAtomSeq object at 0x7f424f1aeee0>\n",
            "<rdkit.Chem.rdchem._ROAtomSeq object at 0x7f424f1361c0>\n",
            "<rdkit.Chem.rdchem._ROAtomSeq object at 0x7f424f15d670>\n",
            "<rdkit.Chem.rdchem._ROAtomSeq object at 0x7f424f15eb20>\n",
            "<rdkit.Chem.rdchem._ROAtomSeq object at 0x7f424f0f04e0>\n",
            "<rdkit.Chem.rdchem._ROAtomSeq object at 0x7f424f0f8d00>\n",
            "<rdkit.Chem.rdchem._ROAtomSeq object at 0x7f424f0fd620>\n",
            "<rdkit.Chem.rdchem._ROAtomSeq object at 0x7f424f10e800>\n",
            "<rdkit.Chem.rdchem._ROAtomSeq object at 0x7f424f11fdf0>\n",
            "<rdkit.Chem.rdchem._ROAtomSeq object at 0x7f424f11a260>\n",
            "<rdkit.Chem.rdchem._ROAtomSeq object at 0x7f424f163800>\n",
            "<rdkit.Chem.rdchem._ROAtomSeq object at 0x7f424f0bad50>\n",
            "<rdkit.Chem.rdchem._ROAtomSeq object at 0x7f424f0c1ad0>\n",
            "<rdkit.Chem.rdchem._ROAtomSeq object at 0x7f424f2b2ee0>\n",
            "<rdkit.Chem.rdchem._ROAtomSeq object at 0x7f424f2b2120>\n",
            "<rdkit.Chem.rdchem._ROAtomSeq object at 0x7f424fb11d50>\n",
            "<rdkit.Chem.rdchem._ROAtomSeq object at 0x7f424fb1bc60>\n",
            "<rdkit.Chem.rdchem._ROAtomSeq object at 0x7f424f2ba850>\n",
            "<rdkit.Chem.rdchem._ROAtomSeq object at 0x7f424f2ba760>\n",
            "<rdkit.Chem.rdchem._ROAtomSeq object at 0x7f424fb289e0>\n",
            "<rdkit.Chem.rdchem._ROAtomSeq object at 0x7f424ff95ee0>\n",
            "<rdkit.Chem.rdchem._ROAtomSeq object at 0x7f424ff7f490>\n",
            "<rdkit.Chem.rdchem._ROAtomSeq object at 0x7f424ff86c10>\n",
            "<rdkit.Chem.rdchem._ROAtomSeq object at 0x7f424ff93080>\n",
            "<rdkit.Chem.rdchem._ROAtomSeq object at 0x7f4252966800>\n",
            "<rdkit.Chem.rdchem._ROAtomSeq object at 0x7f42520723a0>\n",
            "<rdkit.Chem.rdchem._ROAtomSeq object at 0x7f4252969c10>\n",
            "<rdkit.Chem.rdchem._ROAtomSeq object at 0x7f4252969760>\n",
            "<rdkit.Chem.rdchem._ROAtomSeq object at 0x7f42520708f0>\n",
            "<rdkit.Chem.rdchem._ROAtomSeq object at 0x7f4252070850>\n",
            "<rdkit.Chem.rdchem._ROAtomSeq object at 0x7f425202a3a0>\n",
            "<rdkit.Chem.rdchem._ROAtomSeq object at 0x7f42520251c0>\n",
            "<rdkit.Chem.rdchem._ROAtomSeq object at 0x7f42520256c0>\n",
            "<rdkit.Chem.rdchem._ROAtomSeq object at 0x7f42520155d0>\n",
            "<rdkit.Chem.rdchem._ROAtomSeq object at 0x7f4252212260>\n",
            "<rdkit.Chem.rdchem._ROAtomSeq object at 0x7f4252100080>\n",
            "<rdkit.Chem.rdchem._ROAtomSeq object at 0x7f42520b7cb0>\n",
            "<rdkit.Chem.rdchem._ROAtomSeq object at 0x7f42520b73a0>\n",
            "<rdkit.Chem.rdchem._ROAtomSeq object at 0x7f425204a8a0>\n",
            "<rdkit.Chem.rdchem._ROAtomSeq object at 0x7f425204a120>\n",
            "<rdkit.Chem.rdchem._ROAtomSeq object at 0x7f4252004df0>\n",
            "<rdkit.Chem.rdchem._ROAtomSeq object at 0x7f42520047b0>\n",
            "<rdkit.Chem.rdchem._ROAtomSeq object at 0x7f424ffda710>\n",
            "<rdkit.Chem.rdchem._ROAtomSeq object at 0x7f424ffda670>\n",
            "<rdkit.Chem.rdchem._ROAtomSeq object at 0x7f424fff7260>\n"
          ]
        }
      ]
    },
    {
      "cell_type": "code",
      "source": [
        "device = torch.device(\"cuda\" if torch.cuda.is_available() else \"cpu\")"
      ],
      "metadata": {
        "id": "OZY40URtyZkG"
      },
      "execution_count": 23,
      "outputs": []
    },
    {
      "cell_type": "code",
      "source": [
        "labels = df[\"Stable\"].to_list()\n",
        "labels = torch.tensor(labels)\n",
        "labels.to(device)\n",
        "# graphs.to(device)"
      ],
      "metadata": {
        "colab": {
          "base_uri": "https://localhost:8080/"
        },
        "id": "HRsypBdGaeak",
        "outputId": "b50afd1a-7f9a-411e-a782-c560cb2028f3"
      },
      "execution_count": 24,
      "outputs": [
        {
          "output_type": "execute_result",
          "data": {
            "text/plain": [
              "tensor([0, 0, 0, 0, 0, 0, 0, 0, 0, 0, 0, 0, 0, 0, 0, 0, 0, 0, 0, 0, 0, 0, 0, 0,\n",
              "        0, 0, 0, 0, 0, 0, 0, 0, 0, 0, 0, 0, 0, 0, 0, 0, 0, 0, 0, 0, 0, 0, 0, 0,\n",
              "        0, 0, 0, 0, 0, 0, 0, 0, 0, 0, 0, 0, 0, 0, 0, 0, 0, 0, 0, 0, 0, 0, 0, 0,\n",
              "        0, 0, 0, 0, 0, 0, 0, 0, 0, 0, 0, 0, 0, 0, 0, 0, 0, 0, 0, 0, 0, 0, 0, 0,\n",
              "        0, 0, 0, 0, 0, 0, 0, 0, 0, 0, 0, 0, 0, 0, 0, 0, 0, 0, 1, 0, 1, 0, 0, 0,\n",
              "        0, 0, 0, 0, 0, 0, 0, 0, 0, 0, 1, 1, 1, 1, 1, 0, 1, 1, 0, 0, 1, 1, 1, 1,\n",
              "        0, 1, 1, 1, 1, 1, 1, 1, 0, 1, 0, 1, 0, 0, 0, 0, 0, 0, 0, 1, 1, 1, 1, 0,\n",
              "        1, 1, 0, 0, 0, 0, 0, 0, 0, 0, 0, 0, 0, 0, 0, 1, 1, 0, 0, 1, 1, 0, 0, 0,\n",
              "        1, 1, 1, 1, 1, 0, 0, 0, 0, 0, 0, 0, 0, 0, 1, 1, 0, 0, 1, 0, 1, 1, 1, 1,\n",
              "        0, 1, 0, 0, 1, 1, 0, 1, 1, 0, 0, 0, 0, 1, 1, 1, 1, 0, 0, 1, 0, 0, 0, 0,\n",
              "        0, 0, 0, 0, 0, 1, 1, 1, 0, 1, 0, 1, 1, 0, 0, 0, 0, 0, 0, 0, 0, 0, 0, 0,\n",
              "        0, 0, 0, 0, 0, 0, 0, 0, 0, 0, 0, 0, 0, 0, 0, 0, 1, 0, 0, 0, 0, 0, 0, 0,\n",
              "        0, 0, 1, 0, 0, 0, 0, 0, 1, 0, 1, 0, 0, 0, 0, 0, 0, 0, 0, 0, 0, 0, 0, 0,\n",
              "        0, 1, 1, 0, 0, 0, 0, 0, 0, 0, 0, 0, 0, 0, 0, 0, 0, 0, 0, 1, 1, 1, 0, 0,\n",
              "        0, 0, 0, 0, 0, 0, 0, 0, 1, 0, 0, 1, 0, 0, 0, 0, 0, 0, 0, 0, 0, 0, 0, 0,\n",
              "        0, 0, 0, 0, 0, 0, 1, 1, 0, 0, 0, 0, 0, 1, 0, 0, 0, 0, 0, 0, 0, 0, 0, 1,\n",
              "        0, 0, 0, 0, 0, 0, 1, 0, 0, 0, 0, 0, 0, 0, 0, 1, 1, 1, 1, 1, 0, 0, 0, 1,\n",
              "        1, 0, 0, 0, 0, 0, 0, 0, 0, 0, 0, 0, 0, 0, 0, 0, 0, 1, 0, 0, 0, 0, 0, 0,\n",
              "        0, 1, 0, 0, 0, 0, 0, 0, 0, 0, 0, 0, 0, 0, 0, 0, 0, 0, 0, 1, 0, 0, 0, 0,\n",
              "        1, 0, 1, 1, 1, 1, 1, 1, 1, 0, 0, 0, 0, 0, 0, 0, 0, 0, 0, 0, 0, 0, 0, 0,\n",
              "        0, 0, 0, 0, 0, 0, 0, 0, 0, 0, 0, 0, 0, 0, 0, 0, 0, 0, 1, 0, 0, 0, 0, 0,\n",
              "        0, 0, 1, 1, 0, 1, 0, 0, 0, 0, 0, 0, 0, 0, 0, 0, 0, 0, 0, 0, 1, 1, 0, 0,\n",
              "        0, 0, 0, 0, 0, 0, 0, 0, 0, 0, 0, 0, 0, 0, 0, 0, 0, 1, 0, 0, 0, 0, 0, 1,\n",
              "        0, 1, 1, 1, 0, 1, 0, 0, 0, 0, 0, 0, 0, 0, 0, 1, 0, 1, 1],\n",
              "       device='cuda:0')"
            ]
          },
          "metadata": {},
          "execution_count": 24
        }
      ]
    },
    {
      "cell_type": "code",
      "source": [
        "class SyntheticDataset(dgl.data.DGLDataset):\n",
        "  def __init__(self):\n",
        "    super().__init__(name=\"synthetic\")\n",
        "  def process(self):\n",
        "    self.graphs = graphs\n",
        "    self.labels = torch.LongTensor(labels)\n",
        "  def __getitem__(self,i):\n",
        "    return self.graphs[i], self.labels[i]\n",
        "  def __len__(self):\n",
        "    return len(self.graphs)\n",
        "\n",
        "dataset = SyntheticDataset()"
      ],
      "metadata": {
        "id": "67w30_dRb5yK"
      },
      "execution_count": 25,
      "outputs": []
    },
    {
      "cell_type": "code",
      "source": [
        "from dgl.data.graph_serialize import GraphData\n",
        "from dgl.dataloading import GraphDataLoader\n",
        "from torch.utils.data.sampler import SubsetRandomSampler\n",
        "\n",
        "num_examples = len(dataset)\n",
        "num_train = int(num_examples * 0.8)\n",
        "\n",
        "train_sampler = SubsetRandomSampler(torch.arange(num_train))\n",
        "test_sampler = SubsetRandomSampler(torch.arange(num_train, num_examples))\n",
        "\n",
        "train_dataloader = GraphDataLoader(dataset, sampler=train_sampler, batch_size=5, drop_last=False)\n",
        "test_dataloader = GraphDataLoader(dataset, sampler=test_sampler, batch_size=5, drop_last=False)\n"
      ],
      "metadata": {
        "id": "0GsQTbp3jYAe"
      },
      "execution_count": 26,
      "outputs": []
    },
    {
      "cell_type": "code",
      "source": [
        "dataset\n",
        "from torch.nn import functional as F"
      ],
      "metadata": {
        "id": "q_I6hFuSlIYY"
      },
      "execution_count": 27,
      "outputs": []
    },
    {
      "cell_type": "code",
      "source": [
        "from dgl.nn import GraphConv\n",
        "\n",
        "\n",
        "class GCN(torch.nn.Module):\n",
        "  def __init__(self, in_feats, h_feats, num_classes):\n",
        "    super(GCN, self).__init__()\n",
        "    self.conv1 = GraphConv(in_feats, h_feats)\n",
        "    self.conv2 = GraphConv(h_feats, num_classes)\n",
        "  \n",
        "  def forward(self, g, in_feats):\n",
        "    h = self.conv1(g, in_feats)\n",
        "    h = F.relu(h)\n",
        "    h = self.conv2(g, h)\n",
        "    g.ndata['h'] = h\n",
        "    return dgl.mean_nodes(g, 'h')"
      ],
      "metadata": {
        "id": "DOvqd3y9lKqx"
      },
      "execution_count": 28,
      "outputs": []
    },
    {
      "cell_type": "code",
      "source": [
        "import tqdm\n",
        "from tqdm import tqdm\n",
        "import time\n",
        "from time import sleep"
      ],
      "metadata": {
        "id": "zmXY5GXTpgz4"
      },
      "execution_count": 29,
      "outputs": []
    },
    {
      "cell_type": "code",
      "source": [
        "torch.cuda.is_available()"
      ],
      "metadata": {
        "colab": {
          "base_uri": "https://localhost:8080/"
        },
        "id": "_apsMSYhwXUH",
        "outputId": "b5a74d70-c20d-48df-cdb1-0be26a94526e"
      },
      "execution_count": 30,
      "outputs": [
        {
          "output_type": "execute_result",
          "data": {
            "text/plain": [
              "True"
            ]
          },
          "metadata": {},
          "execution_count": 30
        }
      ]
    },
    {
      "cell_type": "code",
      "source": [
        "## Train and Evaluate\n",
        "batch_size=5\n",
        "model = GCN(9,8,2)\n",
        "optimizer = torch.optim.Adam(model.parameters(), lr = 0.01)\n",
        "\n",
        "for epoch in range(20):\n",
        "  with tqdm(train_dataloader, unit=\"batch\") as tepoch:\n",
        "      tepoch.set_description(f\"Epoch {epoch}\")\n",
        "      for batched_graph, labels in train_dataloader:\n",
        "        pred = model(batched_graph, batched_graph.ndata['feat'].float())\n",
        "        print(pred, labels)\n",
        "        loss = F.cross_entropy(pred, labels)\n",
        "        optimizer.zero_grad()\n",
        "        loss.backward()\n",
        "        optimizer.step()\n",
        "        predictions = pred.argmax(dim=-1, keepdim=True).squeeze()\n",
        "        # loss = F.nll_loss(output, target)\n",
        "        correct = (predictions == labels).sum().item()\n",
        "        accuracy = correct / batch_size\n",
        "        tepoch.set_postfix(loss=loss.item(), accuracy=100. * accuracy)\n",
        "        sleep(0.1)\n",
        "num_correct = 0\n",
        "num_tests = 0\n",
        "\n",
        "for batched_graph, labels in test_dataloader:\n",
        "  pred = model(batched_graph, batched_graph.ndata['feat'].float())\n",
        "  num_correct += (pred.argmax(1) == labels).sum().item()\n",
        "  num_tests += len(labels)\n",
        "\n",
        "print('Test accuracy:', num_correct / num_tests)"
      ],
      "metadata": {
        "colab": {
          "base_uri": "https://localhost:8080/"
        },
        "id": "5ObuppJWnYhE",
        "outputId": "15a07e71-f1c9-4e3d-d1fa-0f3d7fcb528a"
      },
      "execution_count": 31,
      "outputs": [
        {
          "output_type": "stream",
          "name": "stderr",
          "text": [
            "Epoch 0:   0%|          | 0/92 [00:11<?, ?batch/s, accuracy=20, loss=0.264]\n",
            "Epoch 1:   0%|          | 0/92 [00:10<?, ?batch/s, accuracy=20, loss=0.247]\n",
            "Epoch 2:   0%|          | 0/92 [00:09<?, ?batch/s, accuracy=20, loss=0.173]\n",
            "Epoch 3:   0%|          | 0/92 [00:09<?, ?batch/s, accuracy=20, loss=0.265]\n",
            "Epoch 4:   0%|          | 0/92 [00:09<?, ?batch/s, accuracy=20, loss=0.206]\n",
            "Epoch 5:   0%|          | 0/92 [00:09<?, ?batch/s, accuracy=20, loss=0.165]\n",
            "Epoch 6:   0%|          | 0/92 [00:10<?, ?batch/s, accuracy=20, loss=0.32]\n",
            "Epoch 7:   0%|          | 0/92 [00:09<?, ?batch/s, accuracy=20, loss=0.276]\n",
            "Epoch 8:   0%|          | 0/92 [00:09<?, ?batch/s, accuracy=20, loss=0.131]\n",
            "Epoch 9:   0%|          | 0/92 [00:10<?, ?batch/s, accuracy=20, loss=0.362]\n",
            "Epoch 10:   0%|          | 0/92 [00:11<?, ?batch/s, accuracy=20, loss=0.416]\n",
            "Epoch 11:   0%|          | 0/92 [00:09<?, ?batch/s, accuracy=20, loss=0.462]\n",
            "Epoch 12:   0%|          | 0/92 [00:09<?, ?batch/s, accuracy=0, loss=0.987]\n",
            "Epoch 13:   0%|          | 0/92 [00:09<?, ?batch/s, accuracy=20, loss=0.169]\n",
            "Epoch 14:   0%|          | 0/92 [00:09<?, ?batch/s, accuracy=20, loss=0.48]\n",
            "Epoch 15:   0%|          | 0/92 [00:09<?, ?batch/s, accuracy=0, loss=1.98]\n",
            "Epoch 16:   0%|          | 0/92 [00:09<?, ?batch/s, accuracy=0, loss=0.902]\n",
            "Epoch 17:   0%|          | 0/92 [00:09<?, ?batch/s, accuracy=20, loss=0.0191]\n",
            "Epoch 18:   0%|          | 0/92 [00:09<?, ?batch/s, accuracy=20, loss=0.0987]\n",
            "Epoch 19:   0%|          | 0/92 [00:09<?, ?batch/s, accuracy=20, loss=0.209]"
          ]
        },
        {
          "output_type": "stream",
          "name": "stdout",
          "text": [
            "Test accuracy: 0.808695652173913\n"
          ]
        },
        {
          "output_type": "stream",
          "name": "stderr",
          "text": [
            "\n"
          ]
        }
      ]
    },
    {
      "cell_type": "code",
      "source": [
        "pred"
      ],
      "metadata": {
        "id": "AggFyOTNqbE0",
        "colab": {
          "base_uri": "https://localhost:8080/"
        },
        "outputId": "7fa84a3a-448d-46f8-fc9c-ec72ffa3bc15"
      },
      "execution_count": 32,
      "outputs": [
        {
          "output_type": "execute_result",
          "data": {
            "text/plain": [
              "tensor([[ 0.5745, -2.3756],\n",
              "        [ 1.5790, -3.2374],\n",
              "        [ 1.4053, -2.9137],\n",
              "        [ 1.1315, -2.3905],\n",
              "        [ 2.9154, -4.5252]], grad_fn=<DivBackward0>)"
            ]
          },
          "metadata": {},
          "execution_count": 32
        }
      ]
    },
    {
      "cell_type": "code",
      "source": [
        "pwd"
      ],
      "metadata": {
        "colab": {
          "base_uri": "https://localhost:8080/",
          "height": 35
        },
        "id": "yWS3muHe6Ch7",
        "outputId": "34e4a0f2-e76d-4f2e-fb17-c67dbf408cd8"
      },
      "execution_count": 34,
      "outputs": [
        {
          "output_type": "execute_result",
          "data": {
            "text/plain": [
              "'/content'"
            ],
            "application/vnd.google.colaboratory.intrinsic+json": {
              "type": "string"
            }
          },
          "metadata": {},
          "execution_count": 34
        }
      ]
    },
    {
      "cell_type": "code",
      "source": [
        "torch.save(model,\"GCNN.pt\" )"
      ],
      "metadata": {
        "id": "h7d63m7I4ELx"
      },
      "execution_count": 38,
      "outputs": []
    },
    {
      "cell_type": "code",
      "source": [
        "##load model\n",
        "model = torch.load(\"GCNN.pt\")\n",
        "model.eval()"
      ],
      "metadata": {
        "colab": {
          "base_uri": "https://localhost:8080/"
        },
        "id": "0ljp4j2z59Cy",
        "outputId": "9ffbc8ca-98ce-47d6-acfb-5921bbe074bd"
      },
      "execution_count": 39,
      "outputs": [
        {
          "output_type": "execute_result",
          "data": {
            "text/plain": [
              "GCN(\n",
              "  (conv1): GraphConv(in=9, out=8, normalization=both, activation=None)\n",
              "  (conv2): GraphConv(in=8, out=2, normalization=both, activation=None)\n",
              ")"
            ]
          },
          "metadata": {},
          "execution_count": 39
        }
      ]
    },
    {
      "cell_type": "code",
      "source": [
        ""
      ],
      "metadata": {
        "id": "y9gVHQxV6z0k"
      },
      "execution_count": null,
      "outputs": []
    }
  ]
}