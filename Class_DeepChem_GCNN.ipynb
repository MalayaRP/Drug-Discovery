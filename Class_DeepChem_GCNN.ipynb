{
  "cells": [
    {
      "cell_type": "markdown",
      "metadata": {
        "id": "view-in-github",
        "colab_type": "text"
      },
      "source": [
        "<a href=\"https://colab.research.google.com/github/MalayaRP/Drug-Discovery/blob/main/Class_DeepChem_GCNN.ipynb\" target=\"_parent\"><img src=\"https://colab.research.google.com/assets/colab-badge.svg\" alt=\"Open In Colab\"/></a>"
      ]
    },
    {
      "cell_type": "code",
      "execution_count": null,
      "metadata": {
        "colab": {
          "base_uri": "https://localhost:8080/"
        },
        "id": "VSB1d_mWLhf_",
        "outputId": "a5158118-e483-4381-8250-085c3c96ba13"
      },
      "outputs": [
        {
          "output_type": "stream",
          "name": "stdout",
          "text": [
            "Collecting rdkit-pypi\n",
            "  Downloading rdkit_pypi-2022.3.2.1-cp37-cp37m-manylinux_2_17_x86_64.manylinux2014_x86_64.whl (22.7 MB)\n",
            "\u001b[K     |████████████████████████████████| 22.7 MB 1.1 MB/s \n",
            "\u001b[?25hRequirement already satisfied: Pillow in /usr/local/lib/python3.7/dist-packages (from rdkit-pypi) (7.1.2)\n",
            "Requirement already satisfied: numpy in /usr/local/lib/python3.7/dist-packages (from rdkit-pypi) (1.21.6)\n",
            "Installing collected packages: rdkit-pypi\n",
            "Successfully installed rdkit-pypi-2022.3.2.1\n"
          ]
        }
      ],
      "source": [
        "!pip install rdkit-pypi"
      ]
    },
    {
      "cell_type": "code",
      "source": [
        "from rdkit.Chem import PandasTools"
      ],
      "metadata": {
        "id": "rVv6T1eKeZNP"
      },
      "execution_count": null,
      "outputs": []
    },
    {
      "cell_type": "code",
      "source": [
        "# df = PandasTools.LoadSDF(\"pruned_dataset1.sdf\", smilesName=\"Smiles\")"
      ],
      "metadata": {
        "id": "fbGKb_0weZQD"
      },
      "execution_count": null,
      "outputs": []
    },
    {
      "cell_type": "code",
      "source": [
        "# df = df[[\"Smiles\", \"Stable\"]]"
      ],
      "metadata": {
        "id": "wCMWY5xAeZSU"
      },
      "execution_count": null,
      "outputs": []
    },
    {
      "cell_type": "code",
      "source": [
        "df"
      ],
      "metadata": {
        "colab": {
          "base_uri": "https://localhost:8080/",
          "height": 167
        },
        "id": "wQsGnDM3eZUb",
        "outputId": "c91c4a0f-8ffa-44d1-8859-61d31c466edd"
      },
      "execution_count": null,
      "outputs": [
        {
          "output_type": "error",
          "ename": "NameError",
          "evalue": "ignored",
          "traceback": [
            "\u001b[0;31m---------------------------------------------------------------------------\u001b[0m",
            "\u001b[0;31mNameError\u001b[0m                                 Traceback (most recent call last)",
            "\u001b[0;32m<ipython-input-6-00cf07b74dcd>\u001b[0m in \u001b[0;36m<module>\u001b[0;34m()\u001b[0m\n\u001b[0;32m----> 1\u001b[0;31m \u001b[0mdf\u001b[0m\u001b[0;34m\u001b[0m\u001b[0;34m\u001b[0m\u001b[0m\n\u001b[0m",
            "\u001b[0;31mNameError\u001b[0m: name 'df' is not defined"
          ]
        }
      ]
    },
    {
      "cell_type": "code",
      "source": [
        ""
      ],
      "metadata": {
        "id": "AxPPpY7KeZX6"
      },
      "execution_count": null,
      "outputs": []
    },
    {
      "cell_type": "code",
      "execution_count": null,
      "metadata": {
        "id": "jD0EqOLhQjND",
        "colab": {
          "base_uri": "https://localhost:8080/"
        },
        "outputId": "937c7804-52d3-46de-f40f-8523eeed7311"
      },
      "outputs": [
        {
          "output_type": "stream",
          "name": "stdout",
          "text": [
            "Collecting deepchem[torch]\n",
            "  Downloading deepchem-2.6.1-py3-none-any.whl (608 kB)\n",
            "\u001b[?25l\r\u001b[K     |▌                               | 10 kB 27.8 MB/s eta 0:00:01\r\u001b[K     |█                               | 20 kB 8.8 MB/s eta 0:00:01\r\u001b[K     |█▋                              | 30 kB 6.3 MB/s eta 0:00:01\r\u001b[K     |██▏                             | 40 kB 5.8 MB/s eta 0:00:01\r\u001b[K     |██▊                             | 51 kB 3.4 MB/s eta 0:00:01\r\u001b[K     |███▎                            | 61 kB 4.0 MB/s eta 0:00:01\r\u001b[K     |███▊                            | 71 kB 4.6 MB/s eta 0:00:01\r\u001b[K     |████▎                           | 81 kB 4.5 MB/s eta 0:00:01\r\u001b[K     |████▉                           | 92 kB 5.0 MB/s eta 0:00:01\r\u001b[K     |█████▍                          | 102 kB 3.8 MB/s eta 0:00:01\r\u001b[K     |██████                          | 112 kB 3.8 MB/s eta 0:00:01\r\u001b[K     |██████▌                         | 122 kB 3.8 MB/s eta 0:00:01\r\u001b[K     |███████                         | 133 kB 3.8 MB/s eta 0:00:01\r\u001b[K     |███████▌                        | 143 kB 3.8 MB/s eta 0:00:01\r\u001b[K     |████████                        | 153 kB 3.8 MB/s eta 0:00:01\r\u001b[K     |████████▋                       | 163 kB 3.8 MB/s eta 0:00:01\r\u001b[K     |█████████▏                      | 174 kB 3.8 MB/s eta 0:00:01\r\u001b[K     |█████████▊                      | 184 kB 3.8 MB/s eta 0:00:01\r\u001b[K     |██████████▎                     | 194 kB 3.8 MB/s eta 0:00:01\r\u001b[K     |██████████▊                     | 204 kB 3.8 MB/s eta 0:00:01\r\u001b[K     |███████████▎                    | 215 kB 3.8 MB/s eta 0:00:01\r\u001b[K     |███████████▉                    | 225 kB 3.8 MB/s eta 0:00:01\r\u001b[K     |████████████▍                   | 235 kB 3.8 MB/s eta 0:00:01\r\u001b[K     |█████████████                   | 245 kB 3.8 MB/s eta 0:00:01\r\u001b[K     |█████████████▌                  | 256 kB 3.8 MB/s eta 0:00:01\r\u001b[K     |██████████████                  | 266 kB 3.8 MB/s eta 0:00:01\r\u001b[K     |██████████████▌                 | 276 kB 3.8 MB/s eta 0:00:01\r\u001b[K     |███████████████                 | 286 kB 3.8 MB/s eta 0:00:01\r\u001b[K     |███████████████▋                | 296 kB 3.8 MB/s eta 0:00:01\r\u001b[K     |████████████████▏               | 307 kB 3.8 MB/s eta 0:00:01\r\u001b[K     |████████████████▊               | 317 kB 3.8 MB/s eta 0:00:01\r\u001b[K     |█████████████████▎              | 327 kB 3.8 MB/s eta 0:00:01\r\u001b[K     |█████████████████▊              | 337 kB 3.8 MB/s eta 0:00:01\r\u001b[K     |██████████████████▎             | 348 kB 3.8 MB/s eta 0:00:01\r\u001b[K     |██████████████████▉             | 358 kB 3.8 MB/s eta 0:00:01\r\u001b[K     |███████████████████▍            | 368 kB 3.8 MB/s eta 0:00:01\r\u001b[K     |████████████████████            | 378 kB 3.8 MB/s eta 0:00:01\r\u001b[K     |████████████████████▌           | 389 kB 3.8 MB/s eta 0:00:01\r\u001b[K     |█████████████████████           | 399 kB 3.8 MB/s eta 0:00:01\r\u001b[K     |█████████████████████▌          | 409 kB 3.8 MB/s eta 0:00:01\r\u001b[K     |██████████████████████          | 419 kB 3.8 MB/s eta 0:00:01\r\u001b[K     |██████████████████████▋         | 430 kB 3.8 MB/s eta 0:00:01\r\u001b[K     |███████████████████████▏        | 440 kB 3.8 MB/s eta 0:00:01\r\u001b[K     |███████████████████████▊        | 450 kB 3.8 MB/s eta 0:00:01\r\u001b[K     |████████████████████████▎       | 460 kB 3.8 MB/s eta 0:00:01\r\u001b[K     |████████████████████████▉       | 471 kB 3.8 MB/s eta 0:00:01\r\u001b[K     |█████████████████████████▎      | 481 kB 3.8 MB/s eta 0:00:01\r\u001b[K     |█████████████████████████▉      | 491 kB 3.8 MB/s eta 0:00:01\r\u001b[K     |██████████████████████████▍     | 501 kB 3.8 MB/s eta 0:00:01\r\u001b[K     |███████████████████████████     | 512 kB 3.8 MB/s eta 0:00:01\r\u001b[K     |███████████████████████████▌    | 522 kB 3.8 MB/s eta 0:00:01\r\u001b[K     |████████████████████████████    | 532 kB 3.8 MB/s eta 0:00:01\r\u001b[K     |████████████████████████████▌   | 542 kB 3.8 MB/s eta 0:00:01\r\u001b[K     |█████████████████████████████   | 552 kB 3.8 MB/s eta 0:00:01\r\u001b[K     |█████████████████████████████▋  | 563 kB 3.8 MB/s eta 0:00:01\r\u001b[K     |██████████████████████████████▏ | 573 kB 3.8 MB/s eta 0:00:01\r\u001b[K     |██████████████████████████████▊ | 583 kB 3.8 MB/s eta 0:00:01\r\u001b[K     |███████████████████████████████▎| 593 kB 3.8 MB/s eta 0:00:01\r\u001b[K     |███████████████████████████████▉| 604 kB 3.8 MB/s eta 0:00:01\r\u001b[K     |████████████████████████████████| 608 kB 3.8 MB/s \n",
            "\u001b[?25hRequirement already satisfied: scipy in /usr/local/lib/python3.7/dist-packages (from deepchem[torch]) (1.4.1)\n",
            "Requirement already satisfied: numpy>=1.21 in /usr/local/lib/python3.7/dist-packages (from deepchem[torch]) (1.21.6)\n",
            "Requirement already satisfied: rdkit-pypi in /usr/local/lib/python3.7/dist-packages (from deepchem[torch]) (2022.3.2.1)\n",
            "Requirement already satisfied: pandas in /usr/local/lib/python3.7/dist-packages (from deepchem[torch]) (1.3.5)\n",
            "Requirement already satisfied: scikit-learn in /usr/local/lib/python3.7/dist-packages (from deepchem[torch]) (1.0.2)\n",
            "Requirement already satisfied: joblib in /usr/local/lib/python3.7/dist-packages (from deepchem[torch]) (1.1.0)\n",
            "Collecting dgl\n",
            "  Downloading dgl-0.6.1-cp37-cp37m-manylinux1_x86_64.whl (4.4 MB)\n",
            "\u001b[K     |████████████████████████████████| 4.4 MB 45.2 MB/s \n",
            "\u001b[?25hCollecting dgllife\n",
            "  Downloading dgllife-0.2.9.tar.gz (138 kB)\n",
            "\u001b[K     |████████████████████████████████| 138 kB 54.3 MB/s \n",
            "\u001b[?25hRequirement already satisfied: torch in /usr/local/lib/python3.7/dist-packages (from deepchem[torch]) (1.11.0+cu113)\n",
            "Requirement already satisfied: torchvision in /usr/local/lib/python3.7/dist-packages (from deepchem[torch]) (0.12.0+cu113)\n",
            "Requirement already satisfied: requests>=2.19.0 in /usr/local/lib/python3.7/dist-packages (from dgl->deepchem[torch]) (2.23.0)\n",
            "Requirement already satisfied: networkx>=2.1 in /usr/local/lib/python3.7/dist-packages (from dgl->deepchem[torch]) (2.6.3)\n",
            "Requirement already satisfied: urllib3!=1.25.0,!=1.25.1,<1.26,>=1.21.1 in /usr/local/lib/python3.7/dist-packages (from requests>=2.19.0->dgl->deepchem[torch]) (1.24.3)\n",
            "Requirement already satisfied: chardet<4,>=3.0.2 in /usr/local/lib/python3.7/dist-packages (from requests>=2.19.0->dgl->deepchem[torch]) (3.0.4)\n",
            "Requirement already satisfied: idna<3,>=2.5 in /usr/local/lib/python3.7/dist-packages (from requests>=2.19.0->dgl->deepchem[torch]) (2.10)\n",
            "Requirement already satisfied: certifi>=2017.4.17 in /usr/local/lib/python3.7/dist-packages (from requests>=2.19.0->dgl->deepchem[torch]) (2021.10.8)\n",
            "Requirement already satisfied: tqdm in /usr/local/lib/python3.7/dist-packages (from dgllife->deepchem[torch]) (4.64.0)\n",
            "Requirement already satisfied: hyperopt in /usr/local/lib/python3.7/dist-packages (from dgllife->deepchem[torch]) (0.1.2)\n",
            "Requirement already satisfied: threadpoolctl>=2.0.0 in /usr/local/lib/python3.7/dist-packages (from scikit-learn->deepchem[torch]) (3.1.0)\n",
            "Requirement already satisfied: future in /usr/local/lib/python3.7/dist-packages (from hyperopt->dgllife->deepchem[torch]) (0.16.0)\n",
            "Requirement already satisfied: six in /usr/local/lib/python3.7/dist-packages (from hyperopt->dgllife->deepchem[torch]) (1.15.0)\n",
            "Requirement already satisfied: pymongo in /usr/local/lib/python3.7/dist-packages (from hyperopt->dgllife->deepchem[torch]) (4.1.1)\n",
            "Requirement already satisfied: pytz>=2017.3 in /usr/local/lib/python3.7/dist-packages (from pandas->deepchem[torch]) (2022.1)\n",
            "Requirement already satisfied: python-dateutil>=2.7.3 in /usr/local/lib/python3.7/dist-packages (from pandas->deepchem[torch]) (2.8.2)\n",
            "Requirement already satisfied: Pillow in /usr/local/lib/python3.7/dist-packages (from rdkit-pypi->deepchem[torch]) (7.1.2)\n",
            "Requirement already satisfied: typing-extensions in /usr/local/lib/python3.7/dist-packages (from torch->deepchem[torch]) (4.2.0)\n",
            "Building wheels for collected packages: dgllife\n",
            "  Building wheel for dgllife (setup.py) ... \u001b[?25l\u001b[?25hdone\n",
            "  Created wheel for dgllife: filename=dgllife-0.2.9-py3-none-any.whl size=219056 sha256=325fa7d91565df56c1c9357367e672829da451c53b7bf695bd5dd86c8b877843\n",
            "  Stored in directory: /root/.cache/pip/wheels/34/83/11/9772c74b559d9182c9083362e8ba8b0201c4963e41e03859fe\n",
            "Successfully built dgllife\n",
            "Installing collected packages: dgllife, dgl, deepchem\n",
            "Successfully installed deepchem-2.6.1 dgl-0.6.1 dgllife-0.2.9\n"
          ]
        }
      ],
      "source": [
        "pip install --pre deepchem[torch]"
      ]
    },
    {
      "cell_type": "code",
      "execution_count": null,
      "metadata": {
        "id": "svfS3y1VLhSd"
      },
      "outputs": [],
      "source": [
        "from rdkit import Chem\n",
        "from rdkit.Chem import Draw\n",
        "from rdkit.Chem.Draw import MolsToGridImage\n",
        "import deepchem as dc"
      ]
    },
    {
      "cell_type": "code",
      "execution_count": null,
      "metadata": {
        "colab": {
          "base_uri": "https://localhost:8080/"
        },
        "id": "4jxh5VVU9Cj_",
        "outputId": "d8186cb2-c443-450b-d05b-81ec9cf1c8f3"
      },
      "outputs": [
        {
          "output_type": "stream",
          "name": "stdout",
          "text": [
            "--2022-05-22 06:05:23--  https://raw.githubusercontent.com/deepchem/deepchem/master/datasets/delaney-processed.csv\n",
            "Resolving raw.githubusercontent.com (raw.githubusercontent.com)... 185.199.108.133, 185.199.109.133, 185.199.110.133, ...\n",
            "Connecting to raw.githubusercontent.com (raw.githubusercontent.com)|185.199.108.133|:443... connected.\n",
            "HTTP request sent, awaiting response... 200 OK\n",
            "Length: 96699 (94K) [text/plain]\n",
            "Saving to: ‘delaney-processed.csv’\n",
            "\n",
            "delaney-processed.c 100%[===================>]  94.43K  --.-KB/s    in 0.01s   \n",
            "\n",
            "2022-05-22 06:05:23 (6.59 MB/s) - ‘delaney-processed.csv’ saved [96699/96699]\n",
            "\n"
          ]
        }
      ],
      "source": [
        "\n",
        "!wget https://raw.githubusercontent.com/deepchem/deepchem/master/datasets/delaney-processed.csv"
      ]
    },
    {
      "cell_type": "code",
      "execution_count": null,
      "metadata": {
        "colab": {
          "base_uri": "https://localhost:8080/"
        },
        "id": "L2EvY8Fq9R-1",
        "outputId": "8bfb6850-f950-42a3-8891-8dd4291180ff"
      },
      "outputs": [
        {
          "output_type": "stream",
          "name": "stdout",
          "text": [
            "Requirement already satisfied: deepchem in /usr/local/lib/python3.7/dist-packages (2.6.1)\n",
            "Requirement already satisfied: rdkit-pypi in /usr/local/lib/python3.7/dist-packages (from deepchem) (2022.3.2.1)\n",
            "Requirement already satisfied: scipy in /usr/local/lib/python3.7/dist-packages (from deepchem) (1.4.1)\n",
            "Requirement already satisfied: pandas in /usr/local/lib/python3.7/dist-packages (from deepchem) (1.3.5)\n",
            "Requirement already satisfied: scikit-learn in /usr/local/lib/python3.7/dist-packages (from deepchem) (1.0.2)\n",
            "Requirement already satisfied: numpy>=1.21 in /usr/local/lib/python3.7/dist-packages (from deepchem) (1.21.6)\n",
            "Requirement already satisfied: joblib in /usr/local/lib/python3.7/dist-packages (from deepchem) (1.1.0)\n",
            "Requirement already satisfied: pytz>=2017.3 in /usr/local/lib/python3.7/dist-packages (from pandas->deepchem) (2022.1)\n",
            "Requirement already satisfied: python-dateutil>=2.7.3 in /usr/local/lib/python3.7/dist-packages (from pandas->deepchem) (2.8.2)\n",
            "Requirement already satisfied: six>=1.5 in /usr/local/lib/python3.7/dist-packages (from python-dateutil>=2.7.3->pandas->deepchem) (1.15.0)\n",
            "Requirement already satisfied: Pillow in /usr/local/lib/python3.7/dist-packages (from rdkit-pypi->deepchem) (7.1.2)\n",
            "Requirement already satisfied: threadpoolctl>=2.0.0 in /usr/local/lib/python3.7/dist-packages (from scikit-learn->deepchem) (3.1.0)\n"
          ]
        }
      ],
      "source": [
        "!pip install deepchem"
      ]
    },
    {
      "cell_type": "code",
      "execution_count": null,
      "metadata": {
        "id": "SX0agzaDGui0"
      },
      "outputs": [],
      "source": [
        "from deepchem.utils.save import load_from_disk\n",
        "\n",
        "dataset_file= \"pruned_dataset1.csv\"\n",
        "train_dataset = load_from_disk(dataset_file)"
      ]
    },
    {
      "cell_type": "code",
      "execution_count": null,
      "metadata": {
        "colab": {
          "base_uri": "https://localhost:8080/"
        },
        "id": "strulIvV9iHs",
        "outputId": "c591e711-8c84-4dbe-dd91-5528d9562638"
      },
      "outputs": [
        {
          "output_type": "stream",
          "name": "stdout",
          "text": [
            "['Smiles' 'Stable' 'Half-Life in MLM minutes']\n"
          ]
        }
      ],
      "source": [
        "print(train_dataset.columns.values)"
      ]
    },
    {
      "cell_type": "code",
      "execution_count": null,
      "metadata": {
        "id": "1TS1Dcpn9lvc"
      },
      "outputs": [],
      "source": [
        "train_dataset.shape[0]\n",
        "import seaborn as sns\n",
        "from matplotlib import pyplot as plt\n",
        "tasks = [\"Stable\"]"
      ]
    },
    {
      "cell_type": "code",
      "execution_count": null,
      "metadata": {
        "id": "w7Q-sn-uHQcI"
      },
      "outputs": [],
      "source": [
        "# train_dataset[\"Stable\"]"
      ]
    },
    {
      "cell_type": "code",
      "execution_count": null,
      "metadata": {
        "colab": {
          "base_uri": "https://localhost:8080/",
          "height": 296
        },
        "id": "30Q8Cga8HjLP",
        "outputId": "e5ba0566-286d-440e-c164-d78f2243648e"
      },
      "outputs": [
        {
          "output_type": "execute_result",
          "data": {
            "text/plain": [
              "<matplotlib.axes._subplots.AxesSubplot at 0x7f67cc4b5250>"
            ]
          },
          "metadata": {},
          "execution_count": 60
        },
        {
          "output_type": "display_data",
          "data": {
            "text/plain": [
              "<Figure size 432x288 with 1 Axes>"
            ],
            "image/png": "[encoded data removed]"
          },
          "metadata": {
            "needs_background": "light"
          }
        }
      ],
      "source": [
        "plt.ylabel(\"Num Compounds\")\n",
        "plt.xlabel(\"Log S\")\n",
        "sns.histplot(train_dataset[\"Stable\"])"
      ]
    },
    {
      "cell_type": "code",
      "execution_count": null,
      "metadata": {
        "id": "-3WZQj9wHunr"
      },
      "outputs": [],
      "source": [
        "import deepchem as dc\n",
        "\n",
        "featurizer = dc.feat.ConvMolFeaturizer()"
      ]
    },
    {
      "cell_type": "code",
      "source": [
        "# featurizer = dc.feat.MolGraphConvFeaturizer()"
      ],
      "metadata": {
        "id": "NolR4yC1ZPaY"
      },
      "execution_count": null,
      "outputs": []
    },
    {
      "cell_type": "code",
      "execution_count": null,
      "metadata": {
        "id": "JmE43bTeIjwq"
      },
      "outputs": [],
      "source": [
        "# # featurizer\n",
        "# tasks = sorted(['Stable'])\n",
        "# train_data = \"pruned_dataset1.sdf\""
      ]
    },
    {
      "cell_type": "code",
      "execution_count": null,
      "metadata": {
        "colab": {
          "base_uri": "https://localhost:8080/"
        },
        "id": "g6J-AN-BIl6W",
        "outputId": "c7b7d2e3-fe16-434c-fba0-1c7a69f019c8"
      },
      "outputs": [
        {
          "output_type": "stream",
          "name": "stderr",
          "text": [
            "smiles_field is deprecated and will be removed in a future version of DeepChem.Use feature_field instead.\n",
            "/usr/local/lib/python3.7/dist-packages/deepchem/data/data_loader.py:163: FutureWarning: featurize() is deprecated and has been renamed to create_dataset().featurize() will be removed in DeepChem 3.0\n",
            "  \"featurize() will be removed in DeepChem 3.0\", FutureWarning)\n"
          ]
        },
        {
          "output_type": "execute_result",
          "data": {
            "text/plain": [
              "<DiskDataset X.shape: (759,), y.shape: (759, 1), w.shape: (759, 1), ids: ['[s:2]1/[c:9](=[C:8]2/[S:3][c:14]3[c:11]([cH:18][cH:24][cH:25][cH:20]3)[N:6]2[CH3:17])[c:12](=[O:4])[n:5]([CH2:13][CH3:21])/[c:10]1=[CH:15]/[c:16]1[n+:7]([CH2:19][CH3:28])[cH:23][cH:27][cH:26][cH:22]1'\n",
              " 'CC(=O)O[C@H]1C[C@H]2[C@H]([C@@H]3CC[C@H]([C@H](C)CCC(=O)NCCN(C)C)[C@@]13C)[C@H](OC(C)=O)C[C@@H]1CC3(CC[C@]21C)OOC1(CCC(C(=O)NCCN(C)C)CC1)OO3'\n",
              " 'CC(=O)O[C@H]1C[C@H]2[C@H]([C@@H]3CC[C@H]([C@H](C)CCC(=O)Nc4ccccc4)[C@@]13C)[C@H](OC(C)=O)C[C@@H]1CC3(CC[C@]21C)OOC1(CCC(C(=O)Nc2ccccc2)CC1)OO3'\n",
              " ... 'CN1CCN(c2cc(-c3ccccc3)nc(N)n2)CC1'\n",
              " 'CN1CCN(C(=O)c2cc3cc(Cl)ccc3[nH]2)CC1'\n",
              " '[F:1][C:20]([F:2])([F:3])[C:16](=[O:4])[N:6](/[N:7]=[CH:18]/[c:17]1[cH:19][c:22]([O:5][CH3:25])[cH:24][cH:23][cH:21]1)[c:8]1[c:9]([CH3:14])[cH:11][c:10]([CH3:15])[cH:13][cH:12]1'], task_names: ['Stable']>"
            ]
          },
          "metadata": {},
          "execution_count": 64
        }
      ],
      "source": [
        "loader = dc.data.CSVLoader(\n",
        "      tasks=['Stable'], smiles_field=\"Smiles\",\n",
        "      featurizer=featurizer)\n",
        "dataset = loader.featurize(dataset_file)\n",
        "dataset"
      ]
    },
    {
      "cell_type": "code",
      "execution_count": null,
      "metadata": {
        "colab": {
          "base_uri": "https://localhost:8080/"
        },
        "id": "rjAa_lsVJXSl",
        "outputId": "5cfd0eb9-5c63-4439-9c0a-082a57835805"
      },
      "outputs": [
        {
          "output_type": "execute_result",
          "data": {
            "text/plain": [
              "<DiskDataset X.shape: (759,), y.shape: (759, 1), w.shape: (759, 1), ids: ['[s:2]1/[c:9](=[C:8]2/[S:3][c:14]3[c:11]([cH:18][cH:24][cH:25][cH:20]3)[N:6]2[CH3:17])[c:12](=[O:4])[n:5]([CH2:13][CH3:21])/[c:10]1=[CH:15]/[c:16]1[n+:7]([CH2:19][CH3:28])[cH:23][cH:27][cH:26][cH:22]1'\n",
              " 'CC(=O)O[C@H]1C[C@H]2[C@H]([C@@H]3CC[C@H]([C@H](C)CCC(=O)NCCN(C)C)[C@@]13C)[C@H](OC(C)=O)C[C@@H]1CC3(CC[C@]21C)OOC1(CCC(C(=O)NCCN(C)C)CC1)OO3'\n",
              " 'CC(=O)O[C@H]1C[C@H]2[C@H]([C@@H]3CC[C@H]([C@H](C)CCC(=O)Nc4ccccc4)[C@@]13C)[C@H](OC(C)=O)C[C@@H]1CC3(CC[C@]21C)OOC1(CCC(C(=O)Nc2ccccc2)CC1)OO3'\n",
              " ... 'CN1CCN(c2cc(-c3ccccc3)nc(N)n2)CC1'\n",
              " 'CN1CCN(C(=O)c2cc3cc(Cl)ccc3[nH]2)CC1'\n",
              " '[F:1][C:20]([F:2])([F:3])[C:16](=[O:4])[N:6](/[N:7]=[CH:18]/[c:17]1[cH:19][c:22]([O:5][CH3:25])[cH:24][cH:23][cH:21]1)[c:8]1[c:9]([CH3:14])[cH:11][c:10]([CH3:15])[cH:13][cH:12]1'], task_names: ['Stable']>"
            ]
          },
          "metadata": {},
          "execution_count": 65
        }
      ],
      "source": [
        "dataset"
      ]
    },
    {
      "cell_type": "code",
      "execution_count": null,
      "metadata": {
        "id": "l6I2kGvVJZeC"
      },
      "outputs": [],
      "source": [
        "splitter = dc.splits.ScaffoldSplitter()\n",
        "train_dataset, valid_dataset, test_dataset = splitter.train_valid_test_split(\n",
        "    dataset)"
      ]
    },
    {
      "cell_type": "code",
      "execution_count": null,
      "metadata": {
        "id": "cM5zPbf_Kn3J"
      },
      "outputs": [],
      "source": [
        ""
      ]
    },
    {
      "cell_type": "code",
      "execution_count": null,
      "metadata": {
        "id": "_lDWgr6VK36_"
      },
      "outputs": [],
      "source": [
        "train_mols = [Chem.MolFromSmiles(compound)\n",
        "              for compound in train_dataset.ids]"
      ]
    },
    {
      "cell_type": "code",
      "execution_count": null,
      "metadata": {
        "id": "7Y1e06h8M4a1",
        "colab": {
          "base_uri": "https://localhost:8080/"
        },
        "outputId": "8879cd48-c083-497b-9546-248827a2c1b5"
      },
      "outputs": [
        {
          "output_type": "execute_result",
          "data": {
            "text/plain": [
              "<DiskDataset X.shape: (607,), y.shape: (607, 1), w.shape: (607, 1), ids: ['CCCCCC(C)NCc1coc(-c2ccc(OCCCC)c(F)c2)n1'\n",
              " 'CCCCc1ccc(-c2nc(CNC(C)CC)co2)cc1' 'CCCCCC(C)NCc1coc(-c2ccc(CCCC)cc2)n1'\n",
              " ... 'COc1cc2c(NC3CCN(C(C)C)CC3)nc(N3CCOCC3)nc2cc1OCCCN1CCCC1'\n",
              " 'COc1cc2c(NC3CCN(C(C)C)CC3)nc(N3CC(F)(F)C(F)(F)C3)nc2cc1OCCCN1CCCC1'\n",
              " 'COc1cc2c(NC3CCN(C(C)C)CC3)nc(C3CCOCC3)nc2cc1OCCCN1CCC(F)(F)CC1'], task_names: ['Stable']>"
            ]
          },
          "metadata": {},
          "execution_count": 68
        }
      ],
      "source": [
        "# MolsToGridImage(train_mols, subImgSize=(100,100))\n",
        "train_dataset"
      ]
    },
    {
      "cell_type": "code",
      "execution_count": null,
      "metadata": {
        "id": "qkkxnM5mM-Lb"
      },
      "outputs": [],
      "source": [
        "## transformers is used to normalise the data\n",
        "transformers = [dc.trans.transformers.BalancingTransformer(dataset=train_dataset)]\n",
        "\n",
        "for dataset in [train_dataset,valid_dataset, test_dataset]:\n",
        "  for transformer in transformers:\n",
        "      dataset = transformer.transform(dataset)"
      ]
    },
    {
      "cell_type": "code",
      "execution_count": null,
      "metadata": {
        "id": "QZ5wOMHUTfyw",
        "colab": {
          "base_uri": "https://localhost:8080/"
        },
        "outputId": "08372f34-5f7f-44de-d486-f062f8cc3976"
      },
      "outputs": [
        {
          "output_type": "execute_result",
          "data": {
            "text/plain": [
              "<DiskDataset X.shape: (76,), y.shape: (76, 1), w.shape: (76, 1), ids: ['COc1cc2[nH]c(C)c(-c3ccccc3)c(=O)c2cc1Cl'\n",
              " 'O=C(O)c1c(O)c(Cc2ccc(Cl)cc2)nc2c3c(ccc12)CCCC3'\n",
              " 'O=C(O)c1c(O)c(C2(c3ccc(Cl)cc3)CC2)nc2c(C(F)(F)F)cccc12' ...\n",
              " 'CNCCCOc1cc(F)c(-c2c(Cl)nc3ncnn3c2N[C@@H](C)C(F)(F)F)c(F)c1'\n",
              " 'CC(=O)O[C@H]1C[C@H]2[C@H]([C@@H]3CC[C@H]([C@H](C)CCC(=O)Nc4ccccc4)[C@@]13C)[C@H](OC(C)=O)C[C@@H]1CC3(CC[C@]21C)OOC1(CCC(C(=O)Nc2ccccc2)CC1)OO3'\n",
              " '[s:2]1/[c:9](=[C:8]2/[S:3][c:14]3[c:11]([cH:18][cH:24][cH:25][cH:20]3)[N:6]2[CH3:17])[c:12](=[O:4])[n:5]([CH2:13][CH3:21])/[c:10]1=[CH:15]/[c:16]1[n+:7]([CH2:19][CH3:28])[cH:23][cH:27][cH:26][cH:22]1'], task_names: ['Stable']>"
            ]
          },
          "metadata": {},
          "execution_count": 70
        }
      ],
      "source": [
        "test_dataset"
      ]
    },
    {
      "cell_type": "code",
      "execution_count": null,
      "metadata": {
        "id": "DIrJCyurOwZs"
      },
      "outputs": [],
      "source": [
        "# train_dataset\n",
        "# import deepchem\n",
        "# import tensorflow\n",
        "# from deepchem.models import TensorGraph"
      ]
    },
    {
      "cell_type": "code",
      "execution_count": null,
      "metadata": {
        "id": "6yP_rIPrO1D2"
      },
      "outputs": [],
      "source": [
        "from deepchem.models.layers import GraphPool, GraphGather\n",
        "# from deepchem.models.tensorgraph.layers import Dense, L2Loss, WeightedError, Stack"
      ]
    },
    {
      "cell_type": "code",
      "execution_count": null,
      "metadata": {
        "id": "B7wrzu_BQHQS"
      },
      "outputs": [],
      "source": [
        "import numpy as np\n",
        "n_tasks = len(tasks)"
      ]
    },
    {
      "cell_type": "code",
      "source": [
        "from deepchem.models import GCNModel"
      ],
      "metadata": {
        "id": "Uzaq_5aoYgsm"
      },
      "execution_count": null,
      "outputs": []
    },
    {
      "cell_type": "code",
      "execution_count": null,
      "metadata": {
        "id": "cMiVhaGNSlgb"
      },
      "outputs": [],
      "source": [
        "# tg = tensorgraph(batch_size=batch_size,learning_rate=0.0005,use_queue=False)\n",
        "# model = GCNModel(mode=\"classification\",n_tasks=1,batch_size=8, learning_rate=0.001)"
      ]
    },
    {
      "cell_type": "code",
      "source": [
        "# loss = model.fit(train_dataset,nb_epoch=5)"
      ],
      "metadata": {
        "id": "51xeHo8FYs8I"
      },
      "execution_count": null,
      "outputs": []
    },
    {
      "cell_type": "code",
      "execution_count": null,
      "metadata": {
        "id": "Tq2Yq0_9S1h3",
        "colab": {
          "base_uri": "https://localhost:8080/"
        },
        "outputId": "effacea1-2c61-4ce9-8b32-2b5cf7be11a4"
      },
      "outputs": [
        {
          "output_type": "stream",
          "name": "stderr",
          "text": [
            "/usr/local/lib/python3.7/dist-packages/tensorflow/python/framework/indexed_slices.py:446: UserWarning: Converting sparse IndexedSlices(IndexedSlices(indices=Tensor(\"gradient_tape/private__graph_conv_keras_model_3/graph_pool_7/Reshape_14:0\", shape=(44,), dtype=int32), values=Tensor(\"gradient_tape/private__graph_conv_keras_model_3/graph_pool_7/Reshape_13:0\", shape=(44, 64), dtype=float32), dense_shape=Tensor(\"gradient_tape/private__graph_conv_keras_model_3/graph_pool_7/Cast_4:0\", shape=(2,), dtype=int32))) to a dense Tensor of unknown shape. This may consume a large amount of memory.\n",
            "  \"shape. This may consume a large amount of memory.\" % value)\n",
            "/usr/local/lib/python3.7/dist-packages/tensorflow/python/framework/indexed_slices.py:446: UserWarning: Converting sparse IndexedSlices(IndexedSlices(indices=Tensor(\"gradient_tape/private__graph_conv_keras_model_3/graph_pool_7/Reshape_17:0\", shape=(234,), dtype=int32), values=Tensor(\"gradient_tape/private__graph_conv_keras_model_3/graph_pool_7/Reshape_16:0\", shape=(234, 64), dtype=float32), dense_shape=Tensor(\"gradient_tape/private__graph_conv_keras_model_3/graph_pool_7/Cast_5:0\", shape=(2,), dtype=int32))) to a dense Tensor of unknown shape. This may consume a large amount of memory.\n",
            "  \"shape. This may consume a large amount of memory.\" % value)\n",
            "/usr/local/lib/python3.7/dist-packages/tensorflow/python/framework/indexed_slices.py:446: UserWarning: Converting sparse IndexedSlices(IndexedSlices(indices=Tensor(\"gradient_tape/private__graph_conv_keras_model_3/graph_pool_7/Reshape_20:0\", shape=(192,), dtype=int32), values=Tensor(\"gradient_tape/private__graph_conv_keras_model_3/graph_pool_7/Reshape_19:0\", shape=(192, 64), dtype=float32), dense_shape=Tensor(\"gradient_tape/private__graph_conv_keras_model_3/graph_pool_7/Cast_6:0\", shape=(2,), dtype=int32))) to a dense Tensor of unknown shape. This may consume a large amount of memory.\n",
            "  \"shape. This may consume a large amount of memory.\" % value)\n",
            "/usr/local/lib/python3.7/dist-packages/tensorflow/python/framework/indexed_slices.py:446: UserWarning: Converting sparse IndexedSlices(IndexedSlices(indices=Tensor(\"gradient_tape/private__graph_conv_keras_model_3/graph_pool_7/Reshape_23:0\", shape=(36,), dtype=int32), values=Tensor(\"gradient_tape/private__graph_conv_keras_model_3/graph_pool_7/Reshape_22:0\", shape=(36, 64), dtype=float32), dense_shape=Tensor(\"gradient_tape/private__graph_conv_keras_model_3/graph_pool_7/Cast_7:0\", shape=(2,), dtype=int32))) to a dense Tensor of unknown shape. This may consume a large amount of memory.\n",
            "  \"shape. This may consume a large amount of memory.\" % value)\n",
            "/usr/local/lib/python3.7/dist-packages/tensorflow/python/framework/indexed_slices.py:446: UserWarning: Converting sparse IndexedSlices(IndexedSlices(indices=Tensor(\"gradient_tape/private__graph_conv_keras_model_3/graph_conv_7/Reshape_11:0\", shape=(44,), dtype=int32), values=Tensor(\"gradient_tape/private__graph_conv_keras_model_3/graph_conv_7/Reshape_10:0\", shape=(44, 64), dtype=float32), dense_shape=Tensor(\"gradient_tape/private__graph_conv_keras_model_3/graph_conv_7/Cast:0\", shape=(2,), dtype=int32))) to a dense Tensor of unknown shape. This may consume a large amount of memory.\n",
            "  \"shape. This may consume a large amount of memory.\" % value)\n",
            "/usr/local/lib/python3.7/dist-packages/tensorflow/python/framework/indexed_slices.py:446: UserWarning: Converting sparse IndexedSlices(IndexedSlices(indices=Tensor(\"gradient_tape/private__graph_conv_keras_model_3/graph_conv_7/Reshape_13:0\", shape=(234,), dtype=int32), values=Tensor(\"gradient_tape/private__graph_conv_keras_model_3/graph_conv_7/Reshape_12:0\", shape=(234, 64), dtype=float32), dense_shape=Tensor(\"gradient_tape/private__graph_conv_keras_model_3/graph_conv_7/Cast_1:0\", shape=(2,), dtype=int32))) to a dense Tensor of unknown shape. This may consume a large amount of memory.\n",
            "  \"shape. This may consume a large amount of memory.\" % value)\n",
            "/usr/local/lib/python3.7/dist-packages/tensorflow/python/framework/indexed_slices.py:446: UserWarning: Converting sparse IndexedSlices(IndexedSlices(indices=Tensor(\"gradient_tape/private__graph_conv_keras_model_3/graph_conv_7/Reshape_15:0\", shape=(192,), dtype=int32), values=Tensor(\"gradient_tape/private__graph_conv_keras_model_3/graph_conv_7/Reshape_14:0\", shape=(192, 64), dtype=float32), dense_shape=Tensor(\"gradient_tape/private__graph_conv_keras_model_3/graph_conv_7/Cast_2:0\", shape=(2,), dtype=int32))) to a dense Tensor of unknown shape. This may consume a large amount of memory.\n",
            "  \"shape. This may consume a large amount of memory.\" % value)\n",
            "/usr/local/lib/python3.7/dist-packages/tensorflow/python/framework/indexed_slices.py:446: UserWarning: Converting sparse IndexedSlices(IndexedSlices(indices=Tensor(\"gradient_tape/private__graph_conv_keras_model_3/graph_conv_7/Reshape_17:0\", shape=(36,), dtype=int32), values=Tensor(\"gradient_tape/private__graph_conv_keras_model_3/graph_conv_7/Reshape_16:0\", shape=(36, 64), dtype=float32), dense_shape=Tensor(\"gradient_tape/private__graph_conv_keras_model_3/graph_conv_7/Cast_3:0\", shape=(2,), dtype=int32))) to a dense Tensor of unknown shape. This may consume a large amount of memory.\n",
            "  \"shape. This may consume a large amount of memory.\" % value)\n",
            "/usr/local/lib/python3.7/dist-packages/tensorflow/python/framework/indexed_slices.py:446: UserWarning: Converting sparse IndexedSlices(IndexedSlices(indices=Tensor(\"gradient_tape/private__graph_conv_keras_model_3/graph_conv_7/Reshape_19:0\", shape=(0,), dtype=int32), values=Tensor(\"gradient_tape/private__graph_conv_keras_model_3/graph_conv_7/Reshape_18:0\", shape=(0, 64), dtype=float32), dense_shape=Tensor(\"gradient_tape/private__graph_conv_keras_model_3/graph_conv_7/Cast_4:0\", shape=(2,), dtype=int32))) to a dense Tensor of unknown shape. This may consume a large amount of memory.\n",
            "  \"shape. This may consume a large amount of memory.\" % value)\n",
            "/usr/local/lib/python3.7/dist-packages/tensorflow/python/framework/indexed_slices.py:446: UserWarning: Converting sparse IndexedSlices(IndexedSlices(indices=Tensor(\"gradient_tape/private__graph_conv_keras_model_3/graph_conv_7/Reshape_21:0\", shape=(0,), dtype=int32), values=Tensor(\"gradient_tape/private__graph_conv_keras_model_3/graph_conv_7/Reshape_20:0\", shape=(0, 64), dtype=float32), dense_shape=Tensor(\"gradient_tape/private__graph_conv_keras_model_3/graph_conv_7/Cast_5:0\", shape=(2,), dtype=int32))) to a dense Tensor of unknown shape. This may consume a large amount of memory.\n",
            "  \"shape. This may consume a large amount of memory.\" % value)\n",
            "/usr/local/lib/python3.7/dist-packages/tensorflow/python/framework/indexed_slices.py:446: UserWarning: Converting sparse IndexedSlices(IndexedSlices(indices=Tensor(\"gradient_tape/private__graph_conv_keras_model_3/graph_conv_7/Reshape_23:0\", shape=(0,), dtype=int32), values=Tensor(\"gradient_tape/private__graph_conv_keras_model_3/graph_conv_7/Reshape_22:0\", shape=(0, 64), dtype=float32), dense_shape=Tensor(\"gradient_tape/private__graph_conv_keras_model_3/graph_conv_7/Cast_6:0\", shape=(2,), dtype=int32))) to a dense Tensor of unknown shape. This may consume a large amount of memory.\n",
            "  \"shape. This may consume a large amount of memory.\" % value)\n",
            "/usr/local/lib/python3.7/dist-packages/tensorflow/python/framework/indexed_slices.py:446: UserWarning: Converting sparse IndexedSlices(IndexedSlices(indices=Tensor(\"gradient_tape/private__graph_conv_keras_model_3/graph_conv_7/Reshape_25:0\", shape=(0,), dtype=int32), values=Tensor(\"gradient_tape/private__graph_conv_keras_model_3/graph_conv_7/Reshape_24:0\", shape=(0, 64), dtype=float32), dense_shape=Tensor(\"gradient_tape/private__graph_conv_keras_model_3/graph_conv_7/Cast_7:0\", shape=(2,), dtype=int32))) to a dense Tensor of unknown shape. This may consume a large amount of memory.\n",
            "  \"shape. This may consume a large amount of memory.\" % value)\n",
            "/usr/local/lib/python3.7/dist-packages/tensorflow/python/framework/indexed_slices.py:446: UserWarning: Converting sparse IndexedSlices(IndexedSlices(indices=Tensor(\"gradient_tape/private__graph_conv_keras_model_3/graph_conv_7/Reshape_27:0\", shape=(0,), dtype=int32), values=Tensor(\"gradient_tape/private__graph_conv_keras_model_3/graph_conv_7/Reshape_26:0\", shape=(0, 64), dtype=float32), dense_shape=Tensor(\"gradient_tape/private__graph_conv_keras_model_3/graph_conv_7/Cast_8:0\", shape=(2,), dtype=int32))) to a dense Tensor of unknown shape. This may consume a large amount of memory.\n",
            "  \"shape. This may consume a large amount of memory.\" % value)\n",
            "/usr/local/lib/python3.7/dist-packages/tensorflow/python/framework/indexed_slices.py:446: UserWarning: Converting sparse IndexedSlices(IndexedSlices(indices=Tensor(\"gradient_tape/private__graph_conv_keras_model_3/graph_conv_7/Reshape_29:0\", shape=(0,), dtype=int32), values=Tensor(\"gradient_tape/private__graph_conv_keras_model_3/graph_conv_7/Reshape_28:0\", shape=(0, 64), dtype=float32), dense_shape=Tensor(\"gradient_tape/private__graph_conv_keras_model_3/graph_conv_7/Cast_9:0\", shape=(2,), dtype=int32))) to a dense Tensor of unknown shape. This may consume a large amount of memory.\n",
            "  \"shape. This may consume a large amount of memory.\" % value)\n",
            "/usr/local/lib/python3.7/dist-packages/tensorflow/python/framework/indexed_slices.py:446: UserWarning: Converting sparse IndexedSlices(IndexedSlices(indices=Tensor(\"gradient_tape/private__graph_conv_keras_model_3/graph_pool_6/Reshape_14:0\", shape=(44,), dtype=int32), values=Tensor(\"gradient_tape/private__graph_conv_keras_model_3/graph_pool_6/Reshape_13:0\", shape=(44, 64), dtype=float32), dense_shape=Tensor(\"gradient_tape/private__graph_conv_keras_model_3/graph_pool_6/Cast_4:0\", shape=(2,), dtype=int32))) to a dense Tensor of unknown shape. This may consume a large amount of memory.\n",
            "  \"shape. This may consume a large amount of memory.\" % value)\n",
            "/usr/local/lib/python3.7/dist-packages/tensorflow/python/framework/indexed_slices.py:446: UserWarning: Converting sparse IndexedSlices(IndexedSlices(indices=Tensor(\"gradient_tape/private__graph_conv_keras_model_3/graph_pool_6/Reshape_17:0\", shape=(234,), dtype=int32), values=Tensor(\"gradient_tape/private__graph_conv_keras_model_3/graph_pool_6/Reshape_16:0\", shape=(234, 64), dtype=float32), dense_shape=Tensor(\"gradient_tape/private__graph_conv_keras_model_3/graph_pool_6/Cast_5:0\", shape=(2,), dtype=int32))) to a dense Tensor of unknown shape. This may consume a large amount of memory.\n",
            "  \"shape. This may consume a large amount of memory.\" % value)\n",
            "/usr/local/lib/python3.7/dist-packages/tensorflow/python/framework/indexed_slices.py:446: UserWarning: Converting sparse IndexedSlices(IndexedSlices(indices=Tensor(\"gradient_tape/private__graph_conv_keras_model_3/graph_pool_6/Reshape_20:0\", shape=(192,), dtype=int32), values=Tensor(\"gradient_tape/private__graph_conv_keras_model_3/graph_pool_6/Reshape_19:0\", shape=(192, 64), dtype=float32), dense_shape=Tensor(\"gradient_tape/private__graph_conv_keras_model_3/graph_pool_6/Cast_6:0\", shape=(2,), dtype=int32))) to a dense Tensor of unknown shape. This may consume a large amount of memory.\n",
            "  \"shape. This may consume a large amount of memory.\" % value)\n",
            "/usr/local/lib/python3.7/dist-packages/tensorflow/python/framework/indexed_slices.py:446: UserWarning: Converting sparse IndexedSlices(IndexedSlices(indices=Tensor(\"gradient_tape/private__graph_conv_keras_model_3/graph_pool_6/Reshape_23:0\", shape=(36,), dtype=int32), values=Tensor(\"gradient_tape/private__graph_conv_keras_model_3/graph_pool_6/Reshape_22:0\", shape=(36, 64), dtype=float32), dense_shape=Tensor(\"gradient_tape/private__graph_conv_keras_model_3/graph_pool_6/Cast_7:0\", shape=(2,), dtype=int32))) to a dense Tensor of unknown shape. This may consume a large amount of memory.\n",
            "  \"shape. This may consume a large amount of memory.\" % value)\n",
            "/usr/local/lib/python3.7/dist-packages/tensorflow/python/framework/indexed_slices.py:446: UserWarning: Converting sparse IndexedSlices(IndexedSlices(indices=Tensor(\"gradient_tape/private__graph_conv_keras_model_3/graph_pool_7/Reshape_14:0\", shape=(35,), dtype=int32), values=Tensor(\"gradient_tape/private__graph_conv_keras_model_3/graph_pool_7/Reshape_13:0\", shape=(35, 64), dtype=float32), dense_shape=Tensor(\"gradient_tape/private__graph_conv_keras_model_3/graph_pool_7/Cast_4:0\", shape=(2,), dtype=int32))) to a dense Tensor of unknown shape. This may consume a large amount of memory.\n",
            "  \"shape. This may consume a large amount of memory.\" % value)\n",
            "/usr/local/lib/python3.7/dist-packages/tensorflow/python/framework/indexed_slices.py:446: UserWarning: Converting sparse IndexedSlices(IndexedSlices(indices=Tensor(\"gradient_tape/private__graph_conv_keras_model_3/graph_pool_7/Reshape_17:0\", shape=(196,), dtype=int32), values=Tensor(\"gradient_tape/private__graph_conv_keras_model_3/graph_pool_7/Reshape_16:0\", shape=(196, 64), dtype=float32), dense_shape=Tensor(\"gradient_tape/private__graph_conv_keras_model_3/graph_pool_7/Cast_5:0\", shape=(2,), dtype=int32))) to a dense Tensor of unknown shape. This may consume a large amount of memory.\n",
            "  \"shape. This may consume a large amount of memory.\" % value)\n",
            "/usr/local/lib/python3.7/dist-packages/tensorflow/python/framework/indexed_slices.py:446: UserWarning: Converting sparse IndexedSlices(IndexedSlices(indices=Tensor(\"gradient_tape/private__graph_conv_keras_model_3/graph_pool_7/Reshape_20:0\", shape=(195,), dtype=int32), values=Tensor(\"gradient_tape/private__graph_conv_keras_model_3/graph_pool_7/Reshape_19:0\", shape=(195, 64), dtype=float32), dense_shape=Tensor(\"gradient_tape/private__graph_conv_keras_model_3/graph_pool_7/Cast_6:0\", shape=(2,), dtype=int32))) to a dense Tensor of unknown shape. This may consume a large amount of memory.\n",
            "  \"shape. This may consume a large amount of memory.\" % value)\n",
            "/usr/local/lib/python3.7/dist-packages/tensorflow/python/framework/indexed_slices.py:446: UserWarning: Converting sparse IndexedSlices(IndexedSlices(indices=Tensor(\"gradient_tape/private__graph_conv_keras_model_3/graph_pool_7/Reshape_23:0\", shape=(12,), dtype=int32), values=Tensor(\"gradient_tape/private__graph_conv_keras_model_3/graph_pool_7/Reshape_22:0\", shape=(12, 64), dtype=float32), dense_shape=Tensor(\"gradient_tape/private__graph_conv_keras_model_3/graph_pool_7/Cast_7:0\", shape=(2,), dtype=int32))) to a dense Tensor of unknown shape. This may consume a large amount of memory.\n",
            "  \"shape. This may consume a large amount of memory.\" % value)\n",
            "/usr/local/lib/python3.7/dist-packages/tensorflow/python/framework/indexed_slices.py:446: UserWarning: Converting sparse IndexedSlices(IndexedSlices(indices=Tensor(\"gradient_tape/private__graph_conv_keras_model_3/graph_conv_7/Reshape_11:0\", shape=(35,), dtype=int32), values=Tensor(\"gradient_tape/private__graph_conv_keras_model_3/graph_conv_7/Reshape_10:0\", shape=(35, 64), dtype=float32), dense_shape=Tensor(\"gradient_tape/private__graph_conv_keras_model_3/graph_conv_7/Cast:0\", shape=(2,), dtype=int32))) to a dense Tensor of unknown shape. This may consume a large amount of memory.\n",
            "  \"shape. This may consume a large amount of memory.\" % value)\n",
            "/usr/local/lib/python3.7/dist-packages/tensorflow/python/framework/indexed_slices.py:446: UserWarning: Converting sparse IndexedSlices(IndexedSlices(indices=Tensor(\"gradient_tape/private__graph_conv_keras_model_3/graph_conv_7/Reshape_13:0\", shape=(196,), dtype=int32), values=Tensor(\"gradient_tape/private__graph_conv_keras_model_3/graph_conv_7/Reshape_12:0\", shape=(196, 64), dtype=float32), dense_shape=Tensor(\"gradient_tape/private__graph_conv_keras_model_3/graph_conv_7/Cast_1:0\", shape=(2,), dtype=int32))) to a dense Tensor of unknown shape. This may consume a large amount of memory.\n",
            "  \"shape. This may consume a large amount of memory.\" % value)\n",
            "/usr/local/lib/python3.7/dist-packages/tensorflow/python/framework/indexed_slices.py:446: UserWarning: Converting sparse IndexedSlices(IndexedSlices(indices=Tensor(\"gradient_tape/private__graph_conv_keras_model_3/graph_conv_7/Reshape_15:0\", shape=(195,), dtype=int32), values=Tensor(\"gradient_tape/private__graph_conv_keras_model_3/graph_conv_7/Reshape_14:0\", shape=(195, 64), dtype=float32), dense_shape=Tensor(\"gradient_tape/private__graph_conv_keras_model_3/graph_conv_7/Cast_2:0\", shape=(2,), dtype=int32))) to a dense Tensor of unknown shape. This may consume a large amount of memory.\n",
            "  \"shape. This may consume a large amount of memory.\" % value)\n",
            "/usr/local/lib/python3.7/dist-packages/tensorflow/python/framework/indexed_slices.py:446: UserWarning: Converting sparse IndexedSlices(IndexedSlices(indices=Tensor(\"gradient_tape/private__graph_conv_keras_model_3/graph_conv_7/Reshape_17:0\", shape=(12,), dtype=int32), values=Tensor(\"gradient_tape/private__graph_conv_keras_model_3/graph_conv_7/Reshape_16:0\", shape=(12, 64), dtype=float32), dense_shape=Tensor(\"gradient_tape/private__graph_conv_keras_model_3/graph_conv_7/Cast_3:0\", shape=(2,), dtype=int32))) to a dense Tensor of unknown shape. This may consume a large amount of memory.\n",
            "  \"shape. This may consume a large amount of memory.\" % value)\n",
            "/usr/local/lib/python3.7/dist-packages/tensorflow/python/framework/indexed_slices.py:446: UserWarning: Converting sparse IndexedSlices(IndexedSlices(indices=Tensor(\"gradient_tape/private__graph_conv_keras_model_3/graph_pool_6/Reshape_14:0\", shape=(35,), dtype=int32), values=Tensor(\"gradient_tape/private__graph_conv_keras_model_3/graph_pool_6/Reshape_13:0\", shape=(35, 64), dtype=float32), dense_shape=Tensor(\"gradient_tape/private__graph_conv_keras_model_3/graph_pool_6/Cast_4:0\", shape=(2,), dtype=int32))) to a dense Tensor of unknown shape. This may consume a large amount of memory.\n",
            "  \"shape. This may consume a large amount of memory.\" % value)\n",
            "/usr/local/lib/python3.7/dist-packages/tensorflow/python/framework/indexed_slices.py:446: UserWarning: Converting sparse IndexedSlices(IndexedSlices(indices=Tensor(\"gradient_tape/private__graph_conv_keras_model_3/graph_pool_6/Reshape_17:0\", shape=(196,), dtype=int32), values=Tensor(\"gradient_tape/private__graph_conv_keras_model_3/graph_pool_6/Reshape_16:0\", shape=(196, 64), dtype=float32), dense_shape=Tensor(\"gradient_tape/private__graph_conv_keras_model_3/graph_pool_6/Cast_5:0\", shape=(2,), dtype=int32))) to a dense Tensor of unknown shape. This may consume a large amount of memory.\n",
            "  \"shape. This may consume a large amount of memory.\" % value)\n",
            "/usr/local/lib/python3.7/dist-packages/tensorflow/python/framework/indexed_slices.py:446: UserWarning: Converting sparse IndexedSlices(IndexedSlices(indices=Tensor(\"gradient_tape/private__graph_conv_keras_model_3/graph_pool_6/Reshape_20:0\", shape=(195,), dtype=int32), values=Tensor(\"gradient_tape/private__graph_conv_keras_model_3/graph_pool_6/Reshape_19:0\", shape=(195, 64), dtype=float32), dense_shape=Tensor(\"gradient_tape/private__graph_conv_keras_model_3/graph_pool_6/Cast_6:0\", shape=(2,), dtype=int32))) to a dense Tensor of unknown shape. This may consume a large amount of memory.\n",
            "  \"shape. This may consume a large amount of memory.\" % value)\n",
            "/usr/local/lib/python3.7/dist-packages/tensorflow/python/framework/indexed_slices.py:446: UserWarning: Converting sparse IndexedSlices(IndexedSlices(indices=Tensor(\"gradient_tape/private__graph_conv_keras_model_3/graph_pool_6/Reshape_23:0\", shape=(12,), dtype=int32), values=Tensor(\"gradient_tape/private__graph_conv_keras_model_3/graph_pool_6/Reshape_22:0\", shape=(12, 64), dtype=float32), dense_shape=Tensor(\"gradient_tape/private__graph_conv_keras_model_3/graph_pool_6/Cast_7:0\", shape=(2,), dtype=int32))) to a dense Tensor of unknown shape. This may consume a large amount of memory.\n",
            "  \"shape. This may consume a large amount of memory.\" % value)\n",
            "/usr/local/lib/python3.7/dist-packages/tensorflow/python/framework/indexed_slices.py:446: UserWarning: Converting sparse IndexedSlices(IndexedSlices(indices=Tensor(\"gradient_tape/private__graph_conv_keras_model_3/graph_pool_7/Reshape_14:0\", shape=(None,), dtype=int32), values=Tensor(\"gradient_tape/private__graph_conv_keras_model_3/graph_pool_7/Reshape_13:0\", shape=(None, 64), dtype=float32), dense_shape=Tensor(\"gradient_tape/private__graph_conv_keras_model_3/graph_pool_7/Cast_4:0\", shape=(2,), dtype=int32))) to a dense Tensor of unknown shape. This may consume a large amount of memory.\n",
            "  \"shape. This may consume a large amount of memory.\" % value)\n",
            "/usr/local/lib/python3.7/dist-packages/tensorflow/python/framework/indexed_slices.py:446: UserWarning: Converting sparse IndexedSlices(IndexedSlices(indices=Tensor(\"gradient_tape/private__graph_conv_keras_model_3/graph_pool_7/Reshape_17:0\", shape=(None,), dtype=int32), values=Tensor(\"gradient_tape/private__graph_conv_keras_model_3/graph_pool_7/Reshape_16:0\", shape=(None, 64), dtype=float32), dense_shape=Tensor(\"gradient_tape/private__graph_conv_keras_model_3/graph_pool_7/Cast_5:0\", shape=(2,), dtype=int32))) to a dense Tensor of unknown shape. This may consume a large amount of memory.\n",
            "  \"shape. This may consume a large amount of memory.\" % value)\n",
            "/usr/local/lib/python3.7/dist-packages/tensorflow/python/framework/indexed_slices.py:446: UserWarning: Converting sparse IndexedSlices(IndexedSlices(indices=Tensor(\"gradient_tape/private__graph_conv_keras_model_3/graph_pool_7/Reshape_20:0\", shape=(None,), dtype=int32), values=Tensor(\"gradient_tape/private__graph_conv_keras_model_3/graph_pool_7/Reshape_19:0\", shape=(None, 64), dtype=float32), dense_shape=Tensor(\"gradient_tape/private__graph_conv_keras_model_3/graph_pool_7/Cast_6:0\", shape=(2,), dtype=int32))) to a dense Tensor of unknown shape. This may consume a large amount of memory.\n",
            "  \"shape. This may consume a large amount of memory.\" % value)\n",
            "/usr/local/lib/python3.7/dist-packages/tensorflow/python/framework/indexed_slices.py:446: UserWarning: Converting sparse IndexedSlices(IndexedSlices(indices=Tensor(\"gradient_tape/private__graph_conv_keras_model_3/graph_pool_7/Reshape_23:0\", shape=(None,), dtype=int32), values=Tensor(\"gradient_tape/private__graph_conv_keras_model_3/graph_pool_7/Reshape_22:0\", shape=(None, 64), dtype=float32), dense_shape=Tensor(\"gradient_tape/private__graph_conv_keras_model_3/graph_pool_7/Cast_7:0\", shape=(2,), dtype=int32))) to a dense Tensor of unknown shape. This may consume a large amount of memory.\n",
            "  \"shape. This may consume a large amount of memory.\" % value)\n",
            "/usr/local/lib/python3.7/dist-packages/tensorflow/python/framework/indexed_slices.py:446: UserWarning: Converting sparse IndexedSlices(IndexedSlices(indices=Tensor(\"gradient_tape/private__graph_conv_keras_model_3/graph_conv_7/Reshape_11:0\", shape=(None,), dtype=int32), values=Tensor(\"gradient_tape/private__graph_conv_keras_model_3/graph_conv_7/Reshape_10:0\", shape=(None, 64), dtype=float32), dense_shape=Tensor(\"gradient_tape/private__graph_conv_keras_model_3/graph_conv_7/Cast:0\", shape=(2,), dtype=int32))) to a dense Tensor of unknown shape. This may consume a large amount of memory.\n",
            "  \"shape. This may consume a large amount of memory.\" % value)\n",
            "/usr/local/lib/python3.7/dist-packages/tensorflow/python/framework/indexed_slices.py:446: UserWarning: Converting sparse IndexedSlices(IndexedSlices(indices=Tensor(\"gradient_tape/private__graph_conv_keras_model_3/graph_conv_7/Reshape_13:0\", shape=(None,), dtype=int32), values=Tensor(\"gradient_tape/private__graph_conv_keras_model_3/graph_conv_7/Reshape_12:0\", shape=(None, 64), dtype=float32), dense_shape=Tensor(\"gradient_tape/private__graph_conv_keras_model_3/graph_conv_7/Cast_1:0\", shape=(2,), dtype=int32))) to a dense Tensor of unknown shape. This may consume a large amount of memory.\n",
            "  \"shape. This may consume a large amount of memory.\" % value)\n",
            "/usr/local/lib/python3.7/dist-packages/tensorflow/python/framework/indexed_slices.py:446: UserWarning: Converting sparse IndexedSlices(IndexedSlices(indices=Tensor(\"gradient_tape/private__graph_conv_keras_model_3/graph_conv_7/Reshape_15:0\", shape=(None,), dtype=int32), values=Tensor(\"gradient_tape/private__graph_conv_keras_model_3/graph_conv_7/Reshape_14:0\", shape=(None, 64), dtype=float32), dense_shape=Tensor(\"gradient_tape/private__graph_conv_keras_model_3/graph_conv_7/Cast_2:0\", shape=(2,), dtype=int32))) to a dense Tensor of unknown shape. This may consume a large amount of memory.\n",
            "  \"shape. This may consume a large amount of memory.\" % value)\n",
            "/usr/local/lib/python3.7/dist-packages/tensorflow/python/framework/indexed_slices.py:446: UserWarning: Converting sparse IndexedSlices(IndexedSlices(indices=Tensor(\"gradient_tape/private__graph_conv_keras_model_3/graph_conv_7/Reshape_17:0\", shape=(None,), dtype=int32), values=Tensor(\"gradient_tape/private__graph_conv_keras_model_3/graph_conv_7/Reshape_16:0\", shape=(None, 64), dtype=float32), dense_shape=Tensor(\"gradient_tape/private__graph_conv_keras_model_3/graph_conv_7/Cast_3:0\", shape=(2,), dtype=int32))) to a dense Tensor of unknown shape. This may consume a large amount of memory.\n",
            "  \"shape. This may consume a large amount of memory.\" % value)\n",
            "/usr/local/lib/python3.7/dist-packages/tensorflow/python/framework/indexed_slices.py:446: UserWarning: Converting sparse IndexedSlices(IndexedSlices(indices=Tensor(\"gradient_tape/private__graph_conv_keras_model_3/graph_pool_6/Reshape_14:0\", shape=(None,), dtype=int32), values=Tensor(\"gradient_tape/private__graph_conv_keras_model_3/graph_pool_6/Reshape_13:0\", shape=(None, 64), dtype=float32), dense_shape=Tensor(\"gradient_tape/private__graph_conv_keras_model_3/graph_pool_6/Cast_4:0\", shape=(2,), dtype=int32))) to a dense Tensor of unknown shape. This may consume a large amount of memory.\n",
            "  \"shape. This may consume a large amount of memory.\" % value)\n",
            "/usr/local/lib/python3.7/dist-packages/tensorflow/python/framework/indexed_slices.py:446: UserWarning: Converting sparse IndexedSlices(IndexedSlices(indices=Tensor(\"gradient_tape/private__graph_conv_keras_model_3/graph_pool_6/Reshape_17:0\", shape=(None,), dtype=int32), values=Tensor(\"gradient_tape/private__graph_conv_keras_model_3/graph_pool_6/Reshape_16:0\", shape=(None, 64), dtype=float32), dense_shape=Tensor(\"gradient_tape/private__graph_conv_keras_model_3/graph_pool_6/Cast_5:0\", shape=(2,), dtype=int32))) to a dense Tensor of unknown shape. This may consume a large amount of memory.\n",
            "  \"shape. This may consume a large amount of memory.\" % value)\n",
            "/usr/local/lib/python3.7/dist-packages/tensorflow/python/framework/indexed_slices.py:446: UserWarning: Converting sparse IndexedSlices(IndexedSlices(indices=Tensor(\"gradient_tape/private__graph_conv_keras_model_3/graph_pool_6/Reshape_20:0\", shape=(None,), dtype=int32), values=Tensor(\"gradient_tape/private__graph_conv_keras_model_3/graph_pool_6/Reshape_19:0\", shape=(None, 64), dtype=float32), dense_shape=Tensor(\"gradient_tape/private__graph_conv_keras_model_3/graph_pool_6/Cast_6:0\", shape=(2,), dtype=int32))) to a dense Tensor of unknown shape. This may consume a large amount of memory.\n",
            "  \"shape. This may consume a large amount of memory.\" % value)\n",
            "/usr/local/lib/python3.7/dist-packages/tensorflow/python/framework/indexed_slices.py:446: UserWarning: Converting sparse IndexedSlices(IndexedSlices(indices=Tensor(\"gradient_tape/private__graph_conv_keras_model_3/graph_pool_6/Reshape_23:0\", shape=(None,), dtype=int32), values=Tensor(\"gradient_tape/private__graph_conv_keras_model_3/graph_pool_6/Reshape_22:0\", shape=(None, 64), dtype=float32), dense_shape=Tensor(\"gradient_tape/private__graph_conv_keras_model_3/graph_pool_6/Cast_7:0\", shape=(2,), dtype=int32))) to a dense Tensor of unknown shape. This may consume a large amount of memory.\n",
            "  \"shape. This may consume a large amount of memory.\" % value)\n"
          ]
        },
        {
          "output_type": "execute_result",
          "data": {
            "text/plain": [
              "0.33857301076253254"
            ]
          },
          "metadata": {},
          "execution_count": 164
        }
      ],
      "source": [
        "model = dc.models.GraphConvModel(n_tasks, mode='classification', batch_size=8, learning_rate=0.0005, model_dir='/content', optimizer=dc.models.optimizers.Adam())\n",
        "model.fit(train_dataset, nb_epoch=500)\n",
        "# metric = dc.metrics.Metric(dc.metrics.roc_auc_score, np.mean)\n",
        "# train_scores = model.evaluate(dataset, [metric], transformers)"
      ]
    },
    {
      "cell_type": "code",
      "source": [
        "print(model)"
      ],
      "metadata": {
        "id": "NC1zM3Lm8BE1",
        "colab": {
          "base_uri": "https://localhost:8080/"
        },
        "outputId": "509459d0-fdee-48aa-e1b8-966a7ccc0d2c"
      },
      "execution_count": null,
      "outputs": [
        {
          "output_type": "stream",
          "name": "stdout",
          "text": [
            "<deepchem.models.graph_models.GraphConvModel object at 0x7f66ea79a5d0>\n"
          ]
        }
      ]
    },
    {
      "cell_type": "code",
      "execution_count": null,
      "metadata": {
        "id": "cjRpi4YVZDI8",
        "colab": {
          "base_uri": "https://localhost:8080/"
        },
        "outputId": "eb13fb62-2a15-4cdb-d811-50877634e8cb"
      },
      "outputs": [
        {
          "output_type": "stream",
          "name": "stdout",
          "text": [
            "Training set score: {'roc_auc_score': 0.9670527394485355}\n",
            "Testing set score: {'roc_auc_score': 0.7696428571428572}\n"
          ]
        }
      ],
      "source": [
        "metric = dc.metrics.Metric(dc.metrics.roc_auc_score)\n",
        "print('Training set score:', model.evaluate(train_dataset, [metric], transformers))\n",
        "print('Testing set score:', model.evaluate(test_dataset, [metric], transformers))"
      ]
    },
    {
      "cell_type": "code",
      "source": [
        "smiles = ['COC(C)(C)CCCC(C)CC=CC(C)=CC(=O)OC(C)C',\n",
        "'CCOC(=O)CC',\n",
        "'CSc1nc(NC(C)C)nc(NC(C)C)n1',\n",
        "'CC(C#C)N(C)C(=O)Nc1ccc(Cl)cc1',\n",
        "'Cc1cc2ccccc2cc1C']"
      ],
      "metadata": {
        "id": "HiXGlDnMceUO"
      },
      "execution_count": null,
      "outputs": []
    },
    {
      "cell_type": "code",
      "source": [
        "from rdkit import Chem\n",
        "mols = [Chem.MolFromSmiles(s) for s in smiles]\n",
        "featurizer = dc.feat.ConvMolFeaturizer()\n",
        "x = featurizer.featurize(mols)\n",
        "predicted_stability = model.predict_on_batch(x)\n",
        "predicted_stability = np.argmax(predicted_stability, axis=-1)\n",
        "predicted_stability"
      ],
      "metadata": {
        "colab": {
          "base_uri": "https://localhost:8080/"
        },
        "id": "4l4sDhJIc0Xb",
        "outputId": "ae334cf4-dee8-4bcb-fc07-7e297af55da7"
      },
      "execution_count": null,
      "outputs": [
        {
          "output_type": "execute_result",
          "data": {
            "text/plain": [
              "array([[1],\n",
              "       [0],\n",
              "       [0],\n",
              "       [1],\n",
              "       [0]])"
            ]
          },
          "metadata": {},
          "execution_count": 168
        }
      ]
    },
    {
      "cell_type": "code",
      "source": [
        "preds = model.predict(test_dataset)"
      ],
      "metadata": {
        "id": "217iBfnELFB3"
      },
      "execution_count": null,
      "outputs": []
    },
    {
      "cell_type": "code",
      "source": [
        "pred_class = np.argmax(preds, axis=-1)"
      ],
      "metadata": {
        "id": "Z4uK2lLAcU03"
      },
      "execution_count": null,
      "outputs": []
    },
    {
      "cell_type": "code",
      "source": [
        "pred_class"
      ],
      "metadata": {
        "colab": {
          "base_uri": "https://localhost:8080/"
        },
        "id": "BA41XvI4cU2-",
        "outputId": "bd239298-7b7c-4803-a08b-a50fef4a673e"
      },
      "execution_count": null,
      "outputs": [
        {
          "output_type": "execute_result",
          "data": {
            "text/plain": [
              "array([[0],\n",
              "       [0],\n",
              "       [1],\n",
              "       [0],\n",
              "       [0],\n",
              "       [0],\n",
              "       [0],\n",
              "       [0],\n",
              "       [0],\n",
              "       [0],\n",
              "       [0],\n",
              "       [0],\n",
              "       [0],\n",
              "       [0],\n",
              "       [0],\n",
              "       [0],\n",
              "       [0],\n",
              "       [0],\n",
              "       [0],\n",
              "       [0],\n",
              "       [0],\n",
              "       [0],\n",
              "       [0],\n",
              "       [0],\n",
              "       [0],\n",
              "       [0],\n",
              "       [0],\n",
              "       [0],\n",
              "       [0],\n",
              "       [0],\n",
              "       [0],\n",
              "       [0],\n",
              "       [0],\n",
              "       [0],\n",
              "       [1],\n",
              "       [1],\n",
              "       [1],\n",
              "       [0],\n",
              "       [0],\n",
              "       [0],\n",
              "       [0],\n",
              "       [0],\n",
              "       [1],\n",
              "       [0],\n",
              "       [0],\n",
              "       [0],\n",
              "       [0],\n",
              "       [1],\n",
              "       [0],\n",
              "       [0],\n",
              "       [0],\n",
              "       [1],\n",
              "       [1],\n",
              "       [1],\n",
              "       [0],\n",
              "       [0],\n",
              "       [0],\n",
              "       [0],\n",
              "       [0],\n",
              "       [0],\n",
              "       [0],\n",
              "       [1],\n",
              "       [1],\n",
              "       [0],\n",
              "       [0],\n",
              "       [0],\n",
              "       [0],\n",
              "       [0],\n",
              "       [1],\n",
              "       [1],\n",
              "       [1],\n",
              "       [0],\n",
              "       [1],\n",
              "       [1],\n",
              "       [1],\n",
              "       [0]])"
            ]
          },
          "metadata": {},
          "execution_count": 171
        }
      ]
    },
    {
      "cell_type": "code",
      "source": [
        "true_value = test_dataset.y"
      ],
      "metadata": {
        "id": "oUakSDEycU5y"
      },
      "execution_count": null,
      "outputs": []
    },
    {
      "cell_type": "code",
      "source": [
        "from sklearn.metrics import accuracy_score"
      ],
      "metadata": {
        "id": "i1eOwww8c8k2"
      },
      "execution_count": null,
      "outputs": []
    },
    {
      "cell_type": "code",
      "source": [
        "accuracy_score(true_value, pred_class)"
      ],
      "metadata": {
        "colab": {
          "base_uri": "https://localhost:8080/"
        },
        "id": "HbOx-sU9c8n5",
        "outputId": "72d90b81-ba7d-4409-f50b-4cd50d18512a"
      },
      "execution_count": null,
      "outputs": [
        {
          "output_type": "execute_result",
          "data": {
            "text/plain": [
              "0.75"
            ]
          },
          "metadata": {},
          "execution_count": 174
        }
      ]
    },
    {
      "cell_type": "code",
      "source": [
        "from sklearn.metrics import confusion_matrix\n",
        "confusion_matrix(true_value, pred_class)\n",
        "from sklearn.metrics import roc_auc_score\n",
        "\n",
        "\n",
        "roc = roc_auc_score(true_value, pred_class)\n",
        "\n",
        "tn, fp, fn, tp = confusion_matrix(true_value, pred_class).ravel()\n",
        "specificity = tn / (tn+fp)\n",
        "sensitivity = tp /(tp+fn)\n",
        "accuracy = (tn+tp) / (tn+fp+fn+tp)"
      ],
      "metadata": {
        "id": "P7Q2Gpq9dhoo"
      },
      "execution_count": null,
      "outputs": []
    },
    {
      "cell_type": "code",
      "source": [
        "print(\"Accuracy:\", accuracy)\n",
        "print(\"Specificity:\", specificity)\n",
        "print(\"Sensitivity:\", sensitivity)\n",
        "print(\"ROC:\", roc)"
      ],
      "metadata": {
        "colab": {
          "base_uri": "https://localhost:8080/"
        },
        "id": "5yiC0Wr-dhqr",
        "outputId": "230ccd4d-1f8f-4a32-f3c5-f19679f4e202"
      },
      "execution_count": null,
      "outputs": [
        {
          "output_type": "stream",
          "name": "stdout",
          "text": [
            "Accuracy: 0.75\n",
            "Specificity: 0.8571428571428571\n",
            "Sensitivity: 0.45\n",
            "ROC: 0.6535714285714286\n"
          ]
        }
      ]
    },
    {
      "cell_type": "code",
      "source": [
        "import pandas as pd"
      ],
      "metadata": {
        "id": "DNPObmvCejtT"
      },
      "execution_count": null,
      "outputs": []
    },
    {
      "cell_type": "code",
      "source": [
        "pred_df = pd.DataFrame(pred_class)\n",
        "true_df = pd.DataFrame(true_value)"
      ],
      "metadata": {
        "id": "BGaCkJD-dhtg"
      },
      "execution_count": null,
      "outputs": []
    },
    {
      "cell_type": "code",
      "source": [
        "pred_df.columns = [\"Predictions\"]\n",
        "true_df.columns = [\"Real\"]"
      ],
      "metadata": {
        "id": "ZZ0U-b7Wewod"
      },
      "execution_count": null,
      "outputs": []
    },
    {
      "cell_type": "code",
      "source": [
        "comb = pd.concat([pred_df, true_df], axis=1)"
      ],
      "metadata": {
        "id": "cFGAQgDdex1q"
      },
      "execution_count": null,
      "outputs": []
    },
    {
      "cell_type": "code",
      "source": [
        "comb"
      ],
      "metadata": {
        "colab": {
          "base_uri": "https://localhost:8080/",
          "height": 424
        },
        "id": "zHDhhXAEe-kD",
        "outputId": "e25c2570-7a91-4c18-9432-d5238398a01b"
      },
      "execution_count": null,
      "outputs": [
        {
          "output_type": "execute_result",
          "data": {
            "text/plain": [
              "    Predictions  Real\n",
              "0             0   0.0\n",
              "1             0   0.0\n",
              "2             1   1.0\n",
              "3             0   0.0\n",
              "4             0   1.0\n",
              "..          ...   ...\n",
              "71            0   0.0\n",
              "72            1   0.0\n",
              "73            1   1.0\n",
              "74            1   1.0\n",
              "75            0   0.0\n",
              "\n",
              "[76 rows x 2 columns]"
            ],
            "text/html": [
              "\n",
              "  <div id=\"df-0b029b70-43e4-446a-be02-e3633ef80503\">\n",
              "    <div class=\"colab-df-container\">\n",
              "      <div>\n",
              "<style scoped>\n",
              "    .dataframe tbody tr th:only-of-type {\n",
              "        vertical-align: middle;\n",
              "    }\n",
              "\n",
              "    .dataframe tbody tr th {\n",
              "        vertical-align: top;\n",
              "    }\n",
              "\n",
              "    .dataframe thead th {\n",
              "        text-align: right;\n",
              "    }\n",
              "</style>\n",
              "<table border=\"1\" class=\"dataframe\">\n",
              "  <thead>\n",
              "    <tr style=\"text-align: right;\">\n",
              "      <th></th>\n",
              "      <th>Predictions</th>\n",
              "      <th>Real</th>\n",
              "    </tr>\n",
              "  </thead>\n",
              "  <tbody>\n",
              "    <tr>\n",
              "      <th>0</th>\n",
              "      <td>0</td>\n",
              "      <td>0.0</td>\n",
              "    </tr>\n",
              "    <tr>\n",
              "      <th>1</th>\n",
              "      <td>0</td>\n",
              "      <td>0.0</td>\n",
              "    </tr>\n",
              "    <tr>\n",
              "      <th>2</th>\n",
              "      <td>1</td>\n",
              "      <td>1.0</td>\n",
              "    </tr>\n",
              "    <tr>\n",
              "      <th>3</th>\n",
              "      <td>0</td>\n",
              "      <td>0.0</td>\n",
              "    </tr>\n",
              "    <tr>\n",
              "      <th>4</th>\n",
              "      <td>0</td>\n",
              "      <td>1.0</td>\n",
              "    </tr>\n",
              "    <tr>\n",
              "      <th>...</th>\n",
              "      <td>...</td>\n",
              "      <td>...</td>\n",
              "    </tr>\n",
              "    <tr>\n",
              "      <th>71</th>\n",
              "      <td>0</td>\n",
              "      <td>0.0</td>\n",
              "    </tr>\n",
              "    <tr>\n",
              "      <th>72</th>\n",
              "      <td>1</td>\n",
              "      <td>0.0</td>\n",
              "    </tr>\n",
              "    <tr>\n",
              "      <th>73</th>\n",
              "      <td>1</td>\n",
              "      <td>1.0</td>\n",
              "    </tr>\n",
              "    <tr>\n",
              "      <th>74</th>\n",
              "      <td>1</td>\n",
              "      <td>1.0</td>\n",
              "    </tr>\n",
              "    <tr>\n",
              "      <th>75</th>\n",
              "      <td>0</td>\n",
              "      <td>0.0</td>\n",
              "    </tr>\n",
              "  </tbody>\n",
              "</table>\n",
              "<p>76 rows × 2 columns</p>\n",
              "</div>\n",
              "      <button class=\"colab-df-convert\" onclick=\"convertToInteractive('df-0b029b70-43e4-446a-be02-e3633ef80503')\"\n",
              "              title=\"Convert this dataframe to an interactive table.\"\n",
              "              style=\"display:none;\">\n",
              "        \n",
              "  <svg xmlns=\"http://www.w3.org/2000/svg\" height=\"24px\"viewBox=\"0 0 24 24\"\n",
              "       width=\"24px\">\n",
              "    <path d=\"M0 0h24v24H0V0z\" fill=\"none\"/>\n",
              "    <path d=\"M18.56 5.44l.94 2.06.94-2.06 2.06-.94-2.06-.94-.94-2.06-.94 2.06-2.06.94zm-11 1L8.5 8.5l.94-2.06 2.06-.94-2.06-.94L8.5 2.5l-.94 2.06-2.06.94zm10 10l.94 2.06.94-2.06 2.06-.94-2.06-.94-.94-2.06-.94 2.06-2.06.94z\"/><path d=\"M17.41 7.96l-1.37-1.37c-.4-.4-.92-.59-1.43-.59-.52 0-1.04.2-1.43.59L10.3 9.45l-7.72 7.72c-.78.78-.78 2.05 0 2.83L4 21.41c.39.39.9.59 1.41.59.51 0 1.02-.2 1.41-.59l7.78-7.78 2.81-2.81c.8-.78.8-2.07 0-2.86zM5.41 20L4 18.59l7.72-7.72 1.47 1.35L5.41 20z\"/>\n",
              "  </svg>\n",
              "      </button>\n",
              "      \n",
              "  <style>\n",
              "    .colab-df-container {\n",
              "      display:flex;\n",
              "      flex-wrap:wrap;\n",
              "      gap: 12px;\n",
              "    }\n",
              "\n",
              "    .colab-df-convert {\n",
              "      background-color: #E8F0FE;\n",
              "      border: none;\n",
              "      border-radius: 50%;\n",
              "      cursor: pointer;\n",
              "      display: none;\n",
              "      fill: #1967D2;\n",
              "      height: 32px;\n",
              "      padding: 0 0 0 0;\n",
              "      width: 32px;\n",
              "    }\n",
              "\n",
              "    .colab-df-convert:hover {\n",
              "      background-color: #E2EBFA;\n",
              "      box-shadow: 0px 1px 2px rgba(60, 64, 67, 0.3), 0px 1px 3px 1px rgba(60, 64, 67, 0.15);\n",
              "      fill: #174EA6;\n",
              "    }\n",
              "\n",
              "    [theme=dark] .colab-df-convert {\n",
              "      background-color: #3B4455;\n",
              "      fill: #D2E3FC;\n",
              "    }\n",
              "\n",
              "    [theme=dark] .colab-df-convert:hover {\n",
              "      background-color: #434B5C;\n",
              "      box-shadow: 0px 1px 3px 1px rgba(0, 0, 0, 0.15);\n",
              "      filter: drop-shadow(0px 1px 2px rgba(0, 0, 0, 0.3));\n",
              "      fill: #FFFFFF;\n",
              "    }\n",
              "  </style>\n",
              "\n",
              "      <script>\n",
              "        const buttonEl =\n",
              "          document.querySelector('#df-0b029b70-43e4-446a-be02-e3633ef80503 button.colab-df-convert');\n",
              "        buttonEl.style.display =\n",
              "          google.colab.kernel.accessAllowed ? 'block' : 'none';\n",
              "\n",
              "        async function convertToInteractive(key) {\n",
              "          const element = document.querySelector('#df-0b029b70-43e4-446a-be02-e3633ef80503');\n",
              "          const dataTable =\n",
              "            await google.colab.kernel.invokeFunction('convertToInteractive',\n",
              "                                                     [key], {});\n",
              "          if (!dataTable) return;\n",
              "\n",
              "          const docLinkHtml = 'Like what you see? Visit the ' +\n",
              "            '<a target=\"_blank\" href=https://colab.research.google.com/notebooks/data_table.ipynb>data table notebook</a>'\n",
              "            + ' to learn more about interactive tables.';\n",
              "          element.innerHTML = '';\n",
              "          dataTable['output_type'] = 'display_data';\n",
              "          await google.colab.output.renderOutput(dataTable, element);\n",
              "          const docLink = document.createElement('div');\n",
              "          docLink.innerHTML = docLinkHtml;\n",
              "          element.appendChild(docLink);\n",
              "        }\n",
              "      </script>\n",
              "    </div>\n",
              "  </div>\n",
              "  "
            ]
          },
          "metadata": {},
          "execution_count": 181
        }
      ]
    },
    {
      "cell_type": "code",
      "source": [
        "comb.to_csv(\"Results.csv\", index=None)"
      ],
      "metadata": {
        "id": "Bd4iLI2Se_dG"
      },
      "execution_count": null,
      "outputs": []
    },
    {
      "cell_type": "code",
      "source": [
        "pwd"
      ],
      "metadata": {
        "colab": {
          "base_uri": "https://localhost:8080/",
          "height": 35
        },
        "id": "Xz8qrxQUjgQz",
        "outputId": "54a96563-90b4-484d-ac1c-40531ac7c7f3"
      },
      "execution_count": null,
      "outputs": [
        {
          "output_type": "execute_result",
          "data": {
            "text/plain": [
              "'/content'"
            ],
            "application/vnd.google.colaboratory.intrinsic+json": {
              "type": "string"
            }
          },
          "metadata": {},
          "execution_count": 183
        }
      ]
    },
    {
      "cell_type": "code",
      "source": [
        "# model.save()\n",
        "# model = GraphConvModel(model_dir=\"/content\")"
      ],
      "metadata": {
        "id": "sibysCysfHZS"
      },
      "execution_count": null,
      "outputs": []
    },
    {
      "cell_type": "code",
      "source": [
        "from deepchem.models import GraphConvModel"
      ],
      "metadata": {
        "id": "50jJUmM-kXtt"
      },
      "execution_count": null,
      "outputs": []
    },
    {
      "cell_type": "code",
      "source": [
        "# model = GraphConvModel(1,model_dir=\"/content\")\n",
        "# # model.restore()"
      ],
      "metadata": {
        "id": "SZoJbo6ihqft"
      },
      "execution_count": null,
      "outputs": []
    },
    {
      "cell_type": "code",
      "source": [
        ""
      ],
      "metadata": {
        "id": "YY6rPGIakPvl"
      },
      "execution_count": null,
      "outputs": []
    }
  ],
  "metadata": {
    "accelerator": "GPU",
    "colab": {
      "collapsed_sections": [],
      "name": "Class DeepChem GCNN.ipynb",
      "provenance": [],
      "authorship_tag": "ABX9TyOvIsIDftgwi72ISR/UJAff",
      "include_colab_link": true
    },
    "kernelspec": {
      "display_name": "Python 3",
      "name": "python3"
    },
    "language_info": {
      "name": "python"
    }
  },
  "nbformat": 4,
  "nbformat_minor": 0
}