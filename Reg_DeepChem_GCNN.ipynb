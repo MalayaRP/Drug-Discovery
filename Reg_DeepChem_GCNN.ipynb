{
  "cells": [
    {
      "cell_type": "markdown",
      "metadata": {
        "id": "view-in-github",
        "colab_type": "text"
      },
      "source": [
        "<a href=\"https://colab.research.google.com/github/MalayaRP/Drug-Discovery/blob/main/Reg_DeepChem_GCNN.ipynb\" target=\"_parent\"><img src=\"https://colab.research.google.com/assets/colab-badge.svg\" alt=\"Open In Colab\"/></a>"
      ]
    },
    {
      "cell_type": "code",
      "execution_count": null,
      "metadata": {
        "colab": {
          "base_uri": "https://localhost:8080/"
        },
        "id": "VSB1d_mWLhf_",
        "outputId": "cd883305-c565-4aa9-f7a9-5002124c4c35"
      },
      "outputs": [
        {
          "output_type": "stream",
          "name": "stdout",
          "text": [
            "Collecting rdkit-pypi\n",
            "  Downloading rdkit_pypi-2022.3.2.1-cp37-cp37m-manylinux_2_17_x86_64.manylinux2014_x86_64.whl (22.7 MB)\n",
            "\u001b[K     |████████████████████████████████| 22.7 MB 1.5 MB/s \n",
            "\u001b[?25hRequirement already satisfied: numpy in /usr/local/lib/python3.7/dist-packages (from rdkit-pypi) (1.21.6)\n",
            "Requirement already satisfied: Pillow in /usr/local/lib/python3.7/dist-packages (from rdkit-pypi) (7.1.2)\n",
            "Installing collected packages: rdkit-pypi\n",
            "Successfully installed rdkit-pypi-2022.3.2.1\n"
          ]
        }
      ],
      "source": [
        "!pip install rdkit-pypi"
      ]
    },
    {
      "cell_type": "code",
      "execution_count": null,
      "metadata": {
        "colab": {
          "base_uri": "https://localhost:8080/"
        },
        "id": "jD0EqOLhQjND",
        "outputId": "f2a488d4-3a4b-49fd-a106-9bc59767588b"
      },
      "outputs": [
        {
          "output_type": "stream",
          "name": "stdout",
          "text": [
            "Collecting deepchem[torch]\n",
            "  Downloading deepchem-2.6.1-py3-none-any.whl (608 kB)\n",
            "\u001b[?25l\r\u001b[K     |▌                               | 10 kB 7.3 MB/s eta 0:00:01\r\u001b[K     |█                               | 20 kB 8.8 MB/s eta 0:00:01\r\u001b[K     |█▋                              | 30 kB 7.7 MB/s eta 0:00:01\r\u001b[K     |██▏                             | 40 kB 7.0 MB/s eta 0:00:01\r\u001b[K     |██▊                             | 51 kB 3.5 MB/s eta 0:00:01\r\u001b[K     |███▎                            | 61 kB 4.1 MB/s eta 0:00:01\r\u001b[K     |███▊                            | 71 kB 4.4 MB/s eta 0:00:01\r\u001b[K     |████▎                           | 81 kB 4.5 MB/s eta 0:00:01\r\u001b[K     |████▉                           | 92 kB 5.1 MB/s eta 0:00:01\r\u001b[K     |█████▍                          | 102 kB 4.3 MB/s eta 0:00:01\r\u001b[K     |██████                          | 112 kB 4.3 MB/s eta 0:00:01\r\u001b[K     |██████▌                         | 122 kB 4.3 MB/s eta 0:00:01\r\u001b[K     |███████                         | 133 kB 4.3 MB/s eta 0:00:01\r\u001b[K     |███████▌                        | 143 kB 4.3 MB/s eta 0:00:01\r\u001b[K     |████████                        | 153 kB 4.3 MB/s eta 0:00:01\r\u001b[K     |████████▋                       | 163 kB 4.3 MB/s eta 0:00:01\r\u001b[K     |█████████▏                      | 174 kB 4.3 MB/s eta 0:00:01\r\u001b[K     |█████████▊                      | 184 kB 4.3 MB/s eta 0:00:01\r\u001b[K     |██████████▎                     | 194 kB 4.3 MB/s eta 0:00:01\r\u001b[K     |██████████▊                     | 204 kB 4.3 MB/s eta 0:00:01\r\u001b[K     |███████████▎                    | 215 kB 4.3 MB/s eta 0:00:01\r\u001b[K     |███████████▉                    | 225 kB 4.3 MB/s eta 0:00:01\r\u001b[K     |████████████▍                   | 235 kB 4.3 MB/s eta 0:00:01\r\u001b[K     |█████████████                   | 245 kB 4.3 MB/s eta 0:00:01\r\u001b[K     |█████████████▌                  | 256 kB 4.3 MB/s eta 0:00:01\r\u001b[K     |██████████████                  | 266 kB 4.3 MB/s eta 0:00:01\r\u001b[K     |██████████████▌                 | 276 kB 4.3 MB/s eta 0:00:01\r\u001b[K     |███████████████                 | 286 kB 4.3 MB/s eta 0:00:01\r\u001b[K     |███████████████▋                | 296 kB 4.3 MB/s eta 0:00:01\r\u001b[K     |████████████████▏               | 307 kB 4.3 MB/s eta 0:00:01\r\u001b[K     |████████████████▊               | 317 kB 4.3 MB/s eta 0:00:01\r\u001b[K     |█████████████████▎              | 327 kB 4.3 MB/s eta 0:00:01\r\u001b[K     |█████████████████▊              | 337 kB 4.3 MB/s eta 0:00:01\r\u001b[K     |██████████████████▎             | 348 kB 4.3 MB/s eta 0:00:01\r\u001b[K     |██████████████████▉             | 358 kB 4.3 MB/s eta 0:00:01\r\u001b[K     |███████████████████▍            | 368 kB 4.3 MB/s eta 0:00:01\r\u001b[K     |████████████████████            | 378 kB 4.3 MB/s eta 0:00:01\r\u001b[K     |████████████████████▌           | 389 kB 4.3 MB/s eta 0:00:01\r\u001b[K     |█████████████████████           | 399 kB 4.3 MB/s eta 0:00:01\r\u001b[K     |█████████████████████▌          | 409 kB 4.3 MB/s eta 0:00:01\r\u001b[K     |██████████████████████          | 419 kB 4.3 MB/s eta 0:00:01\r\u001b[K     |██████████████████████▋         | 430 kB 4.3 MB/s eta 0:00:01\r\u001b[K     |███████████████████████▏        | 440 kB 4.3 MB/s eta 0:00:01\r\u001b[K     |███████████████████████▊        | 450 kB 4.3 MB/s eta 0:00:01\r\u001b[K     |████████████████████████▎       | 460 kB 4.3 MB/s eta 0:00:01\r\u001b[K     |████████████████████████▉       | 471 kB 4.3 MB/s eta 0:00:01\r\u001b[K     |█████████████████████████▎      | 481 kB 4.3 MB/s eta 0:00:01\r\u001b[K     |█████████████████████████▉      | 491 kB 4.3 MB/s eta 0:00:01\r\u001b[K     |██████████████████████████▍     | 501 kB 4.3 MB/s eta 0:00:01\r\u001b[K     |███████████████████████████     | 512 kB 4.3 MB/s eta 0:00:01\r\u001b[K     |███████████████████████████▌    | 522 kB 4.3 MB/s eta 0:00:01\r\u001b[K     |████████████████████████████    | 532 kB 4.3 MB/s eta 0:00:01\r\u001b[K     |████████████████████████████▌   | 542 kB 4.3 MB/s eta 0:00:01\r\u001b[K     |█████████████████████████████   | 552 kB 4.3 MB/s eta 0:00:01\r\u001b[K     |█████████████████████████████▋  | 563 kB 4.3 MB/s eta 0:00:01\r\u001b[K     |██████████████████████████████▏ | 573 kB 4.3 MB/s eta 0:00:01\r\u001b[K     |██████████████████████████████▊ | 583 kB 4.3 MB/s eta 0:00:01\r\u001b[K     |███████████████████████████████▎| 593 kB 4.3 MB/s eta 0:00:01\r\u001b[K     |███████████████████████████████▉| 604 kB 4.3 MB/s eta 0:00:01\r\u001b[K     |████████████████████████████████| 608 kB 4.3 MB/s \n",
            "\u001b[?25hRequirement already satisfied: joblib in /usr/local/lib/python3.7/dist-packages (from deepchem[torch]) (1.1.0)\n",
            "Requirement already satisfied: scipy in /usr/local/lib/python3.7/dist-packages (from deepchem[torch]) (1.4.1)\n",
            "Requirement already satisfied: pandas in /usr/local/lib/python3.7/dist-packages (from deepchem[torch]) (1.3.5)\n",
            "Requirement already satisfied: rdkit-pypi in /usr/local/lib/python3.7/dist-packages (from deepchem[torch]) (2022.3.2.1)\n",
            "Requirement already satisfied: numpy>=1.21 in /usr/local/lib/python3.7/dist-packages (from deepchem[torch]) (1.21.6)\n",
            "Requirement already satisfied: scikit-learn in /usr/local/lib/python3.7/dist-packages (from deepchem[torch]) (1.0.2)\n",
            "Collecting dgllife\n",
            "  Downloading dgllife-0.2.9.tar.gz (138 kB)\n",
            "\u001b[K     |████████████████████████████████| 138 kB 44.9 MB/s \n",
            "\u001b[?25hCollecting dgl\n",
            "  Downloading dgl-0.6.1-cp37-cp37m-manylinux1_x86_64.whl (4.4 MB)\n",
            "\u001b[K     |████████████████████████████████| 4.4 MB 41.2 MB/s \n",
            "\u001b[?25hRequirement already satisfied: torch in /usr/local/lib/python3.7/dist-packages (from deepchem[torch]) (1.11.0+cu113)\n",
            "Requirement already satisfied: torchvision in /usr/local/lib/python3.7/dist-packages (from deepchem[torch]) (0.12.0+cu113)\n",
            "Requirement already satisfied: networkx>=2.1 in /usr/local/lib/python3.7/dist-packages (from dgl->deepchem[torch]) (2.6.3)\n",
            "Requirement already satisfied: requests>=2.19.0 in /usr/local/lib/python3.7/dist-packages (from dgl->deepchem[torch]) (2.23.0)\n",
            "Requirement already satisfied: chardet<4,>=3.0.2 in /usr/local/lib/python3.7/dist-packages (from requests>=2.19.0->dgl->deepchem[torch]) (3.0.4)\n",
            "Requirement already satisfied: idna<3,>=2.5 in /usr/local/lib/python3.7/dist-packages (from requests>=2.19.0->dgl->deepchem[torch]) (2.10)\n",
            "Requirement already satisfied: certifi>=2017.4.17 in /usr/local/lib/python3.7/dist-packages (from requests>=2.19.0->dgl->deepchem[torch]) (2021.10.8)\n",
            "Requirement already satisfied: urllib3!=1.25.0,!=1.25.1,<1.26,>=1.21.1 in /usr/local/lib/python3.7/dist-packages (from requests>=2.19.0->dgl->deepchem[torch]) (1.24.3)\n",
            "Requirement already satisfied: tqdm in /usr/local/lib/python3.7/dist-packages (from dgllife->deepchem[torch]) (4.64.0)\n",
            "Requirement already satisfied: hyperopt in /usr/local/lib/python3.7/dist-packages (from dgllife->deepchem[torch]) (0.1.2)\n",
            "Requirement already satisfied: threadpoolctl>=2.0.0 in /usr/local/lib/python3.7/dist-packages (from scikit-learn->deepchem[torch]) (3.1.0)\n",
            "Requirement already satisfied: six in /usr/local/lib/python3.7/dist-packages (from hyperopt->dgllife->deepchem[torch]) (1.15.0)\n",
            "Requirement already satisfied: pymongo in /usr/local/lib/python3.7/dist-packages (from hyperopt->dgllife->deepchem[torch]) (4.1.1)\n",
            "Requirement already satisfied: future in /usr/local/lib/python3.7/dist-packages (from hyperopt->dgllife->deepchem[torch]) (0.16.0)\n",
            "Requirement already satisfied: pytz>=2017.3 in /usr/local/lib/python3.7/dist-packages (from pandas->deepchem[torch]) (2022.1)\n",
            "Requirement already satisfied: python-dateutil>=2.7.3 in /usr/local/lib/python3.7/dist-packages (from pandas->deepchem[torch]) (2.8.2)\n",
            "Requirement already satisfied: Pillow in /usr/local/lib/python3.7/dist-packages (from rdkit-pypi->deepchem[torch]) (7.1.2)\n",
            "Requirement already satisfied: typing-extensions in /usr/local/lib/python3.7/dist-packages (from torch->deepchem[torch]) (4.2.0)\n",
            "Building wheels for collected packages: dgllife\n",
            "  Building wheel for dgllife (setup.py) ... \u001b[?25l\u001b[?25hdone\n",
            "  Created wheel for dgllife: filename=dgllife-0.2.9-py3-none-any.whl size=219056 sha256=711c1139e25cd7830124b6673771d8f1dacdbe0de4ad40b28fe41eca0e256b6e\n",
            "  Stored in directory: /root/.cache/pip/wheels/34/83/11/9772c74b559d9182c9083362e8ba8b0201c4963e41e03859fe\n",
            "Successfully built dgllife\n",
            "Installing collected packages: dgllife, dgl, deepchem\n",
            "Successfully installed deepchem-2.6.1 dgl-0.6.1 dgllife-0.2.9\n"
          ]
        }
      ],
      "source": [
        "pip install --pre deepchem[torch]"
      ]
    },
    {
      "cell_type": "code",
      "execution_count": null,
      "metadata": {
        "id": "svfS3y1VLhSd"
      },
      "outputs": [],
      "source": [
        "from rdkit import Chem\n",
        "from rdkit.Chem import Draw\n",
        "from rdkit.Chem.Draw import MolsToGridImage\n",
        "import deepchem as dc"
      ]
    },
    {
      "cell_type": "code",
      "execution_count": null,
      "metadata": {
        "colab": {
          "base_uri": "https://localhost:8080/"
        },
        "id": "4jxh5VVU9Cj_",
        "outputId": "7f1fb3ea-1d49-4c2f-9b45-4340807cfbdd"
      },
      "outputs": [
        {
          "output_type": "stream",
          "name": "stdout",
          "text": [
            "--2022-05-21 08:09:39--  https://raw.githubusercontent.com/deepchem/deepchem/master/datasets/delaney-processed.csv\n",
            "Resolving raw.githubusercontent.com (raw.githubusercontent.com)... 185.199.111.133, 185.199.108.133, 185.199.109.133, ...\n",
            "Connecting to raw.githubusercontent.com (raw.githubusercontent.com)|185.199.111.133|:443... connected.\n",
            "HTTP request sent, awaiting response... 200 OK\n",
            "Length: 96699 (94K) [text/plain]\n",
            "Saving to: ‘delaney-processed.csv’\n",
            "\n",
            "delaney-processed.c 100%[===================>]  94.43K  --.-KB/s    in 0.02s   \n",
            "\n",
            "2022-05-21 08:09:40 (5.27 MB/s) - ‘delaney-processed.csv’ saved [96699/96699]\n",
            "\n"
          ]
        }
      ],
      "source": [
        "\n",
        "!wget https://raw.githubusercontent.com/deepchem/deepchem/master/datasets/delaney-processed.csv"
      ]
    },
    {
      "cell_type": "code",
      "execution_count": null,
      "metadata": {
        "colab": {
          "base_uri": "https://localhost:8080/"
        },
        "id": "L2EvY8Fq9R-1",
        "outputId": "67f61185-d8e0-4621-9eff-6457f0b9dcbf"
      },
      "outputs": [
        {
          "output_type": "stream",
          "name": "stdout",
          "text": [
            "Requirement already satisfied: deepchem in /usr/local/lib/python3.7/dist-packages (2.6.1)\n",
            "Requirement already satisfied: numpy>=1.21 in /usr/local/lib/python3.7/dist-packages (from deepchem) (1.21.6)\n",
            "Requirement already satisfied: joblib in /usr/local/lib/python3.7/dist-packages (from deepchem) (1.1.0)\n",
            "Requirement already satisfied: rdkit-pypi in /usr/local/lib/python3.7/dist-packages (from deepchem) (2022.3.2.1)\n",
            "Requirement already satisfied: scikit-learn in /usr/local/lib/python3.7/dist-packages (from deepchem) (1.0.2)\n",
            "Requirement already satisfied: scipy in /usr/local/lib/python3.7/dist-packages (from deepchem) (1.4.1)\n",
            "Requirement already satisfied: pandas in /usr/local/lib/python3.7/dist-packages (from deepchem) (1.3.5)\n",
            "Requirement already satisfied: pytz>=2017.3 in /usr/local/lib/python3.7/dist-packages (from pandas->deepchem) (2022.1)\n",
            "Requirement already satisfied: python-dateutil>=2.7.3 in /usr/local/lib/python3.7/dist-packages (from pandas->deepchem) (2.8.2)\n",
            "Requirement already satisfied: six>=1.5 in /usr/local/lib/python3.7/dist-packages (from python-dateutil>=2.7.3->pandas->deepchem) (1.15.0)\n",
            "Requirement already satisfied: Pillow in /usr/local/lib/python3.7/dist-packages (from rdkit-pypi->deepchem) (7.1.2)\n",
            "Requirement already satisfied: threadpoolctl>=2.0.0 in /usr/local/lib/python3.7/dist-packages (from scikit-learn->deepchem) (3.1.0)\n"
          ]
        }
      ],
      "source": [
        "!pip install deepchem"
      ]
    },
    {
      "cell_type": "code",
      "execution_count": null,
      "metadata": {
        "id": "SX0agzaDGui0",
        "colab": {
          "base_uri": "https://localhost:8080/"
        },
        "outputId": "9fc9f624-15c1-4a3e-edc9-0245766158e3"
      },
      "outputs": [
        {
          "output_type": "stream",
          "name": "stderr",
          "text": [
            "deepchem.utils.save has been deprecated.\n",
            "The utilities in save.py are moved to deepchem.utils.data_utils or deepchem.utils.genomics_utils.\n"
          ]
        }
      ],
      "source": [
        "from deepchem.utils.save import load_from_disk\n",
        "\n",
        "dataset_file= \"delaney-processed.csv\"\n",
        "dataset = load_from_disk(dataset_file)"
      ]
    },
    {
      "cell_type": "code",
      "execution_count": null,
      "metadata": {
        "colab": {
          "base_uri": "https://localhost:8080/"
        },
        "id": "strulIvV9iHs",
        "outputId": "ea2349f3-991d-4827-d438-feca2282786e"
      },
      "outputs": [
        {
          "output_type": "stream",
          "name": "stdout",
          "text": [
            "['Compound ID' 'ESOL predicted log solubility in mols per litre'\n",
            " 'Minimum Degree' 'Molecular Weight' 'Number of H-Bond Donors'\n",
            " 'Number of Rings' 'Number of Rotatable Bonds' 'Polar Surface Area'\n",
            " 'measured log solubility in mols per litre' 'smiles']\n"
          ]
        }
      ],
      "source": [
        "print(dataset.columns.values)"
      ]
    },
    {
      "cell_type": "code",
      "execution_count": null,
      "metadata": {
        "id": "1TS1Dcpn9lvc"
      },
      "outputs": [],
      "source": [
        "dataset.shape[0]\n",
        "import seaborn as sns\n",
        "from matplotlib import pyplot as plt"
      ]
    },
    {
      "cell_type": "code",
      "execution_count": null,
      "metadata": {
        "colab": {
          "base_uri": "https://localhost:8080/"
        },
        "id": "w7Q-sn-uHQcI",
        "outputId": "06a1819a-0aed-488c-8c15-80ab4c75dd40"
      },
      "outputs": [
        {
          "output_type": "execute_result",
          "data": {
            "text/plain": [
              "0      -0.770\n",
              "1      -3.300\n",
              "2      -2.060\n",
              "3      -7.870\n",
              "4      -1.330\n",
              "        ...  \n",
              "1123   -1.710\n",
              "1124    0.106\n",
              "1125   -3.091\n",
              "1126   -3.180\n",
              "1127   -4.522\n",
              "Name: measured log solubility in mols per litre, Length: 1128, dtype: float64"
            ]
          },
          "metadata": {},
          "execution_count": 9
        }
      ],
      "source": [
        "dataset[\"measured log solubility in mols per litre\"]"
      ]
    },
    {
      "cell_type": "code",
      "execution_count": null,
      "metadata": {
        "colab": {
          "base_uri": "https://localhost:8080/",
          "height": 296
        },
        "id": "30Q8Cga8HjLP",
        "outputId": "7289adca-5fa6-4df3-d309-37c534e46b49"
      },
      "outputs": [
        {
          "output_type": "execute_result",
          "data": {
            "text/plain": [
              "<matplotlib.axes._subplots.AxesSubplot at 0x7fc9a83ef610>"
            ]
          },
          "metadata": {},
          "execution_count": 10
        },
        {
          "output_type": "display_data",
          "data": {
            "text/plain": [
              "<Figure size 432x288 with 1 Axes>"
            ],
            "image/png": "[encoded data removed]"
          },
          "metadata": {
            "needs_background": "light"
          }
        }
      ],
      "source": [
        "plt.ylabel(\"Num Compounds\")\n",
        "plt.xlabel(\"Log S\")\n",
        "sns.histplot(dataset[\"measured log solubility in mols per litre\"])"
      ]
    },
    {
      "cell_type": "code",
      "execution_count": null,
      "metadata": {
        "id": "-3WZQj9wHunr"
      },
      "outputs": [],
      "source": [
        "import deepchem as dc\n",
        "\n",
        "featurizer = dc.feat.ConvMolFeaturizer()"
      ]
    },
    {
      "cell_type": "code",
      "execution_count": null,
      "metadata": {
        "id": "JmE43bTeIjwq"
      },
      "outputs": [],
      "source": [
        "# featurizer"
      ]
    },
    {
      "cell_type": "code",
      "execution_count": null,
      "metadata": {
        "colab": {
          "base_uri": "https://localhost:8080/"
        },
        "id": "g6J-AN-BIl6W",
        "outputId": "364891b5-ed2e-4c62-aff9-dfca4825f58a"
      },
      "outputs": [
        {
          "output_type": "stream",
          "name": "stderr",
          "text": [
            "smiles_field is deprecated and will be removed in a future version of DeepChem.Use feature_field instead.\n",
            "/usr/local/lib/python3.7/dist-packages/deepchem/data/data_loader.py:163: FutureWarning: featurize() is deprecated and has been renamed to create_dataset().featurize() will be removed in DeepChem 3.0\n",
            "  \"featurize() will be removed in DeepChem 3.0\", FutureWarning)\n"
          ]
        },
        {
          "output_type": "execute_result",
          "data": {
            "text/plain": [
              "<DiskDataset X.shape: (1128,), y.shape: (1128, 1), w.shape: (1128, 1), task_names: ['measured log solubility in mols per litre']>"
            ]
          },
          "metadata": {},
          "execution_count": 16
        }
      ],
      "source": [
        "loader = dc.data.CSVLoader(\n",
        "      tasks=[\"measured log solubility in mols per litre\"], smiles_field=\"smiles\",\n",
        "      featurizer=featurizer)\n",
        "dataset = loader.featurize(dataset_file)\n",
        "dataset"
      ]
    },
    {
      "cell_type": "code",
      "execution_count": null,
      "metadata": {
        "colab": {
          "base_uri": "https://localhost:8080/"
        },
        "id": "rjAa_lsVJXSl",
        "outputId": "91fd1d29-28c2-426b-ea85-d80fc337ce84"
      },
      "outputs": [
        {
          "output_type": "execute_result",
          "data": {
            "text/plain": [
              "array(['OCC3OC(OCC2OC(OC(C#N)c1ccccc1)C(O)C(O)C2O)C(O)C(O)C3O ',\n",
              "       'Cc1occc1C(=O)Nc2ccccc2', 'CC(C)=CCCC(C)=CC(=O)', ...,\n",
              "       'CCSCCSP(=S)(OC)OC', 'CCC(C)C',\n",
              "       'COP(=O)(OC)OC(=CCl)c1cc(Cl)c(Cl)cc1Cl'], dtype=object)"
            ]
          },
          "metadata": {},
          "execution_count": 17
        }
      ],
      "source": [
        "dataset.ids"
      ]
    },
    {
      "cell_type": "code",
      "execution_count": null,
      "metadata": {
        "id": "l6I2kGvVJZeC"
      },
      "outputs": [],
      "source": [
        "splitter = dc.splits.ScaffoldSplitter()\n",
        "train_dataset, valid_dataset, test_dataset = splitter.train_valid_test_split(\n",
        "    dataset)"
      ]
    },
    {
      "cell_type": "code",
      "execution_count": null,
      "metadata": {
        "colab": {
          "base_uri": "https://localhost:8080/"
        },
        "id": "cM5zPbf_Kn3J",
        "outputId": "93ee145a-5f1f-4d48-b8bc-9cf723ee22d4"
      },
      "outputs": [
        {
          "output_type": "execute_result",
          "data": {
            "text/plain": [
              "<DiskDataset X.shape: (113,), y.shape: (113, 1), w.shape: (113, 1), ids: ['c1cc2ccc3cccc4ccc(c1)c2c34' 'Cc1cc(=O)[nH]c(=S)[nH]1'\n",
              " 'Oc1ccc(cc1)C2(OC(=O)c3ccccc23)c4ccc(O)cc4 ' ...\n",
              " 'c1ccc2c(c1)ccc3c2ccc4c5ccccc5ccc43' 'Cc1occc1C(=O)Nc2ccccc2'\n",
              " 'OCC3OC(OCC2OC(OC(C#N)c1ccccc1)C(O)C(O)C2O)C(O)C(O)C3O '], task_names: ['measured log solubility in mols per litre']>"
            ]
          },
          "metadata": {},
          "execution_count": 16
        }
      ],
      "source": [
        "test_dataset."
      ]
    },
    {
      "cell_type": "code",
      "execution_count": null,
      "metadata": {
        "id": "_lDWgr6VK36_"
      },
      "outputs": [],
      "source": [
        "train_mols = [Chem.MolFromSmiles(compound)\n",
        "              for compound in train_dataset.ids]"
      ]
    },
    {
      "cell_type": "code",
      "execution_count": null,
      "metadata": {
        "id": "qkkxnM5mM-Lb"
      },
      "outputs": [],
      "source": [
        "## transformers is used to normalise the data\n",
        "transformers = [dc.trans.NormalizationTransformer(transform_y=True, dataset=train_dataset)]\n",
        "\n",
        "for dataset in [train_dataset, valid_dataset, test_dataset]:\n",
        "  for transformer in transformers:\n",
        "      dataset = transformer.transform(dataset)"
      ]
    },
    {
      "cell_type": "code",
      "execution_count": null,
      "metadata": {
        "id": "6yP_rIPrO1D2"
      },
      "outputs": [],
      "source": [
        "from deepchem.models.layers import GraphPool, GraphGather"
      ]
    },
    {
      "cell_type": "code",
      "execution_count": null,
      "metadata": {
        "id": "Tq2Yq0_9S1h3"
      },
      "outputs": [],
      "source": [
        "model = dc.models.GraphConvModel(n_tasks=1, mode='regression', dropout=0.2)\n",
        "model.fit(train_dataset, nb_epoch=100)"
      ]
    },
    {
      "cell_type": "code",
      "execution_count": null,
      "metadata": {
        "id": "cjRpi4YVZDI8",
        "colab": {
          "base_uri": "https://localhost:8080/"
        },
        "outputId": "2cf9e1aa-7b43-4ef0-96d5-d1efd499c8fc"
      },
      "outputs": [
        {
          "output_type": "stream",
          "name": "stdout",
          "text": [
            "train:  {'pearson_r2_score': 0.911555213211349}\n",
            "test:  {'pearson_r2_score': 0.7104760150827695}\n"
          ]
        }
      ],
      "source": [
        "metric = dc.metrics.Metric(dc.metrics.pearson_r2_score)\n",
        "print(\"train: \",model.evaluate(train_dataset, [metric], transformers))\n",
        "print(\"test: \",model.evaluate(test_dataset, [metric], transformers))"
      ]
    },
    {
      "cell_type": "code",
      "source": [
        "smiles = ['COC(C)(C)CCCC(C)CC=CC(C)=CC(=O)OC(C)C',\n",
        "'CCOC(=O)CC',\n",
        "'CSc1nc(NC(C)C)nc(NC(C)C)n1',\n",
        "'CC(C#C)N(C)C(=O)Nc1ccc(Cl)cc1',\n",
        "'Cc1cc2ccccc2cc1C']"
      ],
      "metadata": {
        "id": "HiXGlDnMceUO"
      },
      "execution_count": null,
      "outputs": []
    },
    {
      "cell_type": "code",
      "source": [
        "from rdkit import Chem\n",
        "mols = [Chem.MolFromSmiles(s) for s in smiles]\n",
        "featurizer = dc.feat.ConvMolFeaturizer()\n",
        "x = featurizer.featurize(mols)\n",
        "predicted_solubility = model.predict_on_batch(x)\n",
        "predicted_solubility"
      ],
      "metadata": {
        "colab": {
          "base_uri": "https://localhost:8080/"
        },
        "id": "4l4sDhJIc0Xb",
        "outputId": "430bca57-6b6a-4a87-ddad-7dfbe18f66f2"
      },
      "execution_count": null,
      "outputs": [
        {
          "output_type": "execute_result",
          "data": {
            "text/plain": [
              "array([[-4.6868734 ],\n",
              "       [ 0.66065794],\n",
              "       [-2.1532826 ],\n",
              "       [-3.8575907 ],\n",
              "       [-3.5967016 ]], dtype=float32)"
            ]
          },
          "metadata": {},
          "execution_count": 27
        }
      ]
    },
    {
      "cell_type": "code",
      "source": [
        ""
      ],
      "metadata": {
        "id": "kPGUhJp6c-Vq"
      },
      "execution_count": null,
      "outputs": []
    }
  ],
  "metadata": {
    "accelerator": "GPU",
    "colab": {
      "collapsed_sections": [],
      "name": "Reg DeepChem GCNN.ipynb",
      "provenance": [],
      "authorship_tag": "ABX9TyPwWOJWoL4f8FsxpeGdyc00",
      "include_colab_link": true
    },
    "kernelspec": {
      "display_name": "Python 3",
      "name": "python3"
    },
    "language_info": {
      "name": "python"
    }
  },
  "nbformat": 4,
  "nbformat_minor": 0
}